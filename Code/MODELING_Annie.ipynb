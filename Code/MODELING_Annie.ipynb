{
 "cells": [
  {
   "cell_type": "markdown",
   "id": "664eae5b-fb93-4cc0-b4fd-2515bd436c7a",
   "metadata": {},
   "source": [
    "# Modeling"
   ]
  },
  {
   "cell_type": "markdown",
   "id": "da072e57-7f9d-4212-946e-370a7c206a58",
   "metadata": {},
   "source": [
    "## Hans"
   ]
  },
  {
   "cell_type": "code",
   "execution_count": null,
   "id": "d58ac35b-cf88-4bde-aaa6-a8dee22e262f",
   "metadata": {},
   "outputs": [],
   "source": []
  },
  {
   "cell_type": "code",
   "execution_count": null,
   "id": "4aafdf1f-4060-420b-a1d3-bb9fb6eb9eaa",
   "metadata": {},
   "outputs": [],
   "source": []
  },
  {
   "cell_type": "code",
   "execution_count": null,
   "id": "ecd85a9d-cd7c-4628-bfb6-4d08be2c2f74",
   "metadata": {},
   "outputs": [],
   "source": []
  },
  {
   "cell_type": "code",
   "execution_count": null,
   "id": "df0ed3bc-db5b-407d-96d7-47010788fa32",
   "metadata": {},
   "outputs": [],
   "source": []
  },
  {
   "cell_type": "code",
   "execution_count": null,
   "id": "96215669-b637-4624-8790-0b3443e2e094",
   "metadata": {},
   "outputs": [],
   "source": []
  },
  {
   "cell_type": "code",
   "execution_count": null,
   "id": "4a5a1589-356c-4ce4-b213-1c4353deb1fb",
   "metadata": {},
   "outputs": [],
   "source": []
  },
  {
   "cell_type": "code",
   "execution_count": null,
   "id": "cd30421f-97df-4d72-8170-f6c1a0a42a41",
   "metadata": {},
   "outputs": [],
   "source": []
  },
  {
   "cell_type": "code",
   "execution_count": null,
   "id": "b6ff6a4f-4e65-4dc6-9625-ce13042878b6",
   "metadata": {},
   "outputs": [],
   "source": []
  },
  {
   "cell_type": "code",
   "execution_count": null,
   "id": "da253ab2-380d-45ed-b8e5-d211105cb854",
   "metadata": {},
   "outputs": [],
   "source": []
  },
  {
   "cell_type": "code",
   "execution_count": null,
   "id": "7f497657-c901-4c6f-9d9b-3c480b705f8f",
   "metadata": {},
   "outputs": [],
   "source": []
  },
  {
   "cell_type": "code",
   "execution_count": null,
   "id": "2cad43cf-c42e-4f3a-9a3d-b6d8fb5b7b74",
   "metadata": {},
   "outputs": [],
   "source": []
  },
  {
   "cell_type": "code",
   "execution_count": null,
   "id": "7878edc2-30c1-41e2-92f3-42b580f8f075",
   "metadata": {},
   "outputs": [],
   "source": []
  },
  {
   "cell_type": "code",
   "execution_count": null,
   "id": "4b95e749-07e3-4444-b458-f81a0a010c7f",
   "metadata": {},
   "outputs": [],
   "source": []
  },
  {
   "cell_type": "code",
   "execution_count": null,
   "id": "d310d33b-8569-485b-b6ec-ee2cbe1be583",
   "metadata": {},
   "outputs": [],
   "source": []
  },
  {
   "cell_type": "code",
   "execution_count": null,
   "id": "b88f038e-42bb-4803-aee2-06d6e6b37b44",
   "metadata": {},
   "outputs": [],
   "source": []
  },
  {
   "cell_type": "code",
   "execution_count": null,
   "id": "699100aa-3ae0-4681-89ed-be522c6c741b",
   "metadata": {},
   "outputs": [],
   "source": []
  },
  {
   "cell_type": "code",
   "execution_count": null,
   "id": "be1fd617-af89-450b-bdea-1a606afb09d3",
   "metadata": {},
   "outputs": [],
   "source": []
  },
  {
   "cell_type": "code",
   "execution_count": null,
   "id": "99737e88-17e2-4713-858a-085458934976",
   "metadata": {},
   "outputs": [],
   "source": []
  },
  {
   "cell_type": "code",
   "execution_count": null,
   "id": "a32d03a6-26b8-4b9c-9f7e-c9d41a65a68d",
   "metadata": {},
   "outputs": [],
   "source": []
  },
  {
   "cell_type": "code",
   "execution_count": null,
   "id": "dafcdd2d-1183-4845-93d2-8e289235742c",
   "metadata": {},
   "outputs": [],
   "source": []
  },
  {
   "cell_type": "code",
   "execution_count": null,
   "id": "a95bda74-439b-48f2-a64d-90b228dbd825",
   "metadata": {},
   "outputs": [],
   "source": []
  },
  {
   "cell_type": "code",
   "execution_count": null,
   "id": "5f22f28b-37da-4ecf-a8cf-4d47d388c067",
   "metadata": {},
   "outputs": [],
   "source": []
  },
  {
   "cell_type": "code",
   "execution_count": null,
   "id": "614e7bd5-47e2-499c-9e24-7e189038f510",
   "metadata": {},
   "outputs": [],
   "source": []
  },
  {
   "cell_type": "code",
   "execution_count": null,
   "id": "e59d7257-228a-4183-8b4b-5d61c14bd964",
   "metadata": {},
   "outputs": [],
   "source": []
  },
  {
   "cell_type": "code",
   "execution_count": null,
   "id": "185fe690-133a-42ed-88e4-3492646c68e2",
   "metadata": {},
   "outputs": [],
   "source": []
  },
  {
   "cell_type": "code",
   "execution_count": null,
   "id": "23749665-247a-4d8e-811d-287e56382247",
   "metadata": {},
   "outputs": [],
   "source": []
  },
  {
   "cell_type": "code",
   "execution_count": null,
   "id": "9219da48-3c1a-4c2d-b4cd-0ff85b10712e",
   "metadata": {},
   "outputs": [],
   "source": []
  },
  {
   "cell_type": "code",
   "execution_count": null,
   "id": "82f7bf68-3f13-4ce0-ac0d-d008932f1cbd",
   "metadata": {},
   "outputs": [],
   "source": []
  },
  {
   "cell_type": "code",
   "execution_count": null,
   "id": "29baacb4-1494-4631-860d-5dedf05221cb",
   "metadata": {},
   "outputs": [],
   "source": []
  },
  {
   "cell_type": "code",
   "execution_count": null,
   "id": "2ecbf57e-49c6-40b3-9caa-cd34dc192bbe",
   "metadata": {},
   "outputs": [],
   "source": []
  },
  {
   "cell_type": "code",
   "execution_count": null,
   "id": "05bc3559-dc86-49af-bcf0-a66732b3e40b",
   "metadata": {},
   "outputs": [],
   "source": []
  },
  {
   "cell_type": "code",
   "execution_count": null,
   "id": "498ac143-744c-48f0-b77f-39ec7934fc7b",
   "metadata": {},
   "outputs": [],
   "source": []
  },
  {
   "cell_type": "code",
   "execution_count": null,
   "id": "421042a4-8882-4814-aea7-4ef36d0c12fe",
   "metadata": {},
   "outputs": [],
   "source": []
  },
  {
   "cell_type": "code",
   "execution_count": null,
   "id": "1654c2f9-e795-4592-8b60-1fd6a916b97a",
   "metadata": {},
   "outputs": [],
   "source": []
  },
  {
   "cell_type": "code",
   "execution_count": null,
   "id": "edec67cd-f8f1-4aa1-8d7b-e5f98df2dc48",
   "metadata": {},
   "outputs": [],
   "source": []
  },
  {
   "cell_type": "code",
   "execution_count": null,
   "id": "caa34103-67c7-4193-9736-f4f67fa183b2",
   "metadata": {},
   "outputs": [],
   "source": []
  },
  {
   "cell_type": "code",
   "execution_count": null,
   "id": "c5e020e5-4d60-4e29-85e1-97958bcaacc1",
   "metadata": {},
   "outputs": [],
   "source": []
  },
  {
   "cell_type": "code",
   "execution_count": null,
   "id": "6960f672-f6ff-4ff6-ada0-8dde217bb00c",
   "metadata": {},
   "outputs": [],
   "source": []
  },
  {
   "cell_type": "code",
   "execution_count": null,
   "id": "b9fb3e6a-3c4c-4699-bcea-28f5c11dc05d",
   "metadata": {},
   "outputs": [],
   "source": []
  },
  {
   "cell_type": "code",
   "execution_count": null,
   "id": "d5d5a030-e6d8-4e20-883d-7ebed488dbb8",
   "metadata": {},
   "outputs": [],
   "source": []
  },
  {
   "cell_type": "code",
   "execution_count": null,
   "id": "ad9a9ac4-028a-47a4-b12f-bec7f0c56c2f",
   "metadata": {},
   "outputs": [],
   "source": []
  },
  {
   "cell_type": "code",
   "execution_count": null,
   "id": "162413e5-0503-4f0d-960e-dec04301c843",
   "metadata": {},
   "outputs": [],
   "source": []
  },
  {
   "cell_type": "code",
   "execution_count": null,
   "id": "77183d23-7371-4325-a170-e961435cb7c8",
   "metadata": {},
   "outputs": [],
   "source": []
  },
  {
   "cell_type": "code",
   "execution_count": null,
   "id": "495a7c5f-db83-44c0-aa74-a5cb95c8379a",
   "metadata": {},
   "outputs": [],
   "source": []
  },
  {
   "cell_type": "code",
   "execution_count": null,
   "id": "e7ff5681-10bb-447f-ba13-f47b47b37a8c",
   "metadata": {},
   "outputs": [],
   "source": []
  },
  {
   "cell_type": "code",
   "execution_count": null,
   "id": "849e6645-0a22-4f34-9933-6db23c3b74bb",
   "metadata": {},
   "outputs": [],
   "source": []
  },
  {
   "cell_type": "code",
   "execution_count": null,
   "id": "a24ca6d8-05b8-46fe-8fab-f365879074c6",
   "metadata": {},
   "outputs": [],
   "source": []
  },
  {
   "cell_type": "code",
   "execution_count": null,
   "id": "75116693-8bfb-418d-972f-ef5c1305864b",
   "metadata": {},
   "outputs": [],
   "source": []
  },
  {
   "cell_type": "code",
   "execution_count": null,
   "id": "76c8507b-657f-4579-8253-b5b2efb70cbe",
   "metadata": {},
   "outputs": [],
   "source": []
  },
  {
   "cell_type": "code",
   "execution_count": null,
   "id": "5c4dee69-d364-4ffc-b620-0f0374352290",
   "metadata": {},
   "outputs": [],
   "source": []
  },
  {
   "cell_type": "code",
   "execution_count": null,
   "id": "1e233da7-57b5-49ef-94cd-aff11d5e4bf6",
   "metadata": {},
   "outputs": [],
   "source": []
  },
  {
   "cell_type": "code",
   "execution_count": null,
   "id": "59325d64-989e-4546-ba3f-182ecd6b5aeb",
   "metadata": {},
   "outputs": [],
   "source": []
  },
  {
   "cell_type": "code",
   "execution_count": null,
   "id": "0fcbe085-9ed6-4744-90a2-77970a49c81a",
   "metadata": {},
   "outputs": [],
   "source": []
  },
  {
   "cell_type": "code",
   "execution_count": null,
   "id": "1dcd8ac1-c5f9-4de0-9a67-028cf6ef26b1",
   "metadata": {},
   "outputs": [],
   "source": []
  },
  {
   "cell_type": "code",
   "execution_count": null,
   "id": "a20e8161-90ca-4d7a-bf19-adfcfb9b80a5",
   "metadata": {},
   "outputs": [],
   "source": []
  },
  {
   "cell_type": "code",
   "execution_count": null,
   "id": "5cc045c0-1da3-4b68-a4f8-03e695ef185b",
   "metadata": {},
   "outputs": [],
   "source": []
  },
  {
   "cell_type": "markdown",
   "id": "cde93ff8-1559-4ed8-b2de-71384cd21323",
   "metadata": {},
   "source": [
    "## Annie: KNN and gradient boosting classifier"
   ]
  },
  {
   "cell_type": "code",
   "execution_count": 49,
   "id": "5e2aabd0-e6b4-497f-9ff2-2672382f39a4",
   "metadata": {},
   "outputs": [
    {
     "ename": "ModuleNotFoundError",
     "evalue": "No module named 'skopt'",
     "output_type": "error",
     "traceback": [
      "\u001b[0;31m---------------------------------------------------------------------------\u001b[0m",
      "\u001b[0;31mModuleNotFoundError\u001b[0m                       Traceback (most recent call last)",
      "\u001b[0;32m<ipython-input-49-6596eb163ee6>\u001b[0m in \u001b[0;36m<module>\u001b[0;34m\u001b[0m\n\u001b[1;32m     14\u001b[0m \u001b[0;32mfrom\u001b[0m \u001b[0msklearn\u001b[0m\u001b[0;34m.\u001b[0m\u001b[0mpipeline\u001b[0m \u001b[0;32mimport\u001b[0m \u001b[0mPipeline\u001b[0m\u001b[0;34m\u001b[0m\u001b[0;34m\u001b[0m\u001b[0m\n\u001b[1;32m     15\u001b[0m \u001b[0;34m\u001b[0m\u001b[0m\n\u001b[0;32m---> 16\u001b[0;31m \u001b[0;32mfrom\u001b[0m \u001b[0mskopt\u001b[0m \u001b[0;32mimport\u001b[0m \u001b[0mBayesSearchCV\u001b[0m\u001b[0;34m\u001b[0m\u001b[0;34m\u001b[0m\u001b[0m\n\u001b[0m\u001b[1;32m     17\u001b[0m \u001b[0;34m\u001b[0m\u001b[0m\n\u001b[1;32m     18\u001b[0m \u001b[0;32mimport\u001b[0m \u001b[0mdatetime\u001b[0m\u001b[0;34m\u001b[0m\u001b[0;34m\u001b[0m\u001b[0m\n",
      "\u001b[0;31mModuleNotFoundError\u001b[0m: No module named 'skopt'"
     ]
    }
   ],
   "source": [
    "import numpy as np\n",
    "import pandas as pd\n",
    "import matplotlib.pyplot as plt\n",
    "import seaborn as sns\n",
    "\n",
    "from sklearn.linear_model import LinearRegression\n",
    "from sklearn.neighbors import KNeighborsRegressor\n",
    "from sklearn.ensemble import RandomForestRegressor, GradientBoostingRegressor\n",
    "\n",
    "from sklearn.preprocessing import StandardScaler, OneHotEncoder\n",
    "from sklearn import metrics\n",
    "from sklearn.compose import ColumnTransformer, make_column_selector\n",
    "from sklearn.model_selection import train_test_split, GridSearchCV, RandomizedSearchCV\n",
    "from sklearn.pipeline import Pipeline\n",
    "\n",
    "from skopt import BayesSearchCV\n",
    "\n",
    "import datetime"
   ]
  },
  {
   "cell_type": "code",
   "execution_count": 2,
   "id": "beefb2bb-d22a-4db6-86a6-a860ea77c364",
   "metadata": {},
   "outputs": [
    {
     "data": {
      "text/html": [
       "<div>\n",
       "<style scoped>\n",
       "    .dataframe tbody tr th:only-of-type {\n",
       "        vertical-align: middle;\n",
       "    }\n",
       "\n",
       "    .dataframe tbody tr th {\n",
       "        vertical-align: top;\n",
       "    }\n",
       "\n",
       "    .dataframe thead th {\n",
       "        text-align: right;\n",
       "    }\n",
       "</style>\n",
       "<table border=\"1\" class=\"dataframe\">\n",
       "  <thead>\n",
       "    <tr style=\"text-align: right;\">\n",
       "      <th></th>\n",
       "      <th>timestamp</th>\n",
       "      <th>company</th>\n",
       "      <th>level</th>\n",
       "      <th>title</th>\n",
       "      <th>totalyearlycompensation</th>\n",
       "      <th>location</th>\n",
       "      <th>yearsofexperience</th>\n",
       "      <th>yearsatcompany</th>\n",
       "      <th>tag</th>\n",
       "      <th>year</th>\n",
       "      <th>month</th>\n",
       "      <th>year_month</th>\n",
       "      <th>timestamp_3mos</th>\n",
       "      <th>year_month_3mos</th>\n",
       "      <th>state_short</th>\n",
       "      <th>inflation_rate</th>\n",
       "      <th>inflation_rate_3mos</th>\n",
       "      <th>state</th>\n",
       "      <th>employment_rate</th>\n",
       "      <th>employment_rate_3mos</th>\n",
       "    </tr>\n",
       "  </thead>\n",
       "  <tbody>\n",
       "    <tr>\n",
       "      <th>0</th>\n",
       "      <td>2018-06-03 13:58:20</td>\n",
       "      <td>Yahoo</td>\n",
       "      <td>IC2</td>\n",
       "      <td>Software Engineer</td>\n",
       "      <td>160.5</td>\n",
       "      <td>Sunnyvale, CA</td>\n",
       "      <td>0.58</td>\n",
       "      <td>0.58</td>\n",
       "      <td>Full Stack</td>\n",
       "      <td>2018</td>\n",
       "      <td>6</td>\n",
       "      <td>2018-06</td>\n",
       "      <td>2018-03-03 13:58:20</td>\n",
       "      <td>2018-03</td>\n",
       "      <td>CA</td>\n",
       "      <td>0.029</td>\n",
       "      <td>0.024</td>\n",
       "      <td>California</td>\n",
       "      <td>0.957660</td>\n",
       "      <td>0.956797</td>\n",
       "    </tr>\n",
       "    <tr>\n",
       "      <th>1</th>\n",
       "      <td>2018-06-04 20:28:22</td>\n",
       "      <td>Facebook</td>\n",
       "      <td>E3</td>\n",
       "      <td>Software Engineer</td>\n",
       "      <td>165.0</td>\n",
       "      <td>Seattle, WA</td>\n",
       "      <td>1.00</td>\n",
       "      <td>1.00</td>\n",
       "      <td>Full Stack</td>\n",
       "      <td>2018</td>\n",
       "      <td>6</td>\n",
       "      <td>2018-06</td>\n",
       "      <td>2018-03-04 20:28:22</td>\n",
       "      <td>2018-03</td>\n",
       "      <td>WA</td>\n",
       "      <td>0.029</td>\n",
       "      <td>0.024</td>\n",
       "      <td>Washington</td>\n",
       "      <td>0.955998</td>\n",
       "      <td>0.954978</td>\n",
       "    </tr>\n",
       "    <tr>\n",
       "      <th>2</th>\n",
       "      <td>2018-06-05 00:56:33</td>\n",
       "      <td>VmWare</td>\n",
       "      <td>Senior MTS</td>\n",
       "      <td>Software Engineer</td>\n",
       "      <td>218.0</td>\n",
       "      <td>Palo Alto, CA</td>\n",
       "      <td>8.00</td>\n",
       "      <td>1.00</td>\n",
       "      <td>Distributed Systems (Back-End)</td>\n",
       "      <td>2018</td>\n",
       "      <td>6</td>\n",
       "      <td>2018-06</td>\n",
       "      <td>2018-03-05 00:56:33</td>\n",
       "      <td>2018-03</td>\n",
       "      <td>CA</td>\n",
       "      <td>0.029</td>\n",
       "      <td>0.024</td>\n",
       "      <td>California</td>\n",
       "      <td>0.957660</td>\n",
       "      <td>0.956797</td>\n",
       "    </tr>\n",
       "    <tr>\n",
       "      <th>3</th>\n",
       "      <td>2018-06-05 01:19:05</td>\n",
       "      <td>Uber</td>\n",
       "      <td>L4</td>\n",
       "      <td>Software Engineer</td>\n",
       "      <td>240.0</td>\n",
       "      <td>San Francisco, CA</td>\n",
       "      <td>3.00</td>\n",
       "      <td>0.00</td>\n",
       "      <td>Web Development (Front-End)</td>\n",
       "      <td>2018</td>\n",
       "      <td>6</td>\n",
       "      <td>2018-06</td>\n",
       "      <td>2018-03-05 01:19:05</td>\n",
       "      <td>2018-03</td>\n",
       "      <td>CA</td>\n",
       "      <td>0.029</td>\n",
       "      <td>0.024</td>\n",
       "      <td>California</td>\n",
       "      <td>0.957660</td>\n",
       "      <td>0.956797</td>\n",
       "    </tr>\n",
       "    <tr>\n",
       "      <th>4</th>\n",
       "      <td>2018-06-05 07:13:17</td>\n",
       "      <td>Capital One</td>\n",
       "      <td>Master Software Engineer</td>\n",
       "      <td>Software Engineer</td>\n",
       "      <td>196.0</td>\n",
       "      <td>New York, NY</td>\n",
       "      <td>8.00</td>\n",
       "      <td>2.00</td>\n",
       "      <td>iOS</td>\n",
       "      <td>2018</td>\n",
       "      <td>6</td>\n",
       "      <td>2018-06</td>\n",
       "      <td>2018-03-05 07:13:17</td>\n",
       "      <td>2018-03</td>\n",
       "      <td>NY</td>\n",
       "      <td>0.029</td>\n",
       "      <td>0.024</td>\n",
       "      <td>New York</td>\n",
       "      <td>0.959053</td>\n",
       "      <td>0.955962</td>\n",
       "    </tr>\n",
       "  </tbody>\n",
       "</table>\n",
       "</div>"
      ],
      "text/plain": [
       "             timestamp      company                     level  \\\n",
       "0  2018-06-03 13:58:20        Yahoo                       IC2   \n",
       "1  2018-06-04 20:28:22     Facebook                        E3   \n",
       "2  2018-06-05 00:56:33       VmWare                Senior MTS   \n",
       "3  2018-06-05 01:19:05         Uber                        L4   \n",
       "4  2018-06-05 07:13:17  Capital One  Master Software Engineer   \n",
       "\n",
       "               title  totalyearlycompensation           location  \\\n",
       "0  Software Engineer                    160.5      Sunnyvale, CA   \n",
       "1  Software Engineer                    165.0        Seattle, WA   \n",
       "2  Software Engineer                    218.0      Palo Alto, CA   \n",
       "3  Software Engineer                    240.0  San Francisco, CA   \n",
       "4  Software Engineer                    196.0       New York, NY   \n",
       "\n",
       "   yearsofexperience  yearsatcompany                             tag  year  \\\n",
       "0               0.58            0.58                      Full Stack  2018   \n",
       "1               1.00            1.00                      Full Stack  2018   \n",
       "2               8.00            1.00  Distributed Systems (Back-End)  2018   \n",
       "3               3.00            0.00     Web Development (Front-End)  2018   \n",
       "4               8.00            2.00                             iOS  2018   \n",
       "\n",
       "   month year_month       timestamp_3mos year_month_3mos state_short  \\\n",
       "0      6    2018-06  2018-03-03 13:58:20         2018-03          CA   \n",
       "1      6    2018-06  2018-03-04 20:28:22         2018-03          WA   \n",
       "2      6    2018-06  2018-03-05 00:56:33         2018-03          CA   \n",
       "3      6    2018-06  2018-03-05 01:19:05         2018-03          CA   \n",
       "4      6    2018-06  2018-03-05 07:13:17         2018-03          NY   \n",
       "\n",
       "   inflation_rate  inflation_rate_3mos       state  employment_rate  \\\n",
       "0           0.029                0.024  California         0.957660   \n",
       "1           0.029                0.024  Washington         0.955998   \n",
       "2           0.029                0.024  California         0.957660   \n",
       "3           0.029                0.024  California         0.957660   \n",
       "4           0.029                0.024    New York         0.959053   \n",
       "\n",
       "   employment_rate_3mos  \n",
       "0              0.956797  \n",
       "1              0.954978  \n",
       "2              0.956797  \n",
       "3              0.956797  \n",
       "4              0.955962  "
      ]
     },
     "execution_count": 2,
     "metadata": {},
     "output_type": "execute_result"
    }
   ],
   "source": [
    "df = pd.read_csv('../Data/salary_cleaned.csv')\n",
    "df.head()"
   ]
  },
  {
   "cell_type": "code",
   "execution_count": 3,
   "id": "4ec895c5-94f9-4363-85cf-ec6079656a09",
   "metadata": {},
   "outputs": [
    {
     "name": "stdout",
     "output_type": "stream",
     "text": [
      "<class 'pandas.core.frame.DataFrame'>\n",
      "RangeIndex: 24496 entries, 0 to 24495\n",
      "Data columns (total 20 columns):\n",
      " #   Column                   Non-Null Count  Dtype  \n",
      "---  ------                   --------------  -----  \n",
      " 0   timestamp                24496 non-null  object \n",
      " 1   company                  24496 non-null  object \n",
      " 2   level                    24496 non-null  object \n",
      " 3   title                    24496 non-null  object \n",
      " 4   totalyearlycompensation  24496 non-null  float64\n",
      " 5   location                 24496 non-null  object \n",
      " 6   yearsofexperience        24496 non-null  float64\n",
      " 7   yearsatcompany           24496 non-null  float64\n",
      " 8   tag                      24496 non-null  object \n",
      " 9   year                     24496 non-null  int64  \n",
      " 10  month                    24496 non-null  int64  \n",
      " 11  year_month               24496 non-null  object \n",
      " 12  timestamp_3mos           24496 non-null  object \n",
      " 13  year_month_3mos          24496 non-null  object \n",
      " 14  state_short              24496 non-null  object \n",
      " 15  inflation_rate           24496 non-null  float64\n",
      " 16  inflation_rate_3mos      24496 non-null  float64\n",
      " 17  state                    24496 non-null  object \n",
      " 18  employment_rate          24496 non-null  float64\n",
      " 19  employment_rate_3mos     24496 non-null  float64\n",
      "dtypes: float64(7), int64(2), object(11)\n",
      "memory usage: 3.7+ MB\n"
     ]
    }
   ],
   "source": [
    "df.info()"
   ]
  },
  {
   "cell_type": "code",
   "execution_count": 4,
   "id": "02f8d2f3-2566-4a0c-b433-233c0ce9540f",
   "metadata": {},
   "outputs": [
    {
     "name": "stdout",
     "output_type": "stream",
     "text": [
      "<class 'pandas.core.frame.DataFrame'>\n",
      "RangeIndex: 24496 entries, 0 to 24495\n",
      "Data columns (total 20 columns):\n",
      " #   Column                   Non-Null Count  Dtype  \n",
      "---  ------                   --------------  -----  \n",
      " 0   timestamp                24496 non-null  object \n",
      " 1   company                  24496 non-null  object \n",
      " 2   level                    24496 non-null  object \n",
      " 3   title                    24496 non-null  object \n",
      " 4   totalyearlycompensation  24496 non-null  float64\n",
      " 5   location                 24496 non-null  object \n",
      " 6   yearsofexperience        24496 non-null  float64\n",
      " 7   yearsatcompany           24496 non-null  float64\n",
      " 8   tag                      24496 non-null  object \n",
      " 9   year                     24496 non-null  object \n",
      " 10  month                    24496 non-null  object \n",
      " 11  year_month               24496 non-null  object \n",
      " 12  timestamp_3mos           24496 non-null  object \n",
      " 13  year_month_3mos          24496 non-null  object \n",
      " 14  state_short              24496 non-null  object \n",
      " 15  inflation_rate           24496 non-null  float64\n",
      " 16  inflation_rate_3mos      24496 non-null  float64\n",
      " 17  state                    24496 non-null  object \n",
      " 18  employment_rate          24496 non-null  float64\n",
      " 19  employment_rate_3mos     24496 non-null  float64\n",
      "dtypes: float64(7), object(13)\n",
      "memory usage: 3.7+ MB\n"
     ]
    }
   ],
   "source": [
    "# convert year and month from integer to string\n",
    "df['year'] = df['year'].astype(str)\n",
    "df['month'] = df['month'].astype(str)\n",
    "df.info()"
   ]
  },
  {
   "cell_type": "code",
   "execution_count": 5,
   "id": "a2f83d58-e9c0-4529-a450-d17eb116caaa",
   "metadata": {},
   "outputs": [
    {
     "data": {
      "text/plain": [
       "Seattle, WA          0.161169\n",
       "San Francisco, CA    0.136920\n",
       "New York, NY         0.078829\n",
       "Redmond, WA          0.065072\n",
       "Sunnyvale, CA        0.049110\n",
       "                       ...   \n",
       "Schenectady, NY      0.000041\n",
       "Allentown, PA        0.000041\n",
       "Portsmouth, RI       0.000041\n",
       "Fullerton, CA        0.000041\n",
       "Elk Grove, CA        0.000041\n",
       "Name: location, Length: 447, dtype: float64"
      ]
     },
     "execution_count": 5,
     "metadata": {},
     "output_type": "execute_result"
    }
   ],
   "source": [
    "df['location'].value_counts(normalize=True)"
   ]
  },
  {
   "cell_type": "code",
   "execution_count": 6,
   "id": "c59b39a3-ca1c-4a83-89fb-9bd4a40de858",
   "metadata": {},
   "outputs": [
    {
     "data": {
      "text/plain": [
       "((24496, 11), (24496,))"
      ]
     },
     "execution_count": 6,
     "metadata": {},
     "output_type": "execute_result"
    }
   ],
   "source": [
    "# create \n",
    "features_all = ['company', 'title', 'location', 'yearsofexperience', 'yearsatcompany', 'year', 'month', 'year_month', 'state_short', 'inflation_rate', 'inflation_rate_3mos', 'employment_rate', 'employment_rate_3mos']\n",
    "features_short = ['company', 'title', 'yearsofexperience', 'yearsatcompany', 'year', 'month', 'state', 'inflation_rate', 'inflation_rate_3mos', 'employment_rate', 'employment_rate_3mos']\n",
    "\n",
    "X = df[features_short]\n",
    "y = df['totalyearlycompensation']\n",
    "X.shape, y.shape"
   ]
  },
  {
   "cell_type": "code",
   "execution_count": 7,
   "id": "05b7f769-62e3-4f4b-8082-86761d7dddc3",
   "metadata": {},
   "outputs": [
    {
     "data": {
      "text/plain": [
       "((18372, 11), (18372,), (6124, 11), (6124,))"
      ]
     },
     "execution_count": 7,
     "metadata": {},
     "output_type": "execute_result"
    }
   ],
   "source": [
    "X_train, X_test, y_train, y_test = train_test_split(X, y, random_state=42)\n",
    "X_train.shape, y_train.shape, X_test.shape, y_test.shape"
   ]
  },
  {
   "cell_type": "code",
   "execution_count": 8,
   "id": "2304f54a-6372-463d-b4f0-1164c4d299ff",
   "metadata": {},
   "outputs": [
    {
     "data": {
      "text/html": [
       "<div>\n",
       "<style scoped>\n",
       "    .dataframe tbody tr th:only-of-type {\n",
       "        vertical-align: middle;\n",
       "    }\n",
       "\n",
       "    .dataframe tbody tr th {\n",
       "        vertical-align: top;\n",
       "    }\n",
       "\n",
       "    .dataframe thead th {\n",
       "        text-align: right;\n",
       "    }\n",
       "</style>\n",
       "<table border=\"1\" class=\"dataframe\">\n",
       "  <thead>\n",
       "    <tr style=\"text-align: right;\">\n",
       "      <th></th>\n",
       "      <th>company</th>\n",
       "      <th>title</th>\n",
       "      <th>yearsofexperience</th>\n",
       "      <th>yearsatcompany</th>\n",
       "      <th>year</th>\n",
       "      <th>month</th>\n",
       "      <th>state</th>\n",
       "      <th>inflation_rate</th>\n",
       "      <th>inflation_rate_3mos</th>\n",
       "      <th>employment_rate</th>\n",
       "      <th>employment_rate_3mos</th>\n",
       "    </tr>\n",
       "  </thead>\n",
       "  <tbody>\n",
       "    <tr>\n",
       "      <th>19069</th>\n",
       "      <td>Google</td>\n",
       "      <td>Product Manager</td>\n",
       "      <td>15.0</td>\n",
       "      <td>1.0</td>\n",
       "      <td>2020</td>\n",
       "      <td>7</td>\n",
       "      <td>Washington</td>\n",
       "      <td>0.010</td>\n",
       "      <td>0.003</td>\n",
       "      <td>0.898081</td>\n",
       "      <td>0.837230</td>\n",
       "    </tr>\n",
       "    <tr>\n",
       "      <th>3156</th>\n",
       "      <td>Amazon</td>\n",
       "      <td>Software Engineer</td>\n",
       "      <td>5.0</td>\n",
       "      <td>5.0</td>\n",
       "      <td>2019</td>\n",
       "      <td>3</td>\n",
       "      <td>Washington</td>\n",
       "      <td>0.019</td>\n",
       "      <td>0.019</td>\n",
       "      <td>0.955238</td>\n",
       "      <td>0.954989</td>\n",
       "    </tr>\n",
       "    <tr>\n",
       "      <th>14183</th>\n",
       "      <td>Twilio</td>\n",
       "      <td>Software Engineer</td>\n",
       "      <td>4.0</td>\n",
       "      <td>1.0</td>\n",
       "      <td>2020</td>\n",
       "      <td>4</td>\n",
       "      <td>California</td>\n",
       "      <td>0.003</td>\n",
       "      <td>0.025</td>\n",
       "      <td>0.836228</td>\n",
       "      <td>0.961390</td>\n",
       "    </tr>\n",
       "    <tr>\n",
       "      <th>13104</th>\n",
       "      <td>Intel</td>\n",
       "      <td>Software Engineer</td>\n",
       "      <td>9.0</td>\n",
       "      <td>9.0</td>\n",
       "      <td>2020</td>\n",
       "      <td>3</td>\n",
       "      <td>Arizona</td>\n",
       "      <td>0.015</td>\n",
       "      <td>0.023</td>\n",
       "      <td>0.938761</td>\n",
       "      <td>0.954570</td>\n",
       "    </tr>\n",
       "    <tr>\n",
       "      <th>20679</th>\n",
       "      <td>Cisco</td>\n",
       "      <td>Software Engineer</td>\n",
       "      <td>0.0</td>\n",
       "      <td>0.0</td>\n",
       "      <td>2020</td>\n",
       "      <td>8</td>\n",
       "      <td>California</td>\n",
       "      <td>0.013</td>\n",
       "      <td>0.001</td>\n",
       "      <td>0.888158</td>\n",
       "      <td>0.835571</td>\n",
       "    </tr>\n",
       "  </tbody>\n",
       "</table>\n",
       "</div>"
      ],
      "text/plain": [
       "      company              title  yearsofexperience  yearsatcompany  year  \\\n",
       "19069  Google    Product Manager               15.0             1.0  2020   \n",
       "3156   Amazon  Software Engineer                5.0             5.0  2019   \n",
       "14183  Twilio  Software Engineer                4.0             1.0  2020   \n",
       "13104   Intel  Software Engineer                9.0             9.0  2020   \n",
       "20679   Cisco  Software Engineer                0.0             0.0  2020   \n",
       "\n",
       "      month       state  inflation_rate  inflation_rate_3mos  employment_rate  \\\n",
       "19069     7  Washington           0.010                0.003         0.898081   \n",
       "3156      3  Washington           0.019                0.019         0.955238   \n",
       "14183     4  California           0.003                0.025         0.836228   \n",
       "13104     3     Arizona           0.015                0.023         0.938761   \n",
       "20679     8  California           0.013                0.001         0.888158   \n",
       "\n",
       "       employment_rate_3mos  \n",
       "19069              0.837230  \n",
       "3156               0.954989  \n",
       "14183              0.961390  \n",
       "13104              0.954570  \n",
       "20679              0.835571  "
      ]
     },
     "execution_count": 8,
     "metadata": {},
     "output_type": "execute_result"
    }
   ],
   "source": [
    "X_train.head()"
   ]
  },
  {
   "cell_type": "markdown",
   "id": "fcb2b00a-3b61-401b-be59-ada2cf845913",
   "metadata": {},
   "source": [
    "### Transform data: standardize and one hot encoding"
   ]
  },
  {
   "cell_type": "code",
   "execution_count": 26,
   "id": "0b941ac6-2077-457f-a800-506aefabd87e",
   "metadata": {},
   "outputs": [],
   "source": [
    "ct = ColumnTransformer([\n",
    "    ('sc', StandardScaler(), make_column_selector(dtype_include=np.number)),\n",
    "    #('ohe', OneHotEncoder(handle_unknown='ignore'), make_column_selector(dtype_include=object)),\n",
    "    #('ohe', OneHotEncoder(handle_unknown='ignore'), ['company','title','year','month','state']),\n",
    "    ('ohe', OneHotEncoder(handle_unknown='ignore'), [0,1,6])\n",
    "    ])\n",
    "\n",
    "X_train_ct = ct.fit_transform(X_train)\n",
    "X_test_ct = ct.transform(X_test)"
   ]
  },
  {
   "cell_type": "code",
   "execution_count": 42,
   "id": "58d1d3f0-fdfe-4669-844c-a8c75f45b08c",
   "metadata": {},
   "outputs": [
    {
     "data": {
      "text/plain": [
       "(18372, 1219)"
      ]
     },
     "execution_count": 42,
     "metadata": {},
     "output_type": "execute_result"
    }
   ],
   "source": [
    "X_train_ct.shape"
   ]
  },
  {
   "cell_type": "code",
   "execution_count": 25,
   "id": "55baa6c3-8510-4ccf-8312-be9b1a7172f5",
   "metadata": {},
   "outputs": [
    {
     "data": {
      "text/html": [
       "<div>\n",
       "<style scoped>\n",
       "    .dataframe tbody tr th:only-of-type {\n",
       "        vertical-align: middle;\n",
       "    }\n",
       "\n",
       "    .dataframe tbody tr th {\n",
       "        vertical-align: top;\n",
       "    }\n",
       "\n",
       "    .dataframe thead th {\n",
       "        text-align: right;\n",
       "    }\n",
       "</style>\n",
       "<table border=\"1\" class=\"dataframe\">\n",
       "  <thead>\n",
       "    <tr style=\"text-align: right;\">\n",
       "      <th></th>\n",
       "      <th>company</th>\n",
       "      <th>title</th>\n",
       "      <th>yearsofexperience</th>\n",
       "      <th>yearsatcompany</th>\n",
       "      <th>year</th>\n",
       "      <th>month</th>\n",
       "      <th>state</th>\n",
       "      <th>inflation_rate</th>\n",
       "      <th>inflation_rate_3mos</th>\n",
       "      <th>employment_rate</th>\n",
       "      <th>employment_rate_3mos</th>\n",
       "    </tr>\n",
       "  </thead>\n",
       "  <tbody>\n",
       "    <tr>\n",
       "      <th>19069</th>\n",
       "      <td>Google</td>\n",
       "      <td>Product Manager</td>\n",
       "      <td>15.0</td>\n",
       "      <td>1.0</td>\n",
       "      <td>2020</td>\n",
       "      <td>7</td>\n",
       "      <td>Washington</td>\n",
       "      <td>0.010</td>\n",
       "      <td>0.003</td>\n",
       "      <td>0.898081</td>\n",
       "      <td>0.837230</td>\n",
       "    </tr>\n",
       "    <tr>\n",
       "      <th>3156</th>\n",
       "      <td>Amazon</td>\n",
       "      <td>Software Engineer</td>\n",
       "      <td>5.0</td>\n",
       "      <td>5.0</td>\n",
       "      <td>2019</td>\n",
       "      <td>3</td>\n",
       "      <td>Washington</td>\n",
       "      <td>0.019</td>\n",
       "      <td>0.019</td>\n",
       "      <td>0.955238</td>\n",
       "      <td>0.954989</td>\n",
       "    </tr>\n",
       "    <tr>\n",
       "      <th>14183</th>\n",
       "      <td>Twilio</td>\n",
       "      <td>Software Engineer</td>\n",
       "      <td>4.0</td>\n",
       "      <td>1.0</td>\n",
       "      <td>2020</td>\n",
       "      <td>4</td>\n",
       "      <td>California</td>\n",
       "      <td>0.003</td>\n",
       "      <td>0.025</td>\n",
       "      <td>0.836228</td>\n",
       "      <td>0.961390</td>\n",
       "    </tr>\n",
       "    <tr>\n",
       "      <th>13104</th>\n",
       "      <td>Intel</td>\n",
       "      <td>Software Engineer</td>\n",
       "      <td>9.0</td>\n",
       "      <td>9.0</td>\n",
       "      <td>2020</td>\n",
       "      <td>3</td>\n",
       "      <td>Arizona</td>\n",
       "      <td>0.015</td>\n",
       "      <td>0.023</td>\n",
       "      <td>0.938761</td>\n",
       "      <td>0.954570</td>\n",
       "    </tr>\n",
       "    <tr>\n",
       "      <th>20679</th>\n",
       "      <td>Cisco</td>\n",
       "      <td>Software Engineer</td>\n",
       "      <td>0.0</td>\n",
       "      <td>0.0</td>\n",
       "      <td>2020</td>\n",
       "      <td>8</td>\n",
       "      <td>California</td>\n",
       "      <td>0.013</td>\n",
       "      <td>0.001</td>\n",
       "      <td>0.888158</td>\n",
       "      <td>0.835571</td>\n",
       "    </tr>\n",
       "    <tr>\n",
       "      <th>...</th>\n",
       "      <td>...</td>\n",
       "      <td>...</td>\n",
       "      <td>...</td>\n",
       "      <td>...</td>\n",
       "      <td>...</td>\n",
       "      <td>...</td>\n",
       "      <td>...</td>\n",
       "      <td>...</td>\n",
       "      <td>...</td>\n",
       "      <td>...</td>\n",
       "      <td>...</td>\n",
       "    </tr>\n",
       "    <tr>\n",
       "      <th>21575</th>\n",
       "      <td>BlackRock</td>\n",
       "      <td>Product Manager</td>\n",
       "      <td>8.0</td>\n",
       "      <td>2.0</td>\n",
       "      <td>2020</td>\n",
       "      <td>8</td>\n",
       "      <td>California</td>\n",
       "      <td>0.013</td>\n",
       "      <td>0.001</td>\n",
       "      <td>0.888158</td>\n",
       "      <td>0.835571</td>\n",
       "    </tr>\n",
       "    <tr>\n",
       "      <th>5390</th>\n",
       "      <td>Amazon</td>\n",
       "      <td>Software Engineer</td>\n",
       "      <td>2.0</td>\n",
       "      <td>0.0</td>\n",
       "      <td>2019</td>\n",
       "      <td>7</td>\n",
       "      <td>Washington</td>\n",
       "      <td>0.018</td>\n",
       "      <td>0.020</td>\n",
       "      <td>0.957501</td>\n",
       "      <td>0.955663</td>\n",
       "    </tr>\n",
       "    <tr>\n",
       "      <th>860</th>\n",
       "      <td>Splunk</td>\n",
       "      <td>Product Manager</td>\n",
       "      <td>9.0</td>\n",
       "      <td>1.0</td>\n",
       "      <td>2018</td>\n",
       "      <td>9</td>\n",
       "      <td>Washington</td>\n",
       "      <td>0.023</td>\n",
       "      <td>0.029</td>\n",
       "      <td>0.956046</td>\n",
       "      <td>0.955998</td>\n",
       "    </tr>\n",
       "    <tr>\n",
       "      <th>15795</th>\n",
       "      <td>Facebook</td>\n",
       "      <td>Software Engineer</td>\n",
       "      <td>5.0</td>\n",
       "      <td>1.0</td>\n",
       "      <td>2020</td>\n",
       "      <td>5</td>\n",
       "      <td>California</td>\n",
       "      <td>0.001</td>\n",
       "      <td>0.023</td>\n",
       "      <td>0.835571</td>\n",
       "      <td>0.961092</td>\n",
       "    </tr>\n",
       "    <tr>\n",
       "      <th>23654</th>\n",
       "      <td>IBM</td>\n",
       "      <td>Software Engineer</td>\n",
       "      <td>1.0</td>\n",
       "      <td>0.0</td>\n",
       "      <td>2020</td>\n",
       "      <td>9</td>\n",
       "      <td>New York</td>\n",
       "      <td>0.014</td>\n",
       "      <td>0.006</td>\n",
       "      <td>0.903148</td>\n",
       "      <td>0.843508</td>\n",
       "    </tr>\n",
       "  </tbody>\n",
       "</table>\n",
       "<p>18372 rows × 11 columns</p>\n",
       "</div>"
      ],
      "text/plain": [
       "         company              title  yearsofexperience  yearsatcompany  year  \\\n",
       "19069     Google    Product Manager               15.0             1.0  2020   \n",
       "3156      Amazon  Software Engineer                5.0             5.0  2019   \n",
       "14183     Twilio  Software Engineer                4.0             1.0  2020   \n",
       "13104      Intel  Software Engineer                9.0             9.0  2020   \n",
       "20679      Cisco  Software Engineer                0.0             0.0  2020   \n",
       "...          ...                ...                ...             ...   ...   \n",
       "21575  BlackRock    Product Manager                8.0             2.0  2020   \n",
       "5390      Amazon  Software Engineer                2.0             0.0  2019   \n",
       "860       Splunk    Product Manager                9.0             1.0  2018   \n",
       "15795   Facebook  Software Engineer                5.0             1.0  2020   \n",
       "23654        IBM  Software Engineer                1.0             0.0  2020   \n",
       "\n",
       "      month       state  inflation_rate  inflation_rate_3mos  employment_rate  \\\n",
       "19069     7  Washington           0.010                0.003         0.898081   \n",
       "3156      3  Washington           0.019                0.019         0.955238   \n",
       "14183     4  California           0.003                0.025         0.836228   \n",
       "13104     3     Arizona           0.015                0.023         0.938761   \n",
       "20679     8  California           0.013                0.001         0.888158   \n",
       "...     ...         ...             ...                  ...              ...   \n",
       "21575     8  California           0.013                0.001         0.888158   \n",
       "5390      7  Washington           0.018                0.020         0.957501   \n",
       "860       9  Washington           0.023                0.029         0.956046   \n",
       "15795     5  California           0.001                0.023         0.835571   \n",
       "23654     9    New York           0.014                0.006         0.903148   \n",
       "\n",
       "       employment_rate_3mos  \n",
       "19069              0.837230  \n",
       "3156               0.954989  \n",
       "14183              0.961390  \n",
       "13104              0.954570  \n",
       "20679              0.835571  \n",
       "...                     ...  \n",
       "21575              0.835571  \n",
       "5390               0.955663  \n",
       "860                0.955998  \n",
       "15795              0.961092  \n",
       "23654              0.843508  \n",
       "\n",
       "[18372 rows x 11 columns]"
      ]
     },
     "execution_count": 25,
     "metadata": {},
     "output_type": "execute_result"
    }
   ],
   "source": [
    "X_train"
   ]
  },
  {
   "cell_type": "code",
   "execution_count": 22,
   "id": "9cabd053-cce2-413e-86f4-12cf174ea28b",
   "metadata": {},
   "outputs": [
    {
     "data": {
      "text/plain": [
       "array(['sc__yearsofexperience', 'sc__yearsatcompany',\n",
       "       'sc__inflation_rate', ..., 'ohe__state_Washington',\n",
       "       'ohe__state_West Virginia', 'ohe__state_Wisconsin'], dtype=object)"
      ]
     },
     "execution_count": 22,
     "metadata": {},
     "output_type": "execute_result"
    }
   ],
   "source": [
    "ct.get_feature_names_out()"
   ]
  },
  {
   "cell_type": "markdown",
   "id": "7bed359a-ddc0-446e-af68-a4951f8dfb46",
   "metadata": {},
   "source": [
    "### KNN "
   ]
  },
  {
   "cell_type": "code",
   "execution_count": 38,
   "id": "79421e03-512f-420a-9644-e9069053564c",
   "metadata": {},
   "outputs": [
    {
     "name": "stdout",
     "output_type": "stream",
     "text": [
      "2022-01-04 12:09:34.704417\n",
      "2022-01-04 12:31:22.106470\n",
      "\n"
     ]
    }
   ],
   "source": [
    "knn = KNeighborsRegressor(n_jobs=-1)\n",
    "\n",
    "knn_params = {\n",
    "    'n_neighbors': [3,5,7,9,11,13,15,17,19]\n",
    "    ,'weights': ['uniform', 'distance']\n",
    "    ,'p': [1,2]   # this one makes the training time much longer, and didn't improve R2 significantly\n",
    "}\n",
    "\n",
    "gs_knn = GridSearchCV(estimator = knn,\n",
    "                     param_grid = knn_params,\n",
    "                     cv = 5)\n",
    "\n",
    "# train the model\n",
    "\n",
    "print(datetime.datetime.now())\n",
    "\n",
    "gs_knn.fit(X_train_ct, y_train)\n",
    "\n",
    "print(datetime.datetime.now())\n",
    "print()"
   ]
  },
  {
   "cell_type": "code",
   "execution_count": null,
   "id": "0aa9ec8c-a982-46b6-9356-75763c95194e",
   "metadata": {},
   "outputs": [],
   "source": [
    "# predict\n",
    "knn_pred_train = gs_knn.predict(X_train_ct)\n",
    "knn_pred_test = gs_knn.predict(X_test_ct)\n",
    "\n",
    "# evaluate\n",
    "gs_knn_R2_train = gs_knn.score(X_train_ct, y_train)\n",
    "gs_knn_R2_test = gs_knn.score(X_test_ct, y_test)\n",
    "\n",
    "print(f'gs_knn_R2_train: {round(gs_knn_R2_train, 4)}')\n",
    "print(f'gs_knn_R2_test: {round(gs_knn_R2_test, 4)}')"
   ]
  },
  {
   "cell_type": "code",
   "execution_count": null,
   "id": "b230ccf5-a412-4f8e-899d-77c3324dfaf9",
   "metadata": {},
   "outputs": [],
   "source": [
    "gs_knn_mse_train = metrics.mean_squared_error(y_train, knn_pred_train)\n",
    "gs_knn_mse_test = metrics.mean_squared_error(y_test, knn_pred_test)\n",
    "\n",
    "print(f'gs_knn_mse_train: {round(gs_knn_mse_train, 4)}')\n",
    "print(f'gs_knn_mse_test: {round(gs_knn_mse_test, 4)}')"
   ]
  },
  {
   "cell_type": "code",
   "execution_count": null,
   "id": "3d0b95dc-878b-455b-987a-6a2b0aa80987",
   "metadata": {},
   "outputs": [],
   "source": [
    "perf_dict = {\n",
    "    'R2':[gs_knn_R2_train, gs_knn_R2_test],\n",
    "    'mse':[gs_knn_mse_train, gs_knn_mse_test]\n",
    "}"
   ]
  },
  {
   "cell_type": "code",
   "execution_count": null,
   "id": "cebc2af0-5a56-465d-874d-76f8e8359a71",
   "metadata": {},
   "outputs": [],
   "source": [
    "perf_df = pd.DataFrame(perf_dict, index=['Train','Test'])\n"
   ]
  },
  {
   "cell_type": "code",
   "execution_count": 40,
   "id": "56e7ca83-48a9-4811-9451-d3d62c2b74aa",
   "metadata": {},
   "outputs": [
    {
     "data": {
      "text/plain": [
       "KNeighborsRegressor(n_jobs=-1, n_neighbors=13, p=1, weights='distance')"
      ]
     },
     "execution_count": 40,
     "metadata": {},
     "output_type": "execute_result"
    }
   ],
   "source": [
    "gs_knn.best_estimator_"
   ]
  },
  {
   "cell_type": "code",
   "execution_count": null,
   "id": "9c6b6e32-a36a-4c56-8091-d54ca73a8971",
   "metadata": {},
   "outputs": [],
   "source": [
    "gs_knn.cv_results_"
   ]
  },
  {
   "cell_type": "code",
   "execution_count": null,
   "id": "67c053ef-03df-46e0-8e1a-d950db3d5392",
   "metadata": {},
   "outputs": [],
   "source": [
    "pd.DataFrame(gs_knn.cv_results_)"
   ]
  },
  {
   "cell_type": "markdown",
   "id": "94ba0156-1223-47fb-858b-318c066ab22c",
   "metadata": {},
   "source": [
    "**Observation**: \n",
    "1. Comparing the R2 score and mse between the training and testing sets, the model is very overfit.\n",
    "2. The best model from grid search CV uses 13 nearest neighbors, p=1, and distance as weights."
   ]
  },
  {
   "cell_type": "markdown",
   "id": "d03ea90a-3374-4922-b15a-a1db3bb246d5",
   "metadata": {},
   "source": [
    "### Graident Boosting Classifer"
   ]
  },
  {
   "cell_type": "markdown",
   "id": "968465b9-30aa-494b-8b09-b04f018815fe",
   "metadata": {},
   "source": [
    "#### No grid search"
   ]
  },
  {
   "cell_type": "code",
   "execution_count": 54,
   "id": "409422a6-c6ad-45af-bd1c-44a15df3b0f7",
   "metadata": {},
   "outputs": [
    {
     "name": "stdout",
     "output_type": "stream",
     "text": [
      "2022-01-05 15:52:09.839168\n",
      "2022-01-05 15:54:41.358522\n"
     ]
    }
   ],
   "source": [
    "# fit the model\n",
    "gbr = GradientBoostingRegressor(n_estimators=400,\n",
    "                                max_depth=3,\n",
    "                                max_features=800,\n",
    "                                random_state=42)\n",
    "\n",
    "print(datetime.datetime.now())\n",
    "\n",
    "gbr.fit(X_train_ct, y_train)\n",
    "\n",
    "print(datetime.datetime.now())"
   ]
  },
  {
   "cell_type": "code",
   "execution_count": 58,
   "id": "f0d6c0dc-b298-466b-bdd8-2804d2a75a28",
   "metadata": {},
   "outputs": [
    {
     "data": {
      "text/html": [
       "<div>\n",
       "<style scoped>\n",
       "    .dataframe tbody tr th:only-of-type {\n",
       "        vertical-align: middle;\n",
       "    }\n",
       "\n",
       "    .dataframe tbody tr th {\n",
       "        vertical-align: top;\n",
       "    }\n",
       "\n",
       "    .dataframe thead th {\n",
       "        text-align: right;\n",
       "    }\n",
       "</style>\n",
       "<table border=\"1\" class=\"dataframe\">\n",
       "  <thead>\n",
       "    <tr style=\"text-align: right;\">\n",
       "      <th></th>\n",
       "      <th>Train</th>\n",
       "      <th>Test</th>\n",
       "    </tr>\n",
       "  </thead>\n",
       "  <tbody>\n",
       "    <tr>\n",
       "      <th>R2</th>\n",
       "      <td>0.597249</td>\n",
       "      <td>0.531825</td>\n",
       "    </tr>\n",
       "    <tr>\n",
       "      <th>MSE</th>\n",
       "      <td>6834.117462</td>\n",
       "      <td>8198.404325</td>\n",
       "    </tr>\n",
       "  </tbody>\n",
       "</table>\n",
       "</div>"
      ],
      "text/plain": [
       "           Train         Test\n",
       "R2      0.597249     0.531825\n",
       "MSE  6834.117462  8198.404325"
      ]
     },
     "execution_count": 58,
     "metadata": {},
     "output_type": "execute_result"
    }
   ],
   "source": [
    "# predict\n",
    "gbr_pred_train = gbr.predict(X_train_ct)\n",
    "gbr_pred_test = gbr.predict(X_test_ct)\n",
    "\n",
    "# evaluate\n",
    "gbr_R2_train = gbr.score(X_train_ct, y_train)\n",
    "gbr_R2_test = gbr.score(X_test_ct, y_test)\n",
    "\n",
    "gbr_mse_train = metrics.mean_squared_error(y_train, gbr_pred_train)\n",
    "gbr_mse_test = metrics.mean_squared_error(y_test, gbr_pred_test)\n",
    "\n",
    "gbr_perf_dict = {\n",
    "    'R2': [gbr_R2_train, gbr_R2_test],\n",
    "    'MSE': [gbr_mse_train, gbr_mse_test]\n",
    "}\n",
    "\n",
    "gbr_perf_df = pd.DataFrame(gbr_perf_dict, index=['Train','Test'])\n",
    "gbr_perf_df.T"
   ]
  },
  {
   "cell_type": "markdown",
   "id": "7a84025e-8ad4-4ecd-9aef-5938ce4a3ef9",
   "metadata": {},
   "source": [
    "#### GridSearchCV"
   ]
  },
  {
   "cell_type": "markdown",
   "id": "f46163ce-0c95-4576-89ef-3cba6cd9e2a1",
   "metadata": {},
   "source": [
    "##### GridSearch 0 \n",
    "Model No. 0: killed after running for 19 hours"
   ]
  },
  {
   "cell_type": "markdown",
   "id": "96df8736-c295-4b66-8947-d74c5547ce8c",
   "metadata": {},
   "source": [
    "##### GridSearch 1"
   ]
  },
  {
   "cell_type": "code",
   "execution_count": 69,
   "id": "0a40666b-e131-4d75-aa9d-d1bed0702d81",
   "metadata": {},
   "outputs": [
    {
     "name": "stdout",
     "output_type": "stream",
     "text": [
      "2022-01-05 21:12:19.908880\n",
      "2022-01-05 23:36:23.269022\n"
     ]
    }
   ],
   "source": [
    "# build the grid search for hyperparameters \n",
    "\n",
    "gbr = GradientBoostingRegressor(random_state=42)\n",
    "\n",
    "gbr_params = {\n",
    "    'n_estimators': [300,400,500],\n",
    "    #'learning_rate': [0.01, 0.1],\n",
    "    'max_depth': [5,6,7,8],\n",
    "    #'min_samples_split': [5,7,10],\n",
    "    #'min_samples_leaf': [2,3,5],\n",
    "    'max_features': [100,150,200]\n",
    "}\n",
    "\n",
    "gs_gbr = GridSearchCV(gbr,\n",
    "                     gbr_params,\n",
    "                     cv=5)\n",
    "\n",
    "# train\n",
    "\n",
    "print(datetime.datetime.now())\n",
    "\n",
    "gs_gbr.fit(X_train_ct, y_train)\n",
    "\n",
    "print(datetime.datetime.now())"
   ]
  },
  {
   "cell_type": "code",
   "execution_count": 78,
   "id": "2c7b4388-5a7d-4a94-9dae-b3f513f6b860",
   "metadata": {},
   "outputs": [
    {
     "name": "stdout",
     "output_type": "stream",
     "text": [
      "gs_gbr_R2_train: 0.7683\n",
      "gs_gbr_R2_test: 0.5496\n",
      "\n",
      "gs_gbr_mse_train: 3932.287\n",
      "gs_gbr_mse_test: 7887.0258\n"
     ]
    },
    {
     "data": {
      "text/html": [
       "<div>\n",
       "<style scoped>\n",
       "    .dataframe tbody tr th:only-of-type {\n",
       "        vertical-align: middle;\n",
       "    }\n",
       "\n",
       "    .dataframe tbody tr th {\n",
       "        vertical-align: top;\n",
       "    }\n",
       "\n",
       "    .dataframe thead th {\n",
       "        text-align: right;\n",
       "    }\n",
       "</style>\n",
       "<table border=\"1\" class=\"dataframe\">\n",
       "  <thead>\n",
       "    <tr style=\"text-align: right;\">\n",
       "      <th></th>\n",
       "      <th>Train</th>\n",
       "      <th>Test</th>\n",
       "    </tr>\n",
       "  </thead>\n",
       "  <tbody>\n",
       "    <tr>\n",
       "      <th>R2</th>\n",
       "      <td>0.768261</td>\n",
       "      <td>0.549606</td>\n",
       "    </tr>\n",
       "    <tr>\n",
       "      <th>MSE</th>\n",
       "      <td>3932.287030</td>\n",
       "      <td>7887.025790</td>\n",
       "    </tr>\n",
       "  </tbody>\n",
       "</table>\n",
       "</div>"
      ],
      "text/plain": [
       "           Train         Test\n",
       "R2      0.768261     0.549606\n",
       "MSE  3932.287030  7887.025790"
      ]
     },
     "execution_count": 78,
     "metadata": {},
     "output_type": "execute_result"
    }
   ],
   "source": [
    "# predict\n",
    "\n",
    "gs_gbr_pred_train = gs_gbr.predict(X_train_ct)\n",
    "gs_gbr_pred_test = gs_gbr.predict(X_test_ct)\n",
    "\n",
    "# evaluate\n",
    "\n",
    "gs_gbr_R2_train = gs_gbr.score(X_train_ct, y_train)\n",
    "gs_gbr_R2_test = gs_gbr.score(X_test_ct, y_test)\n",
    "\n",
    "print(f'gs_gbr_R2_train: {round(gs_gbr_R2_train, 4)}')\n",
    "print(f'gs_gbr_R2_test: {round(gs_gbr_R2_test, 4)}')\n",
    "print()\n",
    "\n",
    "gs_gbr_mse_train = metrics.mean_squared_error(y_train, gs_gbr_pred_train)\n",
    "gs_gbr_mse_test = metrics.mean_squared_error(y_test, gs_gbr_pred_test)\n",
    "\n",
    "print(f'gs_gbr_mse_train: {round(gs_gbr_mse_train, 4)}')\n",
    "print(f'gs_gbr_mse_test: {round(gs_gbr_mse_test, 4)}')\n",
    "\n",
    "gs_gbr_perf_dict = {\n",
    "    'R2': [gs_gbr_R2_train, gs_gbr_R2_test],\n",
    "    'MSE': [gs_gbr_mse_train, gs_gbr_mse_test]\n",
    "}\n",
    "\n",
    "gs_gbr_perf_df = pd.DataFrame(gs_gbr_perf_dict, index=['Train','Test'])\n",
    "gs_gbr_perf_df.T"
   ]
  },
  {
   "cell_type": "code",
   "execution_count": 79,
   "id": "4efcc0d5-f2cc-4b0c-91af-5c94c56e557b",
   "metadata": {},
   "outputs": [
    {
     "data": {
      "text/plain": [
       "GradientBoostingRegressor(max_depth=7, max_features=200, n_estimators=500,\n",
       "                          random_state=42)"
      ]
     },
     "execution_count": 79,
     "metadata": {},
     "output_type": "execute_result"
    }
   ],
   "source": [
    "gs_gbr.best_estimator_"
   ]
  },
  {
   "cell_type": "code",
   "execution_count": 80,
   "id": "d740f0c8-a406-471a-aff1-4e8287c7d890",
   "metadata": {},
   "outputs": [
    {
     "data": {
      "text/plain": [
       "0.5460109618022845"
      ]
     },
     "execution_count": 80,
     "metadata": {},
     "output_type": "execute_result"
    }
   ],
   "source": [
    "gs_gbr.best_score_"
   ]
  },
  {
   "cell_type": "code",
   "execution_count": 81,
   "id": "b6ebb556-8e69-4e63-a06e-06017e31955e",
   "metadata": {
    "tags": []
   },
   "outputs": [],
   "source": [
    "# pd.DataFrame(gs_gbr.cv_results_)"
   ]
  },
  {
   "cell_type": "markdown",
   "id": "80d14b49-2c7a-4a08-af8c-ee491c99203d",
   "metadata": {},
   "source": [
    "##### GridSearch 2"
   ]
  },
  {
   "cell_type": "code",
   "execution_count": 66,
   "id": "d5595e33-f600-4a2b-9188-8003bfb1b761",
   "metadata": {},
   "outputs": [
    {
     "name": "stdout",
     "output_type": "stream",
     "text": [
      "2022-01-05 18:54:09.653189\n",
      "2022-01-05 19:58:42.168533\n"
     ]
    }
   ],
   "source": [
    "# build the grid search for hyperparameters \n",
    "\n",
    "gbr2 = GradientBoostingRegressor(random_state=42)\n",
    "\n",
    "gbr_params = {\n",
    "    'n_estimators': [400],\n",
    "    #'learning_rate': [0.01, 0.1],\n",
    "    'max_depth': [3,4,5,6],\n",
    "    #'min_samples_split': [5,7,10],\n",
    "    #'min_samples_leaf': [2,3,5],\n",
    "    'max_features': [200, 300, 400]\n",
    "}\n",
    "\n",
    "gs_gbr2 = GridSearchCV(gbr,\n",
    "                     gbr_params,\n",
    "                     cv=5)\n",
    "\n",
    "# train\n",
    "\n",
    "print(datetime.datetime.now())\n",
    "\n",
    "gs_gbr2.fit(X_train_ct, y_train)\n",
    "\n",
    "print(datetime.datetime.now())"
   ]
  },
  {
   "cell_type": "code",
   "execution_count": 67,
   "id": "6381f537-b3f2-40e0-a979-6d5d88b8a4c4",
   "metadata": {},
   "outputs": [
    {
     "name": "stdout",
     "output_type": "stream",
     "text": [
      "gs_gbr2_R2_train: (1.0, 4)\n",
      "gs_gbr2_R2_test: (1.0, 4)\n",
      "\n",
      "gs_gbr2_mse_train: (4778.0, 4)\n",
      "gs_gbr2_mse_test: (7860.0, 4)\n"
     ]
    },
    {
     "data": {
      "text/html": [
       "<div>\n",
       "<style scoped>\n",
       "    .dataframe tbody tr th:only-of-type {\n",
       "        vertical-align: middle;\n",
       "    }\n",
       "\n",
       "    .dataframe tbody tr th {\n",
       "        vertical-align: top;\n",
       "    }\n",
       "\n",
       "    .dataframe thead th {\n",
       "        text-align: right;\n",
       "    }\n",
       "</style>\n",
       "<table border=\"1\" class=\"dataframe\">\n",
       "  <thead>\n",
       "    <tr style=\"text-align: right;\">\n",
       "      <th></th>\n",
       "      <th>Train</th>\n",
       "      <th>Test</th>\n",
       "    </tr>\n",
       "  </thead>\n",
       "  <tbody>\n",
       "    <tr>\n",
       "      <th>R2</th>\n",
       "      <td>0.718400</td>\n",
       "      <td>0.551165</td>\n",
       "    </tr>\n",
       "    <tr>\n",
       "      <th>MSE</th>\n",
       "      <td>4778.349247</td>\n",
       "      <td>7859.727603</td>\n",
       "    </tr>\n",
       "  </tbody>\n",
       "</table>\n",
       "</div>"
      ],
      "text/plain": [
       "           Train         Test\n",
       "R2      0.718400     0.551165\n",
       "MSE  4778.349247  7859.727603"
      ]
     },
     "execution_count": 67,
     "metadata": {},
     "output_type": "execute_result"
    }
   ],
   "source": [
    "# predict\n",
    "\n",
    "gs_gbr2_pred_train = gs_gbr2.predict(X_train_ct)\n",
    "gs_gbr2_pred_test = gs_gbr2.predict(X_test_ct)\n",
    "\n",
    "# evaluate\n",
    "\n",
    "gs_gbr2_R2_train = gs_gbr2.score(X_train_ct, y_train)\n",
    "gs_gbr2_R2_test = gs_gbr2.score(X_test_ct, y_test)\n",
    "\n",
    "print(f'gs_gbr2_R2_train: {round(gs_gbr2_R2_train), 4}')\n",
    "print(f'gs_gbr2_R2_test: {round(gs_gbr2_R2_test), 4}')\n",
    "print()\n",
    "\n",
    "gs_gbr2_mse_train = metrics.mean_squared_error(y_train, gs_gbr2_pred_train)\n",
    "gs_gbr2_mse_test = metrics.mean_squared_error(y_test, gs_gbr2_pred_test)\n",
    "\n",
    "print(f'gs_gbr2_mse_train: {round(gs_gbr2_mse_train), 4}')\n",
    "print(f'gs_gbr2_mse_test: {round(gs_gbr2_mse_test), 4}')\n",
    "\n",
    "gs_gbr2_perf_dict = {\n",
    "    'R2': [gs_gbr2_R2_train, gs_gbr2_R2_test],\n",
    "    'MSE': [gs_gbr2_mse_train, gs_gbr2_mse_test]\n",
    "}\n",
    "\n",
    "gs_gbr2_perf_df = pd.DataFrame(gs_gbr2_perf_dict, index=['Train','Test'])\n",
    "gs_gbr2_perf_df.T"
   ]
  },
  {
   "cell_type": "code",
   "execution_count": 68,
   "id": "e93b91e8-2362-4a23-9a8b-4d7e5557dfd3",
   "metadata": {},
   "outputs": [
    {
     "data": {
      "text/plain": [
       "GradientBoostingRegressor(max_depth=6, max_features=200, n_estimators=400,\n",
       "                          random_state=42)"
      ]
     },
     "execution_count": 68,
     "metadata": {},
     "output_type": "execute_result"
    }
   ],
   "source": [
    "gs_gbr2.best_estimator_"
   ]
  },
  {
   "cell_type": "code",
   "execution_count": null,
   "id": "03b2292e-3289-4d88-a84d-0f90fd78d93c",
   "metadata": {},
   "outputs": [],
   "source": [
    "pd.DataFrame(gs_gbr2.cv_results_)"
   ]
  },
  {
   "cell_type": "markdown",
   "id": "d3b5b504-721e-4c58-8c98-d5f537b84b52",
   "metadata": {},
   "source": [
    "#### RandomizedSearchCV\n",
    "[**Documentation on RandomizedSearchCV**](https://scikit-learn.org/stable/modules/generated/sklearn.model_selection.RandomizedSearchCV.html)"
   ]
  },
  {
   "cell_type": "code",
   "execution_count": 82,
   "id": "e6fdb35c-957d-4d08-8bc5-7bad83a07893",
   "metadata": {},
   "outputs": [
    {
     "data": {
      "text/plain": [
       "\"\\ngbr = GradientBoostingRegressor(random_state=42)\\n\\ngbr_params = {\\n    'n_estimators': range(300, 501, 100),\\n    #'learning_rate':[0.01, 0.1],\\n    'max_depth': range(2, 5, 1),\\n    #'min_samples_split': [5,7,10],\\n    #'min_samples_leaf': [2,3,5],\\n    'max_features': range(200, 501, 100)\\n}\\n\\nrs_gbr = RandomizedSearchCV(gbr,\\n                            gbr_params,\\n                            n_iter=50,\\n                            random_state=42,\\n                            cv=5)\\n\\n# train the model\\n\\nprint(datetime.datetime.now())\\n\\nrs_gbr.fit(X_train_ct, y_train)\\n\\nprint(datetime.datetime.now())\\n\""
      ]
     },
     "execution_count": 82,
     "metadata": {},
     "output_type": "execute_result"
    }
   ],
   "source": [
    "# build a randomized search for hyperparameters - killed after running 5 hours\n",
    "\n",
    "'''\n",
    "gbr = GradientBoostingRegressor(random_state=42)\n",
    "\n",
    "gbr_params = {\n",
    "    'n_estimators': range(300, 501, 100),\n",
    "    #'learning_rate':[0.01, 0.1],\n",
    "    'max_depth': range(2, 5, 1),\n",
    "    #'min_samples_split': [5,7,10],\n",
    "    #'min_samples_leaf': [2,3,5],\n",
    "    'max_features': range(200, 501, 100)\n",
    "}\n",
    "\n",
    "rs_gbr = RandomizedSearchCV(gbr,\n",
    "                            gbr_params,\n",
    "                            n_iter=50,\n",
    "                            random_state=42,\n",
    "                            cv=5)\n",
    "\n",
    "# train the model\n",
    "\n",
    "print(datetime.datetime.now())\n",
    "\n",
    "rs_gbr.fit(X_train_ct, y_train)\n",
    "\n",
    "print(datetime.datetime.now())\n",
    "'''"
   ]
  },
  {
   "cell_type": "code",
   "execution_count": null,
   "id": "2caa7a4a-cf25-4937-9696-8100adece5d2",
   "metadata": {},
   "outputs": [],
   "source": [
    "# predict\n",
    "rs_gbr_pred_train = rs_gbr.predict(X_train_ct)\n",
    "rs_gbr_pred_test = rs.gbr.predict(X_test_ct)\n",
    "\n",
    "\n",
    "# evaluate\n",
    "rs_gbr_R2_train = rs_gbr.score(X_train_ct, y_train)\n",
    "rs_gbr_R2_test = rs.gbr.score(X_test_ct, y_test)\n",
    "\n",
    "print(f'rs_gbr_R2_train: {round(rs_gbr_R2_train), 4}')\n",
    "print(f'rs_gbr_R2_test: {round(rs_gbr_R2_test), 4}')\n",
    "\n",
    "rs_gbr_mse_train = metrics.mean_squared_error(y_train, rs_gbr_pred_train)\n",
    "rs_gbr_mse_test = metrics.mean_squared_error(y_test, rs_gbr_pred_test)\n",
    "\n",
    "rs_gbr_perf_dict = {\n",
    "    'R2':  [rs_gbr_R2_train,  rs_gbr_R2_test],\n",
    "    'MSE': [rs_gbr_mse_train, rs_gbr_mse_test]\n",
    "}\n",
    "\n",
    "rs_gbr_perf_df = pd.DataFrame(rs_gbr_perf_dict, index=['Train','Test'])\n",
    "rs_gbr_perf_df.T"
   ]
  },
  {
   "cell_type": "code",
   "execution_count": null,
   "id": "175089a6-af57-4a32-b3b9-55f709401cf1",
   "metadata": {},
   "outputs": [],
   "source": [
    "rs_gbr.best_estimator_"
   ]
  },
  {
   "cell_type": "code",
   "execution_count": null,
   "id": "e1faa522-c27e-45a3-82d2-d8019634e7b3",
   "metadata": {},
   "outputs": [],
   "source": [
    "pd.DataFrame(rs_gbr.cv_results_)"
   ]
  },
  {
   "cell_type": "markdown",
   "id": "f3be8011-7b48-4670-8d9e-03cf63c2bc77",
   "metadata": {},
   "source": [
    "#### BayesSearchCV\n",
    "[**Documentation on skopt.BayesSearchCV**](https://scikit-optimize.github.io/stable/modules/generated/skopt.BayesSearchCV.html)"
   ]
  },
  {
   "cell_type": "code",
   "execution_count": null,
   "id": "23d48ebb-d1e5-4c7a-9606-688ca9e113e5",
   "metadata": {},
   "outputs": [],
   "source": [
    "# build the parameter search CV - didn't get to run due to time limit\n",
    "\n",
    "gbr = GradientBoostingRegressor(random_state=42)\n",
    "\n",
    "gbr_params = {\n",
    "    'n_estimators': [400, 600, 800],\n",
    "    'learning_rate': [0.01, 0.1],\n",
    "    'max_depth': [2,3,5,7],\n",
    "    'min_samples_split': [5,7,10],\n",
    "    'min_samples_leaf': [2,3,5],\n",
    "    'max_features': [400, 600, 800, 1000] \n",
    "}\n",
    "\n",
    "bs_gbr = BayesSearchCV(gbr,\n",
    "                       gbr_params,\n",
    "                       n_iter=32,\n",
    "                       random_state=42)\n",
    "\n",
    "# train\n",
    "print(datetime.datetime.now())\n",
    "\n",
    "bs_gbr.fit(X_train_ct, y_train)\n",
    "\n",
    "print(datetime.datetime.now())"
   ]
  },
  {
   "cell_type": "code",
   "execution_count": null,
   "id": "62f952dd-d4b8-49d7-a0f0-9bc56539af04",
   "metadata": {},
   "outputs": [],
   "source": [
    "# predict\n",
    "bs_gbr_pred_train = bs_gbr.predict(X_train_ct)\n",
    "bs_gbr_pred_test = bs_gbr.predict(X_teset_ct)\n",
    "\n",
    "# evaluate\n",
    "bs_gbr_R2_train = bs_gbr.score(X_train_ct, y_train)\n",
    "bs_gbr_R2_test = bs_gbr.score(X_test_ct, y_test)\n",
    "\n",
    "print(f'bs_gbr_R2_train: {round(bs_gbr_R2_train), 4}')\n",
    "print(f'bs_gbr_R2_test: {round(bs_gbr_R2_test), 4}')\n",
    "print()\n",
    "\n",
    "bs_gbr_mse_train = metrics.mean_squared_error(X_train_ct, y_train)\n",
    "bs_gbr_mse_test = metrics.mean_squared_error(X_test_ct, y_test)\n",
    "\n",
    "print(f'bs_gbr_mse_train, {round(bs_gbr_mse_train), 4}')\n",
    "print(f'bs_gbr_mse_test, {round(bs_gbr_mse_test), 4}')"
   ]
  },
  {
   "cell_type": "code",
   "execution_count": null,
   "id": "6ee8115a-a560-4081-a416-14fb5ee69976",
   "metadata": {},
   "outputs": [],
   "source": [
    "bs_gbr.best_estimator_"
   ]
  },
  {
   "cell_type": "code",
   "execution_count": null,
   "id": "90690370-718a-42c6-b25a-186b1f5212d4",
   "metadata": {},
   "outputs": [],
   "source": [
    "pd.DataFrame(bs_gbr.cv_results_)"
   ]
  },
  {
   "cell_type": "code",
   "execution_count": null,
   "id": "32c3cb3a-0485-42ee-bb4e-1b3e06d72589",
   "metadata": {},
   "outputs": [],
   "source": []
  },
  {
   "cell_type": "code",
   "execution_count": null,
   "id": "3965f173-d8c6-479f-b8b7-1d7be4f6712c",
   "metadata": {},
   "outputs": [],
   "source": []
  },
  {
   "cell_type": "markdown",
   "id": "9c67927a-671f-488e-afc0-720d9dbbe099",
   "metadata": {},
   "source": [
    "## Sileshi"
   ]
  },
  {
   "cell_type": "code",
   "execution_count": null,
   "id": "0a02be6b-dcc4-478d-8f98-81a1ea2e3cf4",
   "metadata": {},
   "outputs": [],
   "source": []
  },
  {
   "cell_type": "code",
   "execution_count": null,
   "id": "a3b12ff4-36c7-44f9-9492-52bf589d4d7c",
   "metadata": {},
   "outputs": [],
   "source": []
  },
  {
   "cell_type": "code",
   "execution_count": null,
   "id": "1b211cc7-8366-40d6-ad58-0a8b24b2c7c0",
   "metadata": {},
   "outputs": [],
   "source": []
  },
  {
   "cell_type": "code",
   "execution_count": null,
   "id": "0418cec6-44a8-4c8f-b37f-9a087e804385",
   "metadata": {},
   "outputs": [],
   "source": []
  },
  {
   "cell_type": "code",
   "execution_count": null,
   "id": "29548bad-94ee-4d28-8480-21d0d1ba74d8",
   "metadata": {},
   "outputs": [],
   "source": []
  },
  {
   "cell_type": "code",
   "execution_count": null,
   "id": "80f87a09-91b6-4e32-ae55-0a2dd0722093",
   "metadata": {},
   "outputs": [],
   "source": []
  },
  {
   "cell_type": "code",
   "execution_count": null,
   "id": "31f9ac37-878f-4743-b2d0-3647169a3b46",
   "metadata": {},
   "outputs": [],
   "source": []
  },
  {
   "cell_type": "code",
   "execution_count": null,
   "id": "9de166a5-1faf-4a29-980e-54e62df96aac",
   "metadata": {},
   "outputs": [],
   "source": []
  },
  {
   "cell_type": "code",
   "execution_count": null,
   "id": "ef0861f6-ed7e-4aa6-8139-67a03e61f012",
   "metadata": {},
   "outputs": [],
   "source": []
  },
  {
   "cell_type": "code",
   "execution_count": null,
   "id": "596ef106-687a-4327-8818-2aff6d868528",
   "metadata": {},
   "outputs": [],
   "source": []
  },
  {
   "cell_type": "code",
   "execution_count": null,
   "id": "f1174d6c-67dd-4bc6-9e4d-a46f014c0a64",
   "metadata": {},
   "outputs": [],
   "source": []
  },
  {
   "cell_type": "code",
   "execution_count": null,
   "id": "96d75dab-48b6-4877-8098-68e1542db466",
   "metadata": {},
   "outputs": [],
   "source": []
  },
  {
   "cell_type": "code",
   "execution_count": null,
   "id": "0527b9a3-6034-4ede-9bed-a81982d47ddd",
   "metadata": {},
   "outputs": [],
   "source": []
  },
  {
   "cell_type": "code",
   "execution_count": null,
   "id": "e29bfe5a-bd93-409a-9660-c0deed041f14",
   "metadata": {},
   "outputs": [],
   "source": []
  },
  {
   "cell_type": "code",
   "execution_count": null,
   "id": "c396d833-2e4f-4a66-8fec-2fa6444f57a7",
   "metadata": {},
   "outputs": [],
   "source": []
  },
  {
   "cell_type": "code",
   "execution_count": null,
   "id": "28ec6c51-d91d-4377-81e0-9136b92de0d2",
   "metadata": {},
   "outputs": [],
   "source": []
  },
  {
   "cell_type": "code",
   "execution_count": null,
   "id": "c3bd50a9-4498-44bf-9e39-ce60a6364561",
   "metadata": {},
   "outputs": [],
   "source": []
  },
  {
   "cell_type": "code",
   "execution_count": null,
   "id": "f67c313a-78cb-4e9e-859d-ecea7a6260a6",
   "metadata": {},
   "outputs": [],
   "source": []
  },
  {
   "cell_type": "code",
   "execution_count": null,
   "id": "18c76069-41b1-4062-bcc3-9ccc35b6e4d4",
   "metadata": {},
   "outputs": [],
   "source": []
  },
  {
   "cell_type": "code",
   "execution_count": null,
   "id": "d9dbd4f7-7d7f-4480-992f-6a079918355b",
   "metadata": {},
   "outputs": [],
   "source": []
  },
  {
   "cell_type": "code",
   "execution_count": null,
   "id": "d69364a2-fcef-4d6a-9833-38c24332f560",
   "metadata": {},
   "outputs": [],
   "source": []
  },
  {
   "cell_type": "code",
   "execution_count": null,
   "id": "14795854-f09e-4c74-8018-ac56f738447c",
   "metadata": {},
   "outputs": [],
   "source": []
  },
  {
   "cell_type": "code",
   "execution_count": null,
   "id": "08233bb9-5e18-40e5-bbfa-3e1262e4c8c7",
   "metadata": {},
   "outputs": [],
   "source": []
  },
  {
   "cell_type": "code",
   "execution_count": null,
   "id": "9abba40f-db86-4174-ba13-ecdd9973ecf3",
   "metadata": {},
   "outputs": [],
   "source": []
  },
  {
   "cell_type": "code",
   "execution_count": null,
   "id": "cd2ff7f8-8e71-473b-9293-1bda83512f4a",
   "metadata": {},
   "outputs": [],
   "source": []
  },
  {
   "cell_type": "code",
   "execution_count": null,
   "id": "7cbf1ee2-e528-47d2-a49a-ae85196836eb",
   "metadata": {},
   "outputs": [],
   "source": []
  },
  {
   "cell_type": "code",
   "execution_count": null,
   "id": "52bb5142-537c-491d-87c2-b30a4c884b92",
   "metadata": {},
   "outputs": [],
   "source": []
  },
  {
   "cell_type": "code",
   "execution_count": null,
   "id": "17b624f4-c567-4dbd-bdc4-45067b7e6181",
   "metadata": {},
   "outputs": [],
   "source": []
  },
  {
   "cell_type": "code",
   "execution_count": null,
   "id": "bcf77be9-b1c4-4c9b-a3b6-202addc12262",
   "metadata": {},
   "outputs": [],
   "source": []
  },
  {
   "cell_type": "markdown",
   "id": "08269302-d857-4383-8fff-492d80714898",
   "metadata": {},
   "source": [
    "## Mason"
   ]
  },
  {
   "cell_type": "code",
   "execution_count": null,
   "id": "6d6a8100-3ea1-42e1-98b9-e81463d07fc0",
   "metadata": {},
   "outputs": [],
   "source": []
  },
  {
   "cell_type": "code",
   "execution_count": null,
   "id": "486fb6c2-2e49-4e33-9460-14c425b85b0a",
   "metadata": {},
   "outputs": [],
   "source": []
  },
  {
   "cell_type": "code",
   "execution_count": null,
   "id": "c519d467-776f-4b2e-9ab9-bdcaca454f5d",
   "metadata": {},
   "outputs": [],
   "source": []
  },
  {
   "cell_type": "code",
   "execution_count": null,
   "id": "680de603-2501-4d95-a129-36f48316f239",
   "metadata": {},
   "outputs": [],
   "source": []
  },
  {
   "cell_type": "code",
   "execution_count": null,
   "id": "fef4a5a0-4843-42bf-8d73-2f011828a5ea",
   "metadata": {},
   "outputs": [],
   "source": []
  },
  {
   "cell_type": "code",
   "execution_count": null,
   "id": "6200ba3d-0c9e-4603-b438-94232f9f8fdb",
   "metadata": {},
   "outputs": [],
   "source": []
  },
  {
   "cell_type": "code",
   "execution_count": null,
   "id": "cbc80030-abb6-40c1-afeb-9ae6fd572933",
   "metadata": {},
   "outputs": [],
   "source": []
  },
  {
   "cell_type": "code",
   "execution_count": null,
   "id": "8b418e18-5c26-44ca-8d63-1b7027691722",
   "metadata": {},
   "outputs": [],
   "source": []
  },
  {
   "cell_type": "code",
   "execution_count": null,
   "id": "473c8821-0494-4d44-9553-63d6581bd80a",
   "metadata": {},
   "outputs": [],
   "source": []
  },
  {
   "cell_type": "code",
   "execution_count": null,
   "id": "809a1c1b-81a4-4f25-b611-ba55e11e034a",
   "metadata": {},
   "outputs": [],
   "source": []
  },
  {
   "cell_type": "code",
   "execution_count": null,
   "id": "c1bec8f6-782d-47b8-afe2-32847b7df7c2",
   "metadata": {},
   "outputs": [],
   "source": []
  },
  {
   "cell_type": "code",
   "execution_count": null,
   "id": "2076bbf0-76d4-448f-95e8-7593f99d7906",
   "metadata": {},
   "outputs": [],
   "source": []
  },
  {
   "cell_type": "code",
   "execution_count": null,
   "id": "dcf2a049-636a-442d-95bf-a03512b92177",
   "metadata": {},
   "outputs": [],
   "source": []
  },
  {
   "cell_type": "code",
   "execution_count": null,
   "id": "3ba2886c-2045-478c-88f6-f63eace6dab7",
   "metadata": {},
   "outputs": [],
   "source": []
  },
  {
   "cell_type": "code",
   "execution_count": null,
   "id": "9b43de63-5d62-42cb-9c27-0a86ce7e58ce",
   "metadata": {},
   "outputs": [],
   "source": []
  },
  {
   "cell_type": "code",
   "execution_count": null,
   "id": "3b926442-2529-47b8-867b-395dbea4640b",
   "metadata": {},
   "outputs": [],
   "source": []
  },
  {
   "cell_type": "code",
   "execution_count": null,
   "id": "6b1f87dd-848d-497c-b97c-9a805243bdc1",
   "metadata": {},
   "outputs": [],
   "source": []
  },
  {
   "cell_type": "code",
   "execution_count": null,
   "id": "a125cffb-1ebc-45c8-aea8-f16429de89ee",
   "metadata": {},
   "outputs": [],
   "source": []
  },
  {
   "cell_type": "code",
   "execution_count": null,
   "id": "8db59ba7-9cf5-4ab6-9cf6-ca3c5b806893",
   "metadata": {},
   "outputs": [],
   "source": []
  },
  {
   "cell_type": "code",
   "execution_count": null,
   "id": "b88c4fc4-d2b2-4f3d-8e63-38ab9a7427f7",
   "metadata": {},
   "outputs": [],
   "source": []
  },
  {
   "cell_type": "code",
   "execution_count": null,
   "id": "90c809ab-74f4-420f-b191-b05172298950",
   "metadata": {},
   "outputs": [],
   "source": []
  },
  {
   "cell_type": "code",
   "execution_count": null,
   "id": "365cbefb-212c-48ed-a58d-e02b7c66634e",
   "metadata": {},
   "outputs": [],
   "source": []
  },
  {
   "cell_type": "code",
   "execution_count": null,
   "id": "491ad453-71ed-4606-b559-f72fcf565d9b",
   "metadata": {},
   "outputs": [],
   "source": []
  },
  {
   "cell_type": "code",
   "execution_count": null,
   "id": "4a01722d-96f5-4057-ad79-8cc0194722c0",
   "metadata": {},
   "outputs": [],
   "source": []
  },
  {
   "cell_type": "code",
   "execution_count": null,
   "id": "0d1c0dcd-4e3b-4820-afad-a69543e42bee",
   "metadata": {},
   "outputs": [],
   "source": []
  },
  {
   "cell_type": "code",
   "execution_count": null,
   "id": "b5a5d676-f37a-4b01-8460-dbd008b2a9b9",
   "metadata": {},
   "outputs": [],
   "source": []
  },
  {
   "cell_type": "code",
   "execution_count": null,
   "id": "602ea126-f722-4cb7-a4ac-dba134ec9c10",
   "metadata": {},
   "outputs": [],
   "source": []
  },
  {
   "cell_type": "code",
   "execution_count": null,
   "id": "0235ca01-b54a-4897-a2f6-6bc1e7765947",
   "metadata": {},
   "outputs": [],
   "source": []
  }
 ],
 "metadata": {
  "kernelspec": {
   "display_name": "Python 3",
   "language": "python",
   "name": "python3"
  },
  "language_info": {
   "codemirror_mode": {
    "name": "ipython",
    "version": 3
   },
   "file_extension": ".py",
   "mimetype": "text/x-python",
   "name": "python",
   "nbconvert_exporter": "python",
   "pygments_lexer": "ipython3",
   "version": "3.8.8"
  }
 },
 "nbformat": 4,
 "nbformat_minor": 5
}
