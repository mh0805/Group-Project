{
 "cells": [
  {
   "cell_type": "markdown",
   "id": "6723b575-44fc-4aa4-a1df-6a7710f3d14e",
   "metadata": {},
   "source": [
    "# Hans-EDA"
   ]
  },
  {
   "cell_type": "code",
   "execution_count": 13,
   "id": "9c7ad453-107b-42ec-a14b-0c98243cf530",
   "metadata": {},
   "outputs": [],
   "source": [
    "import pandas as pd\n",
    "import numpy as np\n",
    "import matplotlib.pyplot as plt\n",
    "import seaborn as sns"
   ]
  },
  {
   "cell_type": "code",
   "execution_count": 14,
   "id": "812a401b-3e10-400c-85b0-339f0f65aa9d",
   "metadata": {},
   "outputs": [
    {
     "data": {
      "text/html": [
       "<div>\n",
       "<style scoped>\n",
       "    .dataframe tbody tr th:only-of-type {\n",
       "        vertical-align: middle;\n",
       "    }\n",
       "\n",
       "    .dataframe tbody tr th {\n",
       "        vertical-align: top;\n",
       "    }\n",
       "\n",
       "    .dataframe thead th {\n",
       "        text-align: right;\n",
       "    }\n",
       "</style>\n",
       "<table border=\"1\" class=\"dataframe\">\n",
       "  <thead>\n",
       "    <tr style=\"text-align: right;\">\n",
       "      <th></th>\n",
       "      <th>Unnamed: 0</th>\n",
       "      <th>timestamp</th>\n",
       "      <th>company</th>\n",
       "      <th>level</th>\n",
       "      <th>title</th>\n",
       "      <th>totalyearlycompensation</th>\n",
       "      <th>location</th>\n",
       "      <th>yearsofexperience</th>\n",
       "      <th>yearsatcompany</th>\n",
       "      <th>tag</th>\n",
       "      <th>...</th>\n",
       "      <th>month</th>\n",
       "      <th>year_month</th>\n",
       "      <th>timestamp_3mos</th>\n",
       "      <th>year_month_3mos</th>\n",
       "      <th>state_short</th>\n",
       "      <th>inflation_rate</th>\n",
       "      <th>inflation_rate_3mos</th>\n",
       "      <th>state</th>\n",
       "      <th>employment_rate</th>\n",
       "      <th>employment_rate_3mos</th>\n",
       "    </tr>\n",
       "  </thead>\n",
       "  <tbody>\n",
       "    <tr>\n",
       "      <th>0</th>\n",
       "      <td>0</td>\n",
       "      <td>2018-06-03 13:58:20</td>\n",
       "      <td>Yahoo</td>\n",
       "      <td>IC2</td>\n",
       "      <td>Software Engineer</td>\n",
       "      <td>160.5</td>\n",
       "      <td>Sunnyvale, CA</td>\n",
       "      <td>0.58</td>\n",
       "      <td>0.58</td>\n",
       "      <td>Full Stack</td>\n",
       "      <td>...</td>\n",
       "      <td>6</td>\n",
       "      <td>2018-06</td>\n",
       "      <td>2018-03-03 13:58:20</td>\n",
       "      <td>2018-03</td>\n",
       "      <td>CA</td>\n",
       "      <td>0.029</td>\n",
       "      <td>0.024</td>\n",
       "      <td>California</td>\n",
       "      <td>0.957660</td>\n",
       "      <td>0.956797</td>\n",
       "    </tr>\n",
       "    <tr>\n",
       "      <th>1</th>\n",
       "      <td>2</td>\n",
       "      <td>2018-06-04 20:28:22</td>\n",
       "      <td>Facebook</td>\n",
       "      <td>E3</td>\n",
       "      <td>Software Engineer</td>\n",
       "      <td>165.0</td>\n",
       "      <td>Seattle, WA</td>\n",
       "      <td>1.00</td>\n",
       "      <td>1.00</td>\n",
       "      <td>Full Stack</td>\n",
       "      <td>...</td>\n",
       "      <td>6</td>\n",
       "      <td>2018-06</td>\n",
       "      <td>2018-03-04 20:28:22</td>\n",
       "      <td>2018-03</td>\n",
       "      <td>WA</td>\n",
       "      <td>0.029</td>\n",
       "      <td>0.024</td>\n",
       "      <td>Washington</td>\n",
       "      <td>0.955998</td>\n",
       "      <td>0.954978</td>\n",
       "    </tr>\n",
       "    <tr>\n",
       "      <th>2</th>\n",
       "      <td>3</td>\n",
       "      <td>2018-06-05 00:56:33</td>\n",
       "      <td>VmWare</td>\n",
       "      <td>Senior MTS</td>\n",
       "      <td>Software Engineer</td>\n",
       "      <td>218.0</td>\n",
       "      <td>Palo Alto, CA</td>\n",
       "      <td>8.00</td>\n",
       "      <td>1.00</td>\n",
       "      <td>Distributed Systems (Back-End)</td>\n",
       "      <td>...</td>\n",
       "      <td>6</td>\n",
       "      <td>2018-06</td>\n",
       "      <td>2018-03-05 00:56:33</td>\n",
       "      <td>2018-03</td>\n",
       "      <td>CA</td>\n",
       "      <td>0.029</td>\n",
       "      <td>0.024</td>\n",
       "      <td>California</td>\n",
       "      <td>0.957660</td>\n",
       "      <td>0.956797</td>\n",
       "    </tr>\n",
       "    <tr>\n",
       "      <th>3</th>\n",
       "      <td>4</td>\n",
       "      <td>2018-06-05 01:19:05</td>\n",
       "      <td>Uber</td>\n",
       "      <td>L4</td>\n",
       "      <td>Software Engineer</td>\n",
       "      <td>240.0</td>\n",
       "      <td>San Francisco, CA</td>\n",
       "      <td>3.00</td>\n",
       "      <td>0.00</td>\n",
       "      <td>Web Development (Front-End)</td>\n",
       "      <td>...</td>\n",
       "      <td>6</td>\n",
       "      <td>2018-06</td>\n",
       "      <td>2018-03-05 01:19:05</td>\n",
       "      <td>2018-03</td>\n",
       "      <td>CA</td>\n",
       "      <td>0.029</td>\n",
       "      <td>0.024</td>\n",
       "      <td>California</td>\n",
       "      <td>0.957660</td>\n",
       "      <td>0.956797</td>\n",
       "    </tr>\n",
       "    <tr>\n",
       "      <th>4</th>\n",
       "      <td>5</td>\n",
       "      <td>2018-06-05 07:13:17</td>\n",
       "      <td>Capital One</td>\n",
       "      <td>Master Software Engineer</td>\n",
       "      <td>Software Engineer</td>\n",
       "      <td>196.0</td>\n",
       "      <td>New York, NY</td>\n",
       "      <td>8.00</td>\n",
       "      <td>2.00</td>\n",
       "      <td>iOS</td>\n",
       "      <td>...</td>\n",
       "      <td>6</td>\n",
       "      <td>2018-06</td>\n",
       "      <td>2018-03-05 07:13:17</td>\n",
       "      <td>2018-03</td>\n",
       "      <td>NY</td>\n",
       "      <td>0.029</td>\n",
       "      <td>0.024</td>\n",
       "      <td>New York</td>\n",
       "      <td>0.959053</td>\n",
       "      <td>0.955962</td>\n",
       "    </tr>\n",
       "  </tbody>\n",
       "</table>\n",
       "<p>5 rows × 21 columns</p>\n",
       "</div>"
      ],
      "text/plain": [
       "   Unnamed: 0            timestamp      company                     level  \\\n",
       "0           0  2018-06-03 13:58:20        Yahoo                       IC2   \n",
       "1           2  2018-06-04 20:28:22     Facebook                        E3   \n",
       "2           3  2018-06-05 00:56:33       VmWare                Senior MTS   \n",
       "3           4  2018-06-05 01:19:05         Uber                        L4   \n",
       "4           5  2018-06-05 07:13:17  Capital One  Master Software Engineer   \n",
       "\n",
       "               title  totalyearlycompensation           location  \\\n",
       "0  Software Engineer                    160.5      Sunnyvale, CA   \n",
       "1  Software Engineer                    165.0        Seattle, WA   \n",
       "2  Software Engineer                    218.0      Palo Alto, CA   \n",
       "3  Software Engineer                    240.0  San Francisco, CA   \n",
       "4  Software Engineer                    196.0       New York, NY   \n",
       "\n",
       "   yearsofexperience  yearsatcompany                             tag  ...  \\\n",
       "0               0.58            0.58                      Full Stack  ...   \n",
       "1               1.00            1.00                      Full Stack  ...   \n",
       "2               8.00            1.00  Distributed Systems (Back-End)  ...   \n",
       "3               3.00            0.00     Web Development (Front-End)  ...   \n",
       "4               8.00            2.00                             iOS  ...   \n",
       "\n",
       "   month  year_month       timestamp_3mos year_month_3mos state_short  \\\n",
       "0      6     2018-06  2018-03-03 13:58:20         2018-03          CA   \n",
       "1      6     2018-06  2018-03-04 20:28:22         2018-03          WA   \n",
       "2      6     2018-06  2018-03-05 00:56:33         2018-03          CA   \n",
       "3      6     2018-06  2018-03-05 01:19:05         2018-03          CA   \n",
       "4      6     2018-06  2018-03-05 07:13:17         2018-03          NY   \n",
       "\n",
       "  inflation_rate  inflation_rate_3mos       state employment_rate  \\\n",
       "0          0.029                0.024  California        0.957660   \n",
       "1          0.029                0.024  Washington        0.955998   \n",
       "2          0.029                0.024  California        0.957660   \n",
       "3          0.029                0.024  California        0.957660   \n",
       "4          0.029                0.024    New York        0.959053   \n",
       "\n",
       "   employment_rate_3mos  \n",
       "0              0.956797  \n",
       "1              0.954978  \n",
       "2              0.956797  \n",
       "3              0.956797  \n",
       "4              0.955962  \n",
       "\n",
       "[5 rows x 21 columns]"
      ]
     },
     "execution_count": 14,
     "metadata": {},
     "output_type": "execute_result"
    }
   ],
   "source": [
    "df = pd.read_csv('./Data/salary_cleaned.csv', index_col = None)\n",
    "df.head()"
   ]
  },
  {
   "cell_type": "code",
   "execution_count": 15,
   "id": "2c4b5544-5b4f-4359-b7c1-4dcf617eab77",
   "metadata": {},
   "outputs": [
    {
     "data": {
      "text/plain": [
       "(24496, 21)"
      ]
     },
     "execution_count": 15,
     "metadata": {},
     "output_type": "execute_result"
    }
   ],
   "source": [
    "df.shape"
   ]
  },
  {
   "cell_type": "code",
   "execution_count": 16,
   "id": "a548a234-8263-4f89-b6bf-c10dc6f77900",
   "metadata": {},
   "outputs": [
    {
     "name": "stdout",
     "output_type": "stream",
     "text": [
      "<class 'pandas.core.frame.DataFrame'>\n",
      "RangeIndex: 24496 entries, 0 to 24495\n",
      "Data columns (total 21 columns):\n",
      " #   Column                   Non-Null Count  Dtype  \n",
      "---  ------                   --------------  -----  \n",
      " 0   Unnamed: 0               24496 non-null  int64  \n",
      " 1   timestamp                24496 non-null  object \n",
      " 2   company                  24496 non-null  object \n",
      " 3   level                    24496 non-null  object \n",
      " 4   title                    24496 non-null  object \n",
      " 5   totalyearlycompensation  24496 non-null  float64\n",
      " 6   location                 24496 non-null  object \n",
      " 7   yearsofexperience        24496 non-null  float64\n",
      " 8   yearsatcompany           24496 non-null  float64\n",
      " 9   tag                      24496 non-null  object \n",
      " 10  year                     24496 non-null  int64  \n",
      " 11  month                    24496 non-null  int64  \n",
      " 12  year_month               24496 non-null  object \n",
      " 13  timestamp_3mos           24496 non-null  object \n",
      " 14  year_month_3mos          24496 non-null  object \n",
      " 15  state_short              24496 non-null  object \n",
      " 16  inflation_rate           24496 non-null  float64\n",
      " 17  inflation_rate_3mos      24496 non-null  float64\n",
      " 18  state                    24496 non-null  object \n",
      " 19  employment_rate          24496 non-null  float64\n",
      " 20  employment_rate_3mos     24496 non-null  float64\n",
      "dtypes: float64(7), int64(3), object(11)\n",
      "memory usage: 3.9+ MB\n"
     ]
    }
   ],
   "source": [
    "df.info()"
   ]
  },
  {
   "cell_type": "code",
   "execution_count": 17,
   "id": "170e661f-8006-485e-a54a-38dc910b3907",
   "metadata": {},
   "outputs": [
    {
     "data": {
      "text/html": [
       "<div>\n",
       "<style scoped>\n",
       "    .dataframe tbody tr th:only-of-type {\n",
       "        vertical-align: middle;\n",
       "    }\n",
       "\n",
       "    .dataframe tbody tr th {\n",
       "        vertical-align: top;\n",
       "    }\n",
       "\n",
       "    .dataframe thead th {\n",
       "        text-align: right;\n",
       "    }\n",
       "</style>\n",
       "<table border=\"1\" class=\"dataframe\">\n",
       "  <thead>\n",
       "    <tr style=\"text-align: right;\">\n",
       "      <th></th>\n",
       "      <th>company</th>\n",
       "      <th>level</th>\n",
       "      <th>title</th>\n",
       "      <th>totalyearlycompensation</th>\n",
       "      <th>yearsofexperience</th>\n",
       "      <th>yearsatcompany</th>\n",
       "      <th>tag</th>\n",
       "      <th>year</th>\n",
       "      <th>month</th>\n",
       "      <th>year_month</th>\n",
       "      <th>year_month_3mos</th>\n",
       "      <th>state_short</th>\n",
       "      <th>inflation_rate</th>\n",
       "      <th>inflation_rate_3mos</th>\n",
       "      <th>employment_rate</th>\n",
       "      <th>employment_rate_3mos</th>\n",
       "    </tr>\n",
       "  </thead>\n",
       "  <tbody>\n",
       "    <tr>\n",
       "      <th>0</th>\n",
       "      <td>Yahoo</td>\n",
       "      <td>IC2</td>\n",
       "      <td>Software Engineer</td>\n",
       "      <td>160.5</td>\n",
       "      <td>0.58</td>\n",
       "      <td>0.58</td>\n",
       "      <td>Full Stack</td>\n",
       "      <td>2018</td>\n",
       "      <td>6</td>\n",
       "      <td>2018-06</td>\n",
       "      <td>2018-03</td>\n",
       "      <td>CA</td>\n",
       "      <td>0.029</td>\n",
       "      <td>0.024</td>\n",
       "      <td>0.957660</td>\n",
       "      <td>0.956797</td>\n",
       "    </tr>\n",
       "    <tr>\n",
       "      <th>1</th>\n",
       "      <td>Facebook</td>\n",
       "      <td>E3</td>\n",
       "      <td>Software Engineer</td>\n",
       "      <td>165.0</td>\n",
       "      <td>1.00</td>\n",
       "      <td>1.00</td>\n",
       "      <td>Full Stack</td>\n",
       "      <td>2018</td>\n",
       "      <td>6</td>\n",
       "      <td>2018-06</td>\n",
       "      <td>2018-03</td>\n",
       "      <td>WA</td>\n",
       "      <td>0.029</td>\n",
       "      <td>0.024</td>\n",
       "      <td>0.955998</td>\n",
       "      <td>0.954978</td>\n",
       "    </tr>\n",
       "    <tr>\n",
       "      <th>2</th>\n",
       "      <td>VmWare</td>\n",
       "      <td>Senior MTS</td>\n",
       "      <td>Software Engineer</td>\n",
       "      <td>218.0</td>\n",
       "      <td>8.00</td>\n",
       "      <td>1.00</td>\n",
       "      <td>Distributed Systems (Back-End)</td>\n",
       "      <td>2018</td>\n",
       "      <td>6</td>\n",
       "      <td>2018-06</td>\n",
       "      <td>2018-03</td>\n",
       "      <td>CA</td>\n",
       "      <td>0.029</td>\n",
       "      <td>0.024</td>\n",
       "      <td>0.957660</td>\n",
       "      <td>0.956797</td>\n",
       "    </tr>\n",
       "    <tr>\n",
       "      <th>3</th>\n",
       "      <td>Uber</td>\n",
       "      <td>L4</td>\n",
       "      <td>Software Engineer</td>\n",
       "      <td>240.0</td>\n",
       "      <td>3.00</td>\n",
       "      <td>0.00</td>\n",
       "      <td>Web Development (Front-End)</td>\n",
       "      <td>2018</td>\n",
       "      <td>6</td>\n",
       "      <td>2018-06</td>\n",
       "      <td>2018-03</td>\n",
       "      <td>CA</td>\n",
       "      <td>0.029</td>\n",
       "      <td>0.024</td>\n",
       "      <td>0.957660</td>\n",
       "      <td>0.956797</td>\n",
       "    </tr>\n",
       "    <tr>\n",
       "      <th>4</th>\n",
       "      <td>Capital One</td>\n",
       "      <td>Master Software Engineer</td>\n",
       "      <td>Software Engineer</td>\n",
       "      <td>196.0</td>\n",
       "      <td>8.00</td>\n",
       "      <td>2.00</td>\n",
       "      <td>iOS</td>\n",
       "      <td>2018</td>\n",
       "      <td>6</td>\n",
       "      <td>2018-06</td>\n",
       "      <td>2018-03</td>\n",
       "      <td>NY</td>\n",
       "      <td>0.029</td>\n",
       "      <td>0.024</td>\n",
       "      <td>0.959053</td>\n",
       "      <td>0.955962</td>\n",
       "    </tr>\n",
       "  </tbody>\n",
       "</table>\n",
       "</div>"
      ],
      "text/plain": [
       "       company                     level              title  \\\n",
       "0        Yahoo                       IC2  Software Engineer   \n",
       "1     Facebook                        E3  Software Engineer   \n",
       "2       VmWare                Senior MTS  Software Engineer   \n",
       "3         Uber                        L4  Software Engineer   \n",
       "4  Capital One  Master Software Engineer  Software Engineer   \n",
       "\n",
       "   totalyearlycompensation  yearsofexperience  yearsatcompany  \\\n",
       "0                    160.5               0.58            0.58   \n",
       "1                    165.0               1.00            1.00   \n",
       "2                    218.0               8.00            1.00   \n",
       "3                    240.0               3.00            0.00   \n",
       "4                    196.0               8.00            2.00   \n",
       "\n",
       "                              tag  year  month year_month year_month_3mos  \\\n",
       "0                      Full Stack  2018      6    2018-06         2018-03   \n",
       "1                      Full Stack  2018      6    2018-06         2018-03   \n",
       "2  Distributed Systems (Back-End)  2018      6    2018-06         2018-03   \n",
       "3     Web Development (Front-End)  2018      6    2018-06         2018-03   \n",
       "4                             iOS  2018      6    2018-06         2018-03   \n",
       "\n",
       "  state_short  inflation_rate  inflation_rate_3mos  employment_rate  \\\n",
       "0          CA           0.029                0.024         0.957660   \n",
       "1          WA           0.029                0.024         0.955998   \n",
       "2          CA           0.029                0.024         0.957660   \n",
       "3          CA           0.029                0.024         0.957660   \n",
       "4          NY           0.029                0.024         0.959053   \n",
       "\n",
       "   employment_rate_3mos  \n",
       "0              0.956797  \n",
       "1              0.954978  \n",
       "2              0.956797  \n",
       "3              0.956797  \n",
       "4              0.955962  "
      ]
     },
     "execution_count": 17,
     "metadata": {},
     "output_type": "execute_result"
    }
   ],
   "source": [
    "df.drop(columns = ['Unnamed: 0', 'timestamp', 'location', 'timestamp_3mos', 'state'], inplace = True)\n",
    "\n",
    "df.head()"
   ]
  },
  {
   "cell_type": "code",
   "execution_count": 18,
   "id": "3fd5552f-cd50-4bb7-a028-c72ae53da096",
   "metadata": {},
   "outputs": [
    {
     "data": {
      "text/plain": [
       "(24496, 16)"
      ]
     },
     "execution_count": 18,
     "metadata": {},
     "output_type": "execute_result"
    }
   ],
   "source": [
    "df.shape"
   ]
  },
  {
   "cell_type": "code",
   "execution_count": 20,
   "id": "096947b3-a789-4827-8039-489674e56de6",
   "metadata": {},
   "outputs": [
    {
     "name": "stdout",
     "output_type": "stream",
     "text": [
      "company : ['zynga', 'zoox', 'zillow group', 'yahoo', 'workday']\n",
      "level : ['Сontractor', '||', 'x6', 'vice president', 'unknown']\n",
      "title : ['Technical Program Manager', 'Solution Architect', 'Software Engineering Manager', 'Software Engineer', 'Sales']\n",
      "totalyearlycompensation : [4950.0, 2500.0, 2000.0, 1950.0, 1800.0]\n",
      "yearsofexperience : [41.0, 40.0, 39.0, 37.0, 36.0]\n",
      "yearsatcompany : [34.0, 32.0, 30.0, 28.0, 27.0]\n",
      "tag : ['Èda ', 'ux', 'user Experience ', 'unix/linux', 'undecided']\n",
      "year : [2020, 2019, 2018]\n",
      "month : [12, 11, 10, 9, 8]\n",
      "year_month : ['2020-09', '2020-08', '2020-07', '2020-06', '2020-05']\n",
      "year_month_3mos : ['2020-06', '2020-05', '2020-04', '2020-03', '2020-02']\n",
      "state_short : ['WV', 'WI', 'WA', 'VT', 'VA']\n",
      "inflation_rate : [0.03, 0.029, 0.027, 0.025, 0.023]\n",
      "inflation_rate_3mos : [0.03, 0.029, 0.028, 0.027, 0.025]\n",
      "employment_rate : [0.9761019371782508, 0.9757459236538152, 0.9756963448367676, 0.9756554434044054, 0.9755781867221222]\n",
      "employment_rate_3mos : [0.9763629979362656, 0.9762067485535127, 0.9761704915347924, 0.9759664867618262, 0.9756963448367676]\n"
     ]
    }
   ],
   "source": [
    "# Looking for unique values in object type columns\n",
    "\n",
    "for column in df:\n",
    "    print(f'{column} : {sorted(list(df[column].unique()), reverse = True)[0:5]}')"
   ]
  },
  {
   "cell_type": "markdown",
   "id": "f0260c80-5402-4f15-916d-532880e3fc8a",
   "metadata": {},
   "source": [
    "### As shown, in 'totalyearlycompensation' there are thousands which mean MILLIONS? , also I think we could limit employment rate to 3 decimals."
   ]
  },
  {
   "cell_type": "code",
   "execution_count": null,
   "id": "6e5ee4dc-ad0d-43d8-8165-dbfd65d3761f",
   "metadata": {},
   "outputs": [],
   "source": []
  },
  {
   "cell_type": "markdown",
   "id": "18ffefef-d342-4975-b75a-db053a7beee9",
   "metadata": {},
   "source": [
    "#### Visuals"
   ]
  },
  {
   "cell_type": "code",
   "execution_count": 22,
   "id": "cde02b1e-4f60-4f84-8759-cdee5fec4d6d",
   "metadata": {},
   "outputs": [
    {
     "data": {
      "image/png": "[encoded data removed]",
      "text/plain": [
       "<Figure size 720x360 with 1 Axes>"
      ]
     },
     "metadata": {
      "needs_background": "light"
     },
     "output_type": "display_data"
    }
   ],
   "source": [
    "import warnings\n",
    "warnings.filterwarnings('ignore')\n",
    "\n",
    "plt.figure(figsize=(10, 5))\n",
    "sns.boxplot(df['totalyearlycompensation'], fliersize = 10)\n",
    "plt.title(label = 'Total Yearly Compensation', fontdict = {'size': 30}, loc = 'center')\n",
    "plt.xlabel('Thousand USD', fontdict = {'size': 20}, loc = 'center');"
   ]
  },
  {
   "cell_type": "code",
   "execution_count": 23,
   "id": "12eb2887-019b-4d29-89b6-6abf3060f7aa",
   "metadata": {},
   "outputs": [
    {
     "data": {
      "image/png": "[encoded data removed]",
      "text/plain": [
       "<Figure size 720x648 with 1 Axes>"
      ]
     },
     "metadata": {
      "needs_background": "light"
     },
     "output_type": "display_data"
    }
   ],
   "source": [
    "vs = df.plot(\n",
    "    kind='scatter', \n",
    "    x='totalyearlycompensation',\n",
    "    y='yearsofexperience',\n",
    "    title=\"Yearly Compensation vs YoE\",\n",
    "    alpha=0.6, # set the opacity of the points (0 is completely transparent and 1 is opaque)\n",
    "    figsize=(10,9)\n",
    ")\n",
    "\n",
    "vs.set_xlabel(\"Yearly Compensation (USD)\", fontsize=20) # set the axes labels with a fontsize\n",
    "vs.set_ylabel(\"Years of Experience\", fontsize = 20);"
   ]
  },
  {
   "cell_type": "code",
   "execution_count": 24,
   "id": "19e7a01a-a8e5-4be5-a665-e20217899dd3",
   "metadata": {},
   "outputs": [
    {
     "data": {
      "image/png": "[encoded data removed]",
      "text/plain": [
       "<Figure size 720x648 with 1 Axes>"
      ]
     },
     "metadata": {
      "needs_background": "light"
     },
     "output_type": "display_data"
    }
   ],
   "source": [
    "vs = df.plot(\n",
    "    kind='scatter', \n",
    "    x='totalyearlycompensation',\n",
    "    y='yearsatcompany',\n",
    "    title=\"Yearly Compensation vs YaC\",\n",
    "    alpha=0.6, # set the opacity of the points (0 is completely transparent and 1 is opaque)\n",
    "    figsize=(10,9)\n",
    ")\n",
    "\n",
    "vs.set_xlabel(\"Yearly Compensation (USD)\", fontsize=20) # set the axes labels with a fontsize\n",
    "vs.set_ylabel(\"Years at Company\", fontsize = 20);"
   ]
  },
  {
   "cell_type": "code",
   "execution_count": null,
   "id": "da9e749e-fd4c-4630-9ed2-4ad37b028b45",
   "metadata": {},
   "outputs": [],
   "source": []
  }
 ],
 "metadata": {
  "kernelspec": {
   "display_name": "Python 3",
   "language": "python",
   "name": "python3"
  },
  "language_info": {
   "codemirror_mode": {
    "name": "ipython",
    "version": 3
   },
   "file_extension": ".py",
   "mimetype": "text/x-python",
   "name": "python",
   "nbconvert_exporter": "python",
   "pygments_lexer": "ipython3",
   "version": "3.8.8"
  }
 },
 "nbformat": 4,
 "nbformat_minor": 5
}
