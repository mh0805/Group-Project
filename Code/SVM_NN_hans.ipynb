{
 "cells": [
  {
   "cell_type": "markdown",
   "id": "3c2a7ab3-d66b-4a46-b371-4b04dc6ceee3",
   "metadata": {},
   "source": [
    "# SVM model"
   ]
  },
  {
   "cell_type": "code",
   "execution_count": 2,
   "id": "0c7d55d5-e9f0-4b91-bbf0-ee12b92e3768",
   "metadata": {},
   "outputs": [],
   "source": [
    "import numpy as np\n",
    "import pandas as pd\n",
    "import matplotlib.pyplot as plt\n",
    "\n",
    "from sklearn.preprocessing import StandardScaler\n",
    "from sklearn.model_selection import GridSearchCV, train_test_split\n",
    "\n",
    "from sklearn.svm import SVR"
   ]
  },
  {
   "cell_type": "code",
   "execution_count": 3,
   "id": "f776be98-f856-4710-8c2c-e5b06b5b8729",
   "metadata": {},
   "outputs": [
    {
     "data": {
      "text/html": [
       "<div>\n",
       "<style scoped>\n",
       "    .dataframe tbody tr th:only-of-type {\n",
       "        vertical-align: middle;\n",
       "    }\n",
       "\n",
       "    .dataframe tbody tr th {\n",
       "        vertical-align: top;\n",
       "    }\n",
       "\n",
       "    .dataframe thead th {\n",
       "        text-align: right;\n",
       "    }\n",
       "</style>\n",
       "<table border=\"1\" class=\"dataframe\">\n",
       "  <thead>\n",
       "    <tr style=\"text-align: right;\">\n",
       "      <th></th>\n",
       "      <th>Unnamed: 0</th>\n",
       "      <th>company</th>\n",
       "      <th>title</th>\n",
       "      <th>totalyearlycompensation</th>\n",
       "      <th>yearsofexperience</th>\n",
       "      <th>yearsatcompany</th>\n",
       "      <th>tag</th>\n",
       "      <th>year</th>\n",
       "      <th>month</th>\n",
       "      <th>year_month</th>\n",
       "      <th>year_month_3mos</th>\n",
       "      <th>state_short</th>\n",
       "      <th>inflation_rate</th>\n",
       "      <th>inflation_rate_3mos</th>\n",
       "      <th>employment_rate</th>\n",
       "      <th>employment_rate_3mos</th>\n",
       "    </tr>\n",
       "  </thead>\n",
       "  <tbody>\n",
       "    <tr>\n",
       "      <th>0</th>\n",
       "      <td>0</td>\n",
       "      <td>Yahoo</td>\n",
       "      <td>Software Engineer</td>\n",
       "      <td>160.5</td>\n",
       "      <td>0.58</td>\n",
       "      <td>0.58</td>\n",
       "      <td>Full Stack</td>\n",
       "      <td>2018</td>\n",
       "      <td>6</td>\n",
       "      <td>2018-06</td>\n",
       "      <td>2018-03</td>\n",
       "      <td>CA</td>\n",
       "      <td>0.029</td>\n",
       "      <td>0.024</td>\n",
       "      <td>0.957660</td>\n",
       "      <td>0.956797</td>\n",
       "    </tr>\n",
       "    <tr>\n",
       "      <th>1</th>\n",
       "      <td>1</td>\n",
       "      <td>Facebook</td>\n",
       "      <td>Software Engineer</td>\n",
       "      <td>165.0</td>\n",
       "      <td>1.00</td>\n",
       "      <td>1.00</td>\n",
       "      <td>Full Stack</td>\n",
       "      <td>2018</td>\n",
       "      <td>6</td>\n",
       "      <td>2018-06</td>\n",
       "      <td>2018-03</td>\n",
       "      <td>WA</td>\n",
       "      <td>0.029</td>\n",
       "      <td>0.024</td>\n",
       "      <td>0.955998</td>\n",
       "      <td>0.954978</td>\n",
       "    </tr>\n",
       "    <tr>\n",
       "      <th>2</th>\n",
       "      <td>2</td>\n",
       "      <td>VmWare</td>\n",
       "      <td>Software Engineer</td>\n",
       "      <td>218.0</td>\n",
       "      <td>8.00</td>\n",
       "      <td>1.00</td>\n",
       "      <td>Distributed Systems (Back-End)</td>\n",
       "      <td>2018</td>\n",
       "      <td>6</td>\n",
       "      <td>2018-06</td>\n",
       "      <td>2018-03</td>\n",
       "      <td>CA</td>\n",
       "      <td>0.029</td>\n",
       "      <td>0.024</td>\n",
       "      <td>0.957660</td>\n",
       "      <td>0.956797</td>\n",
       "    </tr>\n",
       "    <tr>\n",
       "      <th>3</th>\n",
       "      <td>3</td>\n",
       "      <td>Uber</td>\n",
       "      <td>Software Engineer</td>\n",
       "      <td>240.0</td>\n",
       "      <td>3.00</td>\n",
       "      <td>0.00</td>\n",
       "      <td>Web Development (Front-End)</td>\n",
       "      <td>2018</td>\n",
       "      <td>6</td>\n",
       "      <td>2018-06</td>\n",
       "      <td>2018-03</td>\n",
       "      <td>CA</td>\n",
       "      <td>0.029</td>\n",
       "      <td>0.024</td>\n",
       "      <td>0.957660</td>\n",
       "      <td>0.956797</td>\n",
       "    </tr>\n",
       "    <tr>\n",
       "      <th>4</th>\n",
       "      <td>4</td>\n",
       "      <td>Capital One</td>\n",
       "      <td>Software Engineer</td>\n",
       "      <td>196.0</td>\n",
       "      <td>8.00</td>\n",
       "      <td>2.00</td>\n",
       "      <td>iOS</td>\n",
       "      <td>2018</td>\n",
       "      <td>6</td>\n",
       "      <td>2018-06</td>\n",
       "      <td>2018-03</td>\n",
       "      <td>NY</td>\n",
       "      <td>0.029</td>\n",
       "      <td>0.024</td>\n",
       "      <td>0.959053</td>\n",
       "      <td>0.955962</td>\n",
       "    </tr>\n",
       "  </tbody>\n",
       "</table>\n",
       "</div>"
      ],
      "text/plain": [
       "   Unnamed: 0      company              title  totalyearlycompensation  \\\n",
       "0           0        Yahoo  Software Engineer                    160.5   \n",
       "1           1     Facebook  Software Engineer                    165.0   \n",
       "2           2       VmWare  Software Engineer                    218.0   \n",
       "3           3         Uber  Software Engineer                    240.0   \n",
       "4           4  Capital One  Software Engineer                    196.0   \n",
       "\n",
       "   yearsofexperience  yearsatcompany                             tag  year  \\\n",
       "0               0.58            0.58                      Full Stack  2018   \n",
       "1               1.00            1.00                      Full Stack  2018   \n",
       "2               8.00            1.00  Distributed Systems (Back-End)  2018   \n",
       "3               3.00            0.00     Web Development (Front-End)  2018   \n",
       "4               8.00            2.00                             iOS  2018   \n",
       "\n",
       "   month year_month year_month_3mos state_short  inflation_rate  \\\n",
       "0      6    2018-06         2018-03          CA           0.029   \n",
       "1      6    2018-06         2018-03          WA           0.029   \n",
       "2      6    2018-06         2018-03          CA           0.029   \n",
       "3      6    2018-06         2018-03          CA           0.029   \n",
       "4      6    2018-06         2018-03          NY           0.029   \n",
       "\n",
       "   inflation_rate_3mos  employment_rate  employment_rate_3mos  \n",
       "0                0.024         0.957660              0.956797  \n",
       "1                0.024         0.955998              0.954978  \n",
       "2                0.024         0.957660              0.956797  \n",
       "3                0.024         0.957660              0.956797  \n",
       "4                0.024         0.959053              0.955962  "
      ]
     },
     "execution_count": 3,
     "metadata": {},
     "output_type": "execute_result"
    }
   ],
   "source": [
    "df = pd.read_csv('../Data/hans_model_data.csv')\n",
    "df.head()"
   ]
  },
  {
   "cell_type": "code",
   "execution_count": null,
   "id": "df752df2-faf1-4f41-8983-395c8dc87b8c",
   "metadata": {},
   "outputs": [],
   "source": [
    "df.drop(columns = ['Unnamed: 0', 'timestamp', 'location', 'timestamp_3mos', 'state'], inplace = True)\n",
    "df.drop(columns = ['level'], inplace = True)"
   ]
  },
  {
   "cell_type": "code",
   "execution_count": 4,
   "id": "203bbf10-e945-4dca-9e82-5e81df468245",
   "metadata": {},
   "outputs": [],
   "source": [
    "df.drop(columns = ['Unnamed: 0', 'tag','year_month', 'year_month_3mos'], inplace = True)"
   ]
  },
  {
   "cell_type": "code",
   "execution_count": 5,
   "id": "5afbd13c-4523-45bc-846c-ae221dc181a7",
   "metadata": {},
   "outputs": [
    {
     "data": {
      "text/plain": [
       "Index(['company', 'title', 'totalyearlycompensation', 'yearsofexperience',\n",
       "       'yearsatcompany', 'year', 'month', 'state_short', 'inflation_rate',\n",
       "       'inflation_rate_3mos', 'employment_rate', 'employment_rate_3mos'],\n",
       "      dtype='object')"
      ]
     },
     "execution_count": 5,
     "metadata": {},
     "output_type": "execute_result"
    }
   ],
   "source": [
    "df.columns"
   ]
  },
  {
   "cell_type": "code",
   "execution_count": 6,
   "id": "718a554d-aa0c-476a-81c7-8ec8287b2377",
   "metadata": {},
   "outputs": [
    {
     "name": "stdout",
     "output_type": "stream",
     "text": [
      "<class 'pandas.core.frame.DataFrame'>\n",
      "RangeIndex: 24496 entries, 0 to 24495\n",
      "Data columns (total 12 columns):\n",
      " #   Column                   Non-Null Count  Dtype  \n",
      "---  ------                   --------------  -----  \n",
      " 0   company                  24496 non-null  object \n",
      " 1   title                    24496 non-null  object \n",
      " 2   totalyearlycompensation  24496 non-null  float64\n",
      " 3   yearsofexperience        24496 non-null  float64\n",
      " 4   yearsatcompany           24496 non-null  float64\n",
      " 5   year                     24496 non-null  int64  \n",
      " 6   month                    24496 non-null  int64  \n",
      " 7   state_short              24496 non-null  object \n",
      " 8   inflation_rate           24496 non-null  float64\n",
      " 9   inflation_rate_3mos      24496 non-null  float64\n",
      " 10  employment_rate          24496 non-null  float64\n",
      " 11  employment_rate_3mos     24496 non-null  float64\n",
      "dtypes: float64(7), int64(2), object(3)\n",
      "memory usage: 2.2+ MB\n"
     ]
    }
   ],
   "source": [
    "df.info()"
   ]
  },
  {
   "cell_type": "code",
   "execution_count": 7,
   "id": "10e13c13-817e-4731-b099-865e9090a712",
   "metadata": {},
   "outputs": [
    {
     "data": {
      "text/html": [
       "<div>\n",
       "<style scoped>\n",
       "    .dataframe tbody tr th:only-of-type {\n",
       "        vertical-align: middle;\n",
       "    }\n",
       "\n",
       "    .dataframe tbody tr th {\n",
       "        vertical-align: top;\n",
       "    }\n",
       "\n",
       "    .dataframe thead th {\n",
       "        text-align: right;\n",
       "    }\n",
       "</style>\n",
       "<table border=\"1\" class=\"dataframe\">\n",
       "  <thead>\n",
       "    <tr style=\"text-align: right;\">\n",
       "      <th></th>\n",
       "      <th>yearsofexperience</th>\n",
       "      <th>yearsatcompany</th>\n",
       "      <th>year</th>\n",
       "      <th>month</th>\n",
       "      <th>inflation_rate</th>\n",
       "      <th>inflation_rate_3mos</th>\n",
       "      <th>employment_rate</th>\n",
       "      <th>employment_rate_3mos</th>\n",
       "      <th>company_ Credit Karma</th>\n",
       "      <th>company_23andMe</th>\n",
       "      <th>...</th>\n",
       "      <th>state_short_RI</th>\n",
       "      <th>state_short_SC</th>\n",
       "      <th>state_short_TN</th>\n",
       "      <th>state_short_TX</th>\n",
       "      <th>state_short_UT</th>\n",
       "      <th>state_short_VA</th>\n",
       "      <th>state_short_VT</th>\n",
       "      <th>state_short_WA</th>\n",
       "      <th>state_short_WI</th>\n",
       "      <th>state_short_WV</th>\n",
       "    </tr>\n",
       "  </thead>\n",
       "  <tbody>\n",
       "    <tr>\n",
       "      <th>0</th>\n",
       "      <td>0.58</td>\n",
       "      <td>0.58</td>\n",
       "      <td>2018</td>\n",
       "      <td>6</td>\n",
       "      <td>0.029</td>\n",
       "      <td>0.024</td>\n",
       "      <td>0.957660</td>\n",
       "      <td>0.956797</td>\n",
       "      <td>0</td>\n",
       "      <td>0</td>\n",
       "      <td>...</td>\n",
       "      <td>0</td>\n",
       "      <td>0</td>\n",
       "      <td>0</td>\n",
       "      <td>0</td>\n",
       "      <td>0</td>\n",
       "      <td>0</td>\n",
       "      <td>0</td>\n",
       "      <td>0</td>\n",
       "      <td>0</td>\n",
       "      <td>0</td>\n",
       "    </tr>\n",
       "    <tr>\n",
       "      <th>1</th>\n",
       "      <td>1.00</td>\n",
       "      <td>1.00</td>\n",
       "      <td>2018</td>\n",
       "      <td>6</td>\n",
       "      <td>0.029</td>\n",
       "      <td>0.024</td>\n",
       "      <td>0.955998</td>\n",
       "      <td>0.954978</td>\n",
       "      <td>0</td>\n",
       "      <td>0</td>\n",
       "      <td>...</td>\n",
       "      <td>0</td>\n",
       "      <td>0</td>\n",
       "      <td>0</td>\n",
       "      <td>0</td>\n",
       "      <td>0</td>\n",
       "      <td>0</td>\n",
       "      <td>0</td>\n",
       "      <td>1</td>\n",
       "      <td>0</td>\n",
       "      <td>0</td>\n",
       "    </tr>\n",
       "    <tr>\n",
       "      <th>2</th>\n",
       "      <td>8.00</td>\n",
       "      <td>1.00</td>\n",
       "      <td>2018</td>\n",
       "      <td>6</td>\n",
       "      <td>0.029</td>\n",
       "      <td>0.024</td>\n",
       "      <td>0.957660</td>\n",
       "      <td>0.956797</td>\n",
       "      <td>0</td>\n",
       "      <td>0</td>\n",
       "      <td>...</td>\n",
       "      <td>0</td>\n",
       "      <td>0</td>\n",
       "      <td>0</td>\n",
       "      <td>0</td>\n",
       "      <td>0</td>\n",
       "      <td>0</td>\n",
       "      <td>0</td>\n",
       "      <td>0</td>\n",
       "      <td>0</td>\n",
       "      <td>0</td>\n",
       "    </tr>\n",
       "    <tr>\n",
       "      <th>3</th>\n",
       "      <td>3.00</td>\n",
       "      <td>0.00</td>\n",
       "      <td>2018</td>\n",
       "      <td>6</td>\n",
       "      <td>0.029</td>\n",
       "      <td>0.024</td>\n",
       "      <td>0.957660</td>\n",
       "      <td>0.956797</td>\n",
       "      <td>0</td>\n",
       "      <td>0</td>\n",
       "      <td>...</td>\n",
       "      <td>0</td>\n",
       "      <td>0</td>\n",
       "      <td>0</td>\n",
       "      <td>0</td>\n",
       "      <td>0</td>\n",
       "      <td>0</td>\n",
       "      <td>0</td>\n",
       "      <td>0</td>\n",
       "      <td>0</td>\n",
       "      <td>0</td>\n",
       "    </tr>\n",
       "    <tr>\n",
       "      <th>4</th>\n",
       "      <td>8.00</td>\n",
       "      <td>2.00</td>\n",
       "      <td>2018</td>\n",
       "      <td>6</td>\n",
       "      <td>0.029</td>\n",
       "      <td>0.024</td>\n",
       "      <td>0.959053</td>\n",
       "      <td>0.955962</td>\n",
       "      <td>0</td>\n",
       "      <td>0</td>\n",
       "      <td>...</td>\n",
       "      <td>0</td>\n",
       "      <td>0</td>\n",
       "      <td>0</td>\n",
       "      <td>0</td>\n",
       "      <td>0</td>\n",
       "      <td>0</td>\n",
       "      <td>0</td>\n",
       "      <td>0</td>\n",
       "      <td>0</td>\n",
       "      <td>0</td>\n",
       "    </tr>\n",
       "  </tbody>\n",
       "</table>\n",
       "<p>5 rows × 1351 columns</p>\n",
       "</div>"
      ],
      "text/plain": [
       "   yearsofexperience  yearsatcompany  year  month  inflation_rate  \\\n",
       "0               0.58            0.58  2018      6           0.029   \n",
       "1               1.00            1.00  2018      6           0.029   \n",
       "2               8.00            1.00  2018      6           0.029   \n",
       "3               3.00            0.00  2018      6           0.029   \n",
       "4               8.00            2.00  2018      6           0.029   \n",
       "\n",
       "   inflation_rate_3mos  employment_rate  employment_rate_3mos  \\\n",
       "0                0.024         0.957660              0.956797   \n",
       "1                0.024         0.955998              0.954978   \n",
       "2                0.024         0.957660              0.956797   \n",
       "3                0.024         0.957660              0.956797   \n",
       "4                0.024         0.959053              0.955962   \n",
       "\n",
       "   company_ Credit Karma  company_23andMe  ...  state_short_RI  \\\n",
       "0                      0                0  ...               0   \n",
       "1                      0                0  ...               0   \n",
       "2                      0                0  ...               0   \n",
       "3                      0                0  ...               0   \n",
       "4                      0                0  ...               0   \n",
       "\n",
       "   state_short_SC  state_short_TN  state_short_TX  state_short_UT  \\\n",
       "0               0               0               0               0   \n",
       "1               0               0               0               0   \n",
       "2               0               0               0               0   \n",
       "3               0               0               0               0   \n",
       "4               0               0               0               0   \n",
       "\n",
       "   state_short_VA  state_short_VT  state_short_WA  state_short_WI  \\\n",
       "0               0               0               0               0   \n",
       "1               0               0               1               0   \n",
       "2               0               0               0               0   \n",
       "3               0               0               0               0   \n",
       "4               0               0               0               0   \n",
       "\n",
       "   state_short_WV  \n",
       "0               0  \n",
       "1               0  \n",
       "2               0  \n",
       "3               0  \n",
       "4               0  \n",
       "\n",
       "[5 rows x 1351 columns]"
      ]
     },
     "execution_count": 7,
     "metadata": {},
     "output_type": "execute_result"
    }
   ],
   "source": [
    "X = df[['company', 'title', 'yearsofexperience', 'yearsatcompany', 'year', 'month', 'state_short', 'inflation_rate',\n",
    "            'inflation_rate_3mos', 'employment_rate', 'employment_rate_3mos']].copy()\n",
    "X_dummy = pd.get_dummies(X, columns = ['company', 'title', 'state_short'], drop_first = True)\n",
    "\n",
    "y = df[['totalyearlycompensation']].copy()\n",
    "\n",
    "X_dummy.head()"
   ]
  },
  {
   "cell_type": "code",
   "execution_count": 8,
   "id": "6b9ce8f2-680e-4ed0-bb6e-3be6b2bd0992",
   "metadata": {},
   "outputs": [],
   "source": [
    "X_train, X_test, y_train, y_test = train_test_split(X_dummy, y, test_size = 0.2, random_state = 42)"
   ]
  },
  {
   "cell_type": "code",
   "execution_count": 9,
   "id": "e8c3423e-1e5d-40b0-8d44-14caa8509b3e",
   "metadata": {},
   "outputs": [],
   "source": [
    "#Feature Scaling\n",
    "\n",
    "sc = StandardScaler()\n",
    "\n",
    "X_train_sc = sc.fit_transform(X_train)\n",
    "X_test_sc = sc.transform(X_test)"
   ]
  },
  {
   "cell_type": "code",
   "execution_count": 10,
   "id": "8ef049f2-6fa1-49bc-99ba-99de0a96dc23",
   "metadata": {},
   "outputs": [
    {
     "name": "stderr",
     "output_type": "stream",
     "text": [
      "/Users/hansbaumberger/opt/anaconda3/envs/dsi-111/lib/python3.8/site-packages/sklearn/utils/validation.py:63: DataConversionWarning: A column-vector y was passed when a 1d array was expected. Please change the shape of y to (n_samples, ), for example using ravel().\n",
      "  return f(*args, **kwargs)\n"
     ]
    },
    {
     "data": {
      "text/plain": [
       "SVR()"
      ]
     },
     "execution_count": 10,
     "metadata": {},
     "output_type": "execute_result"
    }
   ],
   "source": [
    "# Fitting SVR to the dataset\n",
    "\n",
    "svr = SVR()\n",
    "svr.fit(X_train_sc, y_train)"
   ]
  },
  {
   "cell_type": "code",
   "execution_count": 11,
   "id": "a9949cf6-ee2c-4b7f-90c9-b14881ae8c51",
   "metadata": {},
   "outputs": [
    {
     "name": "stdout",
     "output_type": "stream",
     "text": [
      "train score: 0.13682281863731038\n",
      "test score: -0.4287102177581459\n"
     ]
    }
   ],
   "source": [
    "# Predictions\n",
    "y_preds = svr.predict(X_test)\n",
    "\n",
    "# Measure performance based on accuracy.\n",
    "print('train score:', svr.score(X_train_sc, y_train))\n",
    "print('test score:', svr.score(X_test, y_test))"
   ]
  },
  {
   "cell_type": "code",
   "execution_count": 12,
   "id": "12ac1151-b888-4298-bc00-6edcd2b90ad4",
   "metadata": {},
   "outputs": [
    {
     "name": "stdout",
     "output_type": "stream",
     "text": [
      "Fitting 5 folds for each of 8 candidates, totalling 40 fits\n"
     ]
    },
    {
     "name": "stderr",
     "output_type": "stream",
     "text": [
      "/Users/hansbaumberger/opt/anaconda3/envs/dsi-111/lib/python3.8/site-packages/sklearn/utils/validation.py:63: DataConversionWarning: A column-vector y was passed when a 1d array was expected. Please change the shape of y to (n_samples, ), for example using ravel().\n",
      "  return f(*args, **kwargs)\n"
     ]
    }
   ],
   "source": [
    "# Gridsearch:\n",
    "\n",
    "params = {\n",
    "    'C': [0.1, 1, 10, 100],\n",
    "    'kernel': ['rbf'],\n",
    "    'gamma': [0.001, 0.0001]\n",
    "}\n",
    "\n",
    "model = SVR()\n",
    "\n",
    "#Gridsearch:\n",
    "gs = GridSearchCV(model, params, n_jobs=-1, verbose=1)\n",
    "\n",
    "# Fit on training data.\n",
    "gs.fit(X_train_sc, y_train);"
   ]
  },
  {
   "cell_type": "code",
   "execution_count": 13,
   "id": "401a5b66-1258-43c2-aa6f-064d42f4dabc",
   "metadata": {},
   "outputs": [
    {
     "data": {
      "text/plain": [
       "{'C': 100, 'gamma': 0.001, 'kernel': 'rbf'}"
      ]
     },
     "execution_count": 13,
     "metadata": {},
     "output_type": "execute_result"
    }
   ],
   "source": [
    "gs.best_params_"
   ]
  },
  {
   "cell_type": "code",
   "execution_count": 14,
   "id": "2ad039e9-364c-47c5-a1d6-c4ee3db59636",
   "metadata": {},
   "outputs": [
    {
     "name": "stdout",
     "output_type": "stream",
     "text": [
      "Training acc: 0.5029896322968699\n",
      "Testing acc: 0.47450456180594414\n"
     ]
    }
   ],
   "source": [
    "# Accuracy\n",
    "print(f'Training acc: {gs.score(X_train_sc, y_train)}')\n",
    "print(f'Testing acc: {gs.score(X_test_sc, y_test)}')"
   ]
  },
  {
   "cell_type": "code",
   "execution_count": 17,
   "id": "26a03162-15d7-4c47-a36e-7992454e460b",
   "metadata": {},
   "outputs": [],
   "source": [
    "# Creating Predictions\n",
    "#train_preds = gs.predict(X_train_sc)\n",
    "#test_preds = gs.predict(X_test_sc)"
   ]
  },
  {
   "cell_type": "code",
   "execution_count": 18,
   "id": "a81bfc4c-87c0-4111-9753-91741c5ac1c0",
   "metadata": {},
   "outputs": [],
   "source": [
    "# DataFrame with column for predicted values.\n",
    "#results = pd.DataFrame(gs.predict(X_test), columns=['predicted'])\n",
    "\n",
    "# Column for observed values.\n",
    "#results['actual'] = y_test\n",
    "\n",
    "#results.head()"
   ]
  },
  {
   "cell_type": "code",
   "execution_count": null,
   "id": "c07e1792-a21f-4c4d-a6dc-38b6660a81a0",
   "metadata": {},
   "outputs": [],
   "source": []
  },
  {
   "cell_type": "code",
   "execution_count": null,
   "id": "ee78be2a-f558-4141-b19d-c5dc19d45d31",
   "metadata": {},
   "outputs": [],
   "source": []
  },
  {
   "cell_type": "code",
   "execution_count": null,
   "id": "e8289787-41be-416b-b85d-00077ceb172b",
   "metadata": {},
   "outputs": [],
   "source": []
  },
  {
   "cell_type": "markdown",
   "id": "f664a428-c76e-4cac-bd6f-c181676cca16",
   "metadata": {},
   "source": [
    "# NN model"
   ]
  },
  {
   "cell_type": "code",
   "execution_count": null,
   "id": "1ae1faea-d1cb-4bca-bafe-eea107c999c2",
   "metadata": {},
   "outputs": [],
   "source": [
    "from tensorflow.keras.callbacks import EarlyStopping\n",
    "\n",
    "model_es = Sequential()\n",
    "\n",
    "n_input = X_train_sc.shape[1]\n",
    "\n",
    "model_es.add(Dense(17, input_dim=n_input, activation='relu'))\n",
    "model_es.add(Dense(10, activation='relu'))\n",
    "model_es.add(Dense(1))\n",
    "\n",
    "model_es.compile(loss='mse', optimizer='adam', metrics=['mae', 'acc'])\n",
    "\n",
    "early_stop = EarlyStopping(monitor='val_loss', min_delta=0, patience=5, verbose=1, mode='auto')\n",
    "\n",
    "history_es = model_es.fit(\n",
    "    X_train,\n",
    "    y_train,\n",
    "    validation_data=(X_test_sc, y_test),\n",
    "    epochs=100,\n",
    "    batch_size=None,\n",
    "    callbacks=[early_stop]\n",
    ")"
   ]
  },
  {
   "cell_type": "code",
   "execution_count": null,
   "id": "21dee07f-d5bc-4123-9d51-99e238e25452",
   "metadata": {},
   "outputs": [],
   "source": [
    "model.predict(X_test_sc)"
   ]
  },
  {
   "cell_type": "code",
   "execution_count": null,
   "id": "94cc0c88-e895-48a5-a153-634e0c4739ea",
   "metadata": {},
   "outputs": [],
   "source": [
    "model.evaluate(X_test_sc, y_test) # kind of like .score() in sklearn"
   ]
  },
  {
   "cell_type": "code",
   "execution_count": null,
   "id": "5c236293-0cd7-409c-8588-a8bb2ed1f863",
   "metadata": {},
   "outputs": [],
   "source": []
  },
  {
   "cell_type": "code",
   "execution_count": null,
   "id": "b3cb9e32-0c65-4ce0-8c48-eea680762b6c",
   "metadata": {},
   "outputs": [],
   "source": [
    "from tensorflow.keras.regularizers import l2\n",
    "\n",
    "model_l2 = Sequential()\n",
    "\n",
    "n_input = X_train.shape[1]\n",
    "\n",
    "model_l2.add(Dense(\n",
    "    17,\n",
    "    input_dim=n_input,\n",
    "    activation='relu',\n",
    "    kernel_regularizer=l2(0.001)\n",
    "))\n",
    "\n",
    "model_l2.add(Dense(\n",
    "    10,\n",
    "    activation='relu',\n",
    "    kernel_regularizer=l2(0.001)\n",
    "))\n",
    "\n",
    "model_l2.add(Dense(\n",
    "    1,\n",
    "    kernel_regularizer=l2(0.001)\n",
    "))\n",
    "\n",
    "model_l2.compile(\n",
    "    loss='mse',\n",
    "    optimizer='adam',\n",
    "    metrics=['acc', 'mae']\n",
    ")\n",
    "\n",
    "history_l2 = model_l2.fit(\n",
    "    X_train_sc,\n",
    "    y_train,\n",
    "    validation_data=(X_test_sc, y_test),\n",
    "    epochs=100,\n",
    "    batch_size=None\n",
    ")"
   ]
  },
  {
   "cell_type": "code",
   "execution_count": null,
   "id": "3de6edd0-b97b-4d53-bcb2-f20a118d5ba0",
   "metadata": {},
   "outputs": [],
   "source": [
    "model.predict(X_test_sc)"
   ]
  },
  {
   "cell_type": "code",
   "execution_count": null,
   "id": "aba0f5ad-54a4-4bb4-9ed6-c21c2d46093f",
   "metadata": {},
   "outputs": [],
   "source": [
    "model.evaluate(X_test_sc, y_test) # kind of like .score() in sklearn"
   ]
  },
  {
   "cell_type": "code",
   "execution_count": null,
   "id": "926c13fb-e570-491c-bb3b-9f83fc1e3494",
   "metadata": {},
   "outputs": [],
   "source": []
  },
  {
   "cell_type": "code",
   "execution_count": null,
   "id": "8eed206c-c576-48bc-b141-0e3fbc64331d",
   "metadata": {},
   "outputs": [],
   "source": []
  },
  {
   "cell_type": "code",
   "execution_count": null,
   "id": "8559d8f9-5f00-4751-b104-cca12d7578cb",
   "metadata": {},
   "outputs": [],
   "source": [
    "from tensorflow.keras.layers import Dropout\n",
    "\n",
    "model_dropout = Sequential()\n",
    "\n",
    "n_input = X_train.shape[1]\n",
    "n_hidden = n_input\n",
    "\n",
    "model_dropout.add(Dense(n_hidden, input_dim=n_input, activation='relu'))\n",
    "model_dropout.add(Dropout(0.2)) # refers to nodes in the first hidden layer\n",
    "model_dropout.add(Dense(10, activation='relu'))\n",
    "model_dropout.add(Dropout(0.2))\n",
    "model_dropout.add(Dense(1))\n",
    "\n",
    "model_dropout.compile(loss='mse', optimizer='adam', metrics=['acc', 'mae'])\n",
    "\n",
    "history_dropout = model_dropout.fit(\n",
    "    X_train_sc,\n",
    "    y_train,\n",
    "    validation_data=(X_test_sc, y_test), \n",
    "    epochs=100,\n",
    "    batch_size=None\n",
    ")"
   ]
  },
  {
   "cell_type": "code",
   "execution_count": null,
   "id": "7dc4a60c-d9e0-466f-a9e9-877dc771b655",
   "metadata": {},
   "outputs": [],
   "source": [
    "model.predict(X_test_sc)"
   ]
  },
  {
   "cell_type": "code",
   "execution_count": null,
   "id": "02f3805c-e55e-4596-a4e4-b8fdbd42ebb4",
   "metadata": {},
   "outputs": [],
   "source": [
    "model.evaluate(X_test_sc, y_test) # kind of like .score() in sklearn"
   ]
  }
 ],
 "metadata": {
  "kernelspec": {
   "display_name": "Python 3",
   "language": "python",
   "name": "python3"
  },
  "language_info": {
   "codemirror_mode": {
    "name": "ipython",
    "version": 3
   },
   "file_extension": ".py",
   "mimetype": "text/x-python",
   "name": "python",
   "nbconvert_exporter": "python",
   "pygments_lexer": "ipython3",
   "version": "3.8.8"
  }
 },
 "nbformat": 4,
 "nbformat_minor": 5
}
