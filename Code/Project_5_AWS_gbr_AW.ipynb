{
 "cells": [
  {
   "cell_type": "code",
   "execution_count": null,
   "id": "feed1909-7202-47f9-8d63-9d2ec1358461",
   "metadata": {},
   "outputs": [],
   "source": [
    "import numpy as np\n",
    "import pandas as pd\n",
    "import matplotlib.pyplot as plt\n",
    "import seaborn as sns\n",
    "\n",
    "from sklearn.linear_model import LinearRegression\n",
    "from sklearn.neighbors import KNeighborsRegressor\n",
    "from sklearn.ensemble import RandomForestRegressor, GradientBoostingRegressor\n",
    "\n",
    "from sklearn.preprocessing import StandardScaler, OneHotEncoder\n",
    "from sklearn import metrics\n",
    "from sklearn.compose import ColumnTransformer, make_column_selector\n",
    "from sklearn.model_selection import train_test_split, GridSearchCV, RandomizedSearchCV\n",
    "from sklearn.pipeline import Pipeline\n",
    "\n",
    "from skopt import BayesSearchCV\n",
    "\n",
    "import datetime"
   ]
  },
  {
   "cell_type": "code",
   "execution_count": null,
   "id": "4526c542-0362-4d91-9e2c-df26a7495c8a",
   "metadata": {},
   "outputs": [],
   "source": [
    "df = pd.read_csv('../Data/salary_cleaned.csv')\n",
    "df.head()"
   ]
  },
  {
   "cell_type": "code",
   "execution_count": null,
   "id": "b973b0c8-dee4-41ba-be71-615159838cba",
   "metadata": {},
   "outputs": [],
   "source": [
    "df.info()"
   ]
  },
  {
   "cell_type": "code",
   "execution_count": null,
   "id": "9ec8f6fc-0692-4e50-b9af-f52e06cb75ca",
   "metadata": {},
   "outputs": [],
   "source": [
    "# convert year and month from integer to string\n",
    "df['year'] = df['year'].astype(str)\n",
    "df['month'] = df['month'].astype(str)\n",
    "df.info()"
   ]
  },
  {
   "cell_type": "code",
   "execution_count": null,
   "id": "fafcaaad-3c96-4ebb-be86-2eaffc5d4417",
   "metadata": {},
   "outputs": [],
   "source": [
    "df['location'].value_counts(normalize=True)"
   ]
  },
  {
   "cell_type": "code",
   "execution_count": null,
   "id": "6ef478d4-008e-4f8e-8064-2d17f658940a",
   "metadata": {},
   "outputs": [],
   "source": [
    "# create \n",
    "features_all = ['company', 'title', 'location', 'yearsofexperience', 'yearsatcompany', 'year', 'month', 'year_month', 'state_short', 'inflation_rate', 'inflation_rate_3mos', 'employment_rate', 'employment_rate_3mos']\n",
    "features_short = ['company', 'title', 'yearsofexperience', 'yearsatcompany', 'year', 'month', 'state', 'inflation_rate', 'inflation_rate_3mos', 'employment_rate', 'employment_rate_3mos']\n",
    "\n",
    "X = df[features_short]\n",
    "y = df['totalyearlycompensation']\n",
    "X.shape, y.shape"
   ]
  },
  {
   "cell_type": "code",
   "execution_count": null,
   "id": "0bfc49f7-b3c7-48da-b941-652412df60e2",
   "metadata": {},
   "outputs": [],
   "source": [
    "X_train, X_test, y_train, y_test = train_test_split(X, y, random_state=42)\n",
    "X_train.shape, y_train.shape, X_test.shape, y_test.shape"
   ]
  },
  {
   "cell_type": "code",
   "execution_count": null,
   "id": "69a04c77-cffd-4448-bf2c-e039776987c1",
   "metadata": {},
   "outputs": [],
   "source": [
    "X_train.head()"
   ]
  },
  {
   "cell_type": "markdown",
   "id": "19564b9d-59c0-45fa-a46a-02d1782f3823",
   "metadata": {},
   "source": [
    "### Transform data: standardize and one hot encoding"
   ]
  },
  {
   "cell_type": "code",
   "execution_count": null,
   "id": "2c3f40d5-63f0-4b8b-b6b3-396e4ac3edfd",
   "metadata": {},
   "outputs": [],
   "source": [
    "ct = ColumnTransformer([\n",
    "    ('sc', StandardScaler(), make_column_selector(dtype_include=np.number)),\n",
    "    #('ohe', OneHotEncoder(handle_unknown='ignore'), make_column_selector(dtype_include=object)),\n",
    "    #('ohe', OneHotEncoder(handle_unknown='ignore'), ['company','title','year','month','state']),\n",
    "    ('ohe', OneHotEncoder(handle_unknown='ignore'), [0,1,6])\n",
    "    ])\n",
    "\n",
    "X_train_ct = ct.fit_transform(X_train)\n",
    "X_test_ct = ct.transform(X_test)"
   ]
  },
  {
   "cell_type": "code",
   "execution_count": null,
   "id": "141438a6-30b9-4886-91d4-12d49cd8cadb",
   "metadata": {},
   "outputs": [],
   "source": [
    "X_train_ct.shape"
   ]
  },
  {
   "cell_type": "code",
   "execution_count": null,
   "id": "f0f2f385-86fa-4bd5-b011-f106df2474e6",
   "metadata": {},
   "outputs": [],
   "source": [
    "X_train"
   ]
  },
  {
   "cell_type": "code",
   "execution_count": null,
   "id": "2e8a1c23-01c0-47bc-912c-b9eeefce536a",
   "metadata": {},
   "outputs": [],
   "source": [
    "ct.get_feature_names_out()"
   ]
  },
  {
   "cell_type": "markdown",
   "id": "006adb06-17b6-47a4-a8d3-989046317e7d",
   "metadata": {},
   "source": [
    "### Graident Boosting Classifer"
   ]
  },
  {
   "cell_type": "markdown",
   "id": "4ea487e9-9420-4636-ad9e-6da8b8ce7158",
   "metadata": {},
   "source": [
    "#### RandomizedSearchCV\n",
    "[**Documentation on RandomizedSearchCV**](https://scikit-learn.org/stable/modules/generated/sklearn.model_selection.RandomizedSearchCV.html)"
   ]
  },
  {
   "cell_type": "code",
   "execution_count": null,
   "id": "54b64d3d-a2c9-4977-8138-593e5e619f13",
   "metadata": {},
   "outputs": [],
   "source": [
    "# build a randomized search for hyperparameters\n",
    "\n",
    "gbr = GradientBoostingRegressor(random_state=42)\n",
    "\n",
    "gbr_params = {\n",
    "    'n_estimators': range(400, 1001, 200),\n",
    "    #'learning_rate':[0.01, 0.1],\n",
    "    'max_depth': range(2, 6, 1),\n",
    "    #'min_samples_split': [5,7,10],\n",
    "    #'min_samples_leaf': [2,3,5],\n",
    "    'max_features': range(400, 1001, 200)\n",
    "}\n",
    "\n",
    "rs_gbr = RandomizedSearchCV(gbr,\n",
    "                            gbr_params,\n",
    "                            n_iter=50,\n",
    "                            random_state=42,\n",
    "                            cv=5)\n",
    "\n",
    "# train the model\n",
    "\n",
    "print(datetime.datetime.now())\n",
    "\n",
    "rs_gbr.fit(X_train_ct, y_train)\n",
    "\n",
    "print(datetime.datetime.now())"
   ]
  },
  {
   "cell_type": "code",
   "execution_count": null,
   "id": "f5510f54-3c86-4b56-958b-34a3649e0dd7",
   "metadata": {},
   "outputs": [],
   "source": []
  },
  {
   "cell_type": "code",
   "execution_count": null,
   "id": "4284e437-2f64-4f46-a3a0-0eb19a3c53ab",
   "metadata": {},
   "outputs": [],
   "source": []
  },
  {
   "cell_type": "code",
   "execution_count": null,
   "id": "e86ba12f-17eb-4cc2-9c60-5f95a69450b4",
   "metadata": {},
   "outputs": [],
   "source": []
  }
 ],
 "metadata": {
  "kernelspec": {
   "display_name": "Python 3",
   "language": "python",
   "name": "python3"
  },
  "language_info": {
   "codemirror_mode": {
    "name": "ipython",
    "version": 3
   },
   "file_extension": ".py",
   "mimetype": "text/x-python",
   "name": "python",
   "nbconvert_exporter": "python",
   "pygments_lexer": "ipython3",
   "version": "3.8.8"
  }
 },
 "nbformat": 4,
 "nbformat_minor": 5
}
