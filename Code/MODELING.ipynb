{
 "cells": [
  {
   "cell_type": "markdown",
   "id": "664eae5b-fb93-4cc0-b4fd-2515bd436c7a",
   "metadata": {},
   "source": [
    "# Modeling"
   ]
  },
  {
   "cell_type": "markdown",
   "id": "da072e57-7f9d-4212-946e-370a7c206a58",
   "metadata": {},
   "source": [
    "## Hans"
   ]
  },
  {
   "cell_type": "code",
   "execution_count": null,
   "id": "d58ac35b-cf88-4bde-aaa6-a8dee22e262f",
   "metadata": {},
   "outputs": [],
   "source": []
  },
  {
   "cell_type": "code",
   "execution_count": null,
   "id": "4aafdf1f-4060-420b-a1d3-bb9fb6eb9eaa",
   "metadata": {},
   "outputs": [],
   "source": []
  },
  {
   "cell_type": "code",
   "execution_count": null,
   "id": "ecd85a9d-cd7c-4628-bfb6-4d08be2c2f74",
   "metadata": {},
   "outputs": [],
   "source": []
  },
  {
   "cell_type": "code",
   "execution_count": null,
   "id": "df0ed3bc-db5b-407d-96d7-47010788fa32",
   "metadata": {},
   "outputs": [],
   "source": []
  },
  {
   "cell_type": "code",
   "execution_count": null,
   "id": "96215669-b637-4624-8790-0b3443e2e094",
   "metadata": {},
   "outputs": [],
   "source": []
  },
  {
   "cell_type": "code",
   "execution_count": null,
   "id": "4a5a1589-356c-4ce4-b213-1c4353deb1fb",
   "metadata": {},
   "outputs": [],
   "source": []
  },
  {
   "cell_type": "code",
   "execution_count": null,
   "id": "cd30421f-97df-4d72-8170-f6c1a0a42a41",
   "metadata": {},
   "outputs": [],
   "source": []
  },
  {
   "cell_type": "code",
   "execution_count": null,
   "id": "b6ff6a4f-4e65-4dc6-9625-ce13042878b6",
   "metadata": {},
   "outputs": [],
   "source": []
  },
  {
   "cell_type": "code",
   "execution_count": null,
   "id": "da253ab2-380d-45ed-b8e5-d211105cb854",
   "metadata": {},
   "outputs": [],
   "source": []
  },
  {
   "cell_type": "code",
   "execution_count": null,
   "id": "7f497657-c901-4c6f-9d9b-3c480b705f8f",
   "metadata": {},
   "outputs": [],
   "source": []
  },
  {
   "cell_type": "code",
   "execution_count": null,
   "id": "2cad43cf-c42e-4f3a-9a3d-b6d8fb5b7b74",
   "metadata": {},
   "outputs": [],
   "source": []
  },
  {
   "cell_type": "code",
   "execution_count": null,
   "id": "7878edc2-30c1-41e2-92f3-42b580f8f075",
   "metadata": {},
   "outputs": [],
   "source": []
  },
  {
   "cell_type": "code",
   "execution_count": null,
   "id": "4b95e749-07e3-4444-b458-f81a0a010c7f",
   "metadata": {},
   "outputs": [],
   "source": []
  },
  {
   "cell_type": "code",
   "execution_count": null,
   "id": "d310d33b-8569-485b-b6ec-ee2cbe1be583",
   "metadata": {},
   "outputs": [],
   "source": []
  },
  {
   "cell_type": "code",
   "execution_count": null,
   "id": "b88f038e-42bb-4803-aee2-06d6e6b37b44",
   "metadata": {},
   "outputs": [],
   "source": []
  },
  {
   "cell_type": "code",
   "execution_count": null,
   "id": "699100aa-3ae0-4681-89ed-be522c6c741b",
   "metadata": {},
   "outputs": [],
   "source": []
  },
  {
   "cell_type": "code",
   "execution_count": null,
   "id": "be1fd617-af89-450b-bdea-1a606afb09d3",
   "metadata": {},
   "outputs": [],
   "source": []
  },
  {
   "cell_type": "code",
   "execution_count": null,
   "id": "99737e88-17e2-4713-858a-085458934976",
   "metadata": {},
   "outputs": [],
   "source": []
  },
  {
   "cell_type": "code",
   "execution_count": null,
   "id": "a32d03a6-26b8-4b9c-9f7e-c9d41a65a68d",
   "metadata": {},
   "outputs": [],
   "source": []
  },
  {
   "cell_type": "code",
   "execution_count": null,
   "id": "dafcdd2d-1183-4845-93d2-8e289235742c",
   "metadata": {},
   "outputs": [],
   "source": []
  },
  {
   "cell_type": "code",
   "execution_count": null,
   "id": "a95bda74-439b-48f2-a64d-90b228dbd825",
   "metadata": {},
   "outputs": [],
   "source": []
  },
  {
   "cell_type": "code",
   "execution_count": null,
   "id": "5f22f28b-37da-4ecf-a8cf-4d47d388c067",
   "metadata": {},
   "outputs": [],
   "source": []
  },
  {
   "cell_type": "code",
   "execution_count": null,
   "id": "614e7bd5-47e2-499c-9e24-7e189038f510",
   "metadata": {},
   "outputs": [],
   "source": []
  },
  {
   "cell_type": "code",
   "execution_count": null,
   "id": "e59d7257-228a-4183-8b4b-5d61c14bd964",
   "metadata": {},
   "outputs": [],
   "source": []
  },
  {
   "cell_type": "code",
   "execution_count": null,
   "id": "185fe690-133a-42ed-88e4-3492646c68e2",
   "metadata": {},
   "outputs": [],
   "source": []
  },
  {
   "cell_type": "code",
   "execution_count": null,
   "id": "23749665-247a-4d8e-811d-287e56382247",
   "metadata": {},
   "outputs": [],
   "source": []
  },
  {
   "cell_type": "code",
   "execution_count": null,
   "id": "9219da48-3c1a-4c2d-b4cd-0ff85b10712e",
   "metadata": {},
   "outputs": [],
   "source": []
  },
  {
   "cell_type": "code",
   "execution_count": null,
   "id": "82f7bf68-3f13-4ce0-ac0d-d008932f1cbd",
   "metadata": {},
   "outputs": [],
   "source": []
  },
  {
   "cell_type": "code",
   "execution_count": null,
   "id": "29baacb4-1494-4631-860d-5dedf05221cb",
   "metadata": {},
   "outputs": [],
   "source": []
  },
  {
   "cell_type": "code",
   "execution_count": null,
   "id": "2ecbf57e-49c6-40b3-9caa-cd34dc192bbe",
   "metadata": {},
   "outputs": [],
   "source": []
  },
  {
   "cell_type": "code",
   "execution_count": null,
   "id": "05bc3559-dc86-49af-bcf0-a66732b3e40b",
   "metadata": {},
   "outputs": [],
   "source": []
  },
  {
   "cell_type": "code",
   "execution_count": null,
   "id": "498ac143-744c-48f0-b77f-39ec7934fc7b",
   "metadata": {},
   "outputs": [],
   "source": []
  },
  {
   "cell_type": "code",
   "execution_count": null,
   "id": "421042a4-8882-4814-aea7-4ef36d0c12fe",
   "metadata": {},
   "outputs": [],
   "source": []
  },
  {
   "cell_type": "code",
   "execution_count": null,
   "id": "1654c2f9-e795-4592-8b60-1fd6a916b97a",
   "metadata": {},
   "outputs": [],
   "source": []
  },
  {
   "cell_type": "code",
   "execution_count": null,
   "id": "edec67cd-f8f1-4aa1-8d7b-e5f98df2dc48",
   "metadata": {},
   "outputs": [],
   "source": []
  },
  {
   "cell_type": "code",
   "execution_count": null,
   "id": "caa34103-67c7-4193-9736-f4f67fa183b2",
   "metadata": {},
   "outputs": [],
   "source": []
  },
  {
   "cell_type": "code",
   "execution_count": null,
   "id": "c5e020e5-4d60-4e29-85e1-97958bcaacc1",
   "metadata": {},
   "outputs": [],
   "source": []
  },
  {
   "cell_type": "code",
   "execution_count": null,
   "id": "6960f672-f6ff-4ff6-ada0-8dde217bb00c",
   "metadata": {},
   "outputs": [],
   "source": []
  },
  {
   "cell_type": "code",
   "execution_count": null,
   "id": "b9fb3e6a-3c4c-4699-bcea-28f5c11dc05d",
   "metadata": {},
   "outputs": [],
   "source": []
  },
  {
   "cell_type": "code",
   "execution_count": null,
   "id": "d5d5a030-e6d8-4e20-883d-7ebed488dbb8",
   "metadata": {},
   "outputs": [],
   "source": []
  },
  {
   "cell_type": "code",
   "execution_count": null,
   "id": "ad9a9ac4-028a-47a4-b12f-bec7f0c56c2f",
   "metadata": {},
   "outputs": [],
   "source": []
  },
  {
   "cell_type": "code",
   "execution_count": null,
   "id": "162413e5-0503-4f0d-960e-dec04301c843",
   "metadata": {},
   "outputs": [],
   "source": []
  },
  {
   "cell_type": "code",
   "execution_count": null,
   "id": "77183d23-7371-4325-a170-e961435cb7c8",
   "metadata": {},
   "outputs": [],
   "source": []
  },
  {
   "cell_type": "code",
   "execution_count": null,
   "id": "495a7c5f-db83-44c0-aa74-a5cb95c8379a",
   "metadata": {},
   "outputs": [],
   "source": []
  },
  {
   "cell_type": "code",
   "execution_count": null,
   "id": "e7ff5681-10bb-447f-ba13-f47b47b37a8c",
   "metadata": {},
   "outputs": [],
   "source": []
  },
  {
   "cell_type": "code",
   "execution_count": null,
   "id": "849e6645-0a22-4f34-9933-6db23c3b74bb",
   "metadata": {},
   "outputs": [],
   "source": []
  },
  {
   "cell_type": "code",
   "execution_count": null,
   "id": "a24ca6d8-05b8-46fe-8fab-f365879074c6",
   "metadata": {},
   "outputs": [],
   "source": []
  },
  {
   "cell_type": "code",
   "execution_count": null,
   "id": "75116693-8bfb-418d-972f-ef5c1305864b",
   "metadata": {},
   "outputs": [],
   "source": []
  },
  {
   "cell_type": "code",
   "execution_count": null,
   "id": "76c8507b-657f-4579-8253-b5b2efb70cbe",
   "metadata": {},
   "outputs": [],
   "source": []
  },
  {
   "cell_type": "code",
   "execution_count": null,
   "id": "5c4dee69-d364-4ffc-b620-0f0374352290",
   "metadata": {},
   "outputs": [],
   "source": []
  },
  {
   "cell_type": "code",
   "execution_count": null,
   "id": "1e233da7-57b5-49ef-94cd-aff11d5e4bf6",
   "metadata": {},
   "outputs": [],
   "source": []
  },
  {
   "cell_type": "code",
   "execution_count": null,
   "id": "59325d64-989e-4546-ba3f-182ecd6b5aeb",
   "metadata": {},
   "outputs": [],
   "source": []
  },
  {
   "cell_type": "code",
   "execution_count": null,
   "id": "0fcbe085-9ed6-4744-90a2-77970a49c81a",
   "metadata": {},
   "outputs": [],
   "source": []
  },
  {
   "cell_type": "code",
   "execution_count": null,
   "id": "1dcd8ac1-c5f9-4de0-9a67-028cf6ef26b1",
   "metadata": {},
   "outputs": [],
   "source": []
  },
  {
   "cell_type": "code",
   "execution_count": null,
   "id": "a20e8161-90ca-4d7a-bf19-adfcfb9b80a5",
   "metadata": {},
   "outputs": [],
   "source": []
  },
  {
   "cell_type": "code",
   "execution_count": null,
   "id": "5cc045c0-1da3-4b68-a4f8-03e695ef185b",
   "metadata": {},
   "outputs": [],
   "source": []
  },
  {
   "cell_type": "markdown",
   "id": "cde93ff8-1559-4ed8-b2de-71384cd21323",
   "metadata": {},
   "source": [
    "## Annie"
   ]
  },
  {
   "cell_type": "code",
   "execution_count": null,
   "id": "5e2aabd0-e6b4-497f-9ff2-2672382f39a4",
   "metadata": {},
   "outputs": [],
   "source": []
  },
  {
   "cell_type": "code",
   "execution_count": null,
   "id": "beefb2bb-d22a-4db6-86a6-a860ea77c364",
   "metadata": {},
   "outputs": [],
   "source": []
  },
  {
   "cell_type": "code",
   "execution_count": null,
   "id": "c59b39a3-ca1c-4a83-89fb-9bd4a40de858",
   "metadata": {},
   "outputs": [],
   "source": []
  },
  {
   "cell_type": "code",
   "execution_count": null,
   "id": "05b7f769-62e3-4f4b-8082-86761d7dddc3",
   "metadata": {},
   "outputs": [],
   "source": []
  },
  {
   "cell_type": "code",
   "execution_count": null,
   "id": "79421e03-512f-420a-9644-e9069053564c",
   "metadata": {},
   "outputs": [],
   "source": []
  },
  {
   "cell_type": "code",
   "execution_count": null,
   "id": "c73571da-2f9b-49a2-8c8b-d8b1ae9295dc",
   "metadata": {},
   "outputs": [],
   "source": []
  },
  {
   "cell_type": "code",
   "execution_count": null,
   "id": "b230ccf5-a412-4f8e-899d-77c3324dfaf9",
   "metadata": {},
   "outputs": [],
   "source": []
  },
  {
   "cell_type": "code",
   "execution_count": null,
   "id": "4df46ef5-9467-46d7-bc51-3e44ae84da13",
   "metadata": {},
   "outputs": [],
   "source": []
  },
  {
   "cell_type": "code",
   "execution_count": null,
   "id": "4fc7273c-f884-459d-839b-c6f50016f5c6",
   "metadata": {},
   "outputs": [],
   "source": []
  },
  {
   "cell_type": "code",
   "execution_count": null,
   "id": "d134103f-c622-455b-b710-3dc2638b80a5",
   "metadata": {},
   "outputs": [],
   "source": []
  },
  {
   "cell_type": "code",
   "execution_count": null,
   "id": "0a40666b-e131-4d75-aa9d-d1bed0702d81",
   "metadata": {},
   "outputs": [],
   "source": []
  },
  {
   "cell_type": "code",
   "execution_count": null,
   "id": "2c7b4388-5a7d-4a94-9dae-b3f513f6b860",
   "metadata": {},
   "outputs": [],
   "source": []
  },
  {
   "cell_type": "code",
   "execution_count": null,
   "id": "4efcc0d5-f2cc-4b0c-91af-5c94c56e557b",
   "metadata": {},
   "outputs": [],
   "source": []
  },
  {
   "cell_type": "code",
   "execution_count": null,
   "id": "b6ebb556-8e69-4e63-a06e-06017e31955e",
   "metadata": {},
   "outputs": [],
   "source": []
  },
  {
   "cell_type": "code",
   "execution_count": null,
   "id": "f9d9ecfb-b559-4f9c-9641-1dc07aedbca7",
   "metadata": {},
   "outputs": [],
   "source": []
  },
  {
   "cell_type": "code",
   "execution_count": null,
   "id": "e6fdb35c-957d-4d08-8bc5-7bad83a07893",
   "metadata": {},
   "outputs": [],
   "source": []
  },
  {
   "cell_type": "code",
   "execution_count": null,
   "id": "9d471839-fd78-4bd1-9141-cf4f7a7ec463",
   "metadata": {},
   "outputs": [],
   "source": []
  },
  {
   "cell_type": "code",
   "execution_count": null,
   "id": "175089a6-af57-4a32-b3b9-55f709401cf1",
   "metadata": {},
   "outputs": [],
   "source": []
  },
  {
   "cell_type": "code",
   "execution_count": null,
   "id": "ddf6a490-9e8b-4375-96bb-2c92d5c076f8",
   "metadata": {},
   "outputs": [],
   "source": []
  },
  {
   "cell_type": "code",
   "execution_count": null,
   "id": "23d48ebb-d1e5-4c7a-9606-688ca9e113e5",
   "metadata": {},
   "outputs": [],
   "source": []
  },
  {
   "cell_type": "code",
   "execution_count": null,
   "id": "62f952dd-d4b8-49d7-a0f0-9bc56539af04",
   "metadata": {},
   "outputs": [],
   "source": []
  },
  {
   "cell_type": "code",
   "execution_count": null,
   "id": "6ee8115a-a560-4081-a416-14fb5ee69976",
   "metadata": {},
   "outputs": [],
   "source": []
  },
  {
   "cell_type": "code",
   "execution_count": null,
   "id": "90690370-718a-42c6-b25a-186b1f5212d4",
   "metadata": {},
   "outputs": [],
   "source": []
  },
  {
   "cell_type": "code",
   "execution_count": null,
   "id": "32c3cb3a-0485-42ee-bb4e-1b3e06d72589",
   "metadata": {},
   "outputs": [],
   "source": []
  },
  {
   "cell_type": "code",
   "execution_count": null,
   "id": "3965f173-d8c6-479f-b8b7-1d7be4f6712c",
   "metadata": {},
   "outputs": [],
   "source": []
  },
  {
   "cell_type": "markdown",
   "id": "9c67927a-671f-488e-afc0-720d9dbbe099",
   "metadata": {},
   "source": [
    "## Sileshi"
   ]
  },
  {
   "cell_type": "code",
   "execution_count": null,
   "id": "0a02be6b-dcc4-478d-8f98-81a1ea2e3cf4",
   "metadata": {},
   "outputs": [],
   "source": []
  },
  {
   "cell_type": "code",
   "execution_count": null,
   "id": "a3b12ff4-36c7-44f9-9492-52bf589d4d7c",
   "metadata": {},
   "outputs": [],
   "source": []
  },
  {
   "cell_type": "code",
   "execution_count": null,
   "id": "1b211cc7-8366-40d6-ad58-0a8b24b2c7c0",
   "metadata": {},
   "outputs": [],
   "source": []
  },
  {
   "cell_type": "code",
   "execution_count": null,
   "id": "0418cec6-44a8-4c8f-b37f-9a087e804385",
   "metadata": {},
   "outputs": [],
   "source": []
  },
  {
   "cell_type": "code",
   "execution_count": null,
   "id": "29548bad-94ee-4d28-8480-21d0d1ba74d8",
   "metadata": {},
   "outputs": [],
   "source": []
  },
  {
   "cell_type": "code",
   "execution_count": null,
   "id": "80f87a09-91b6-4e32-ae55-0a2dd0722093",
   "metadata": {},
   "outputs": [],
   "source": []
  },
  {
   "cell_type": "code",
   "execution_count": null,
   "id": "31f9ac37-878f-4743-b2d0-3647169a3b46",
   "metadata": {},
   "outputs": [],
   "source": []
  },
  {
   "cell_type": "code",
   "execution_count": null,
   "id": "9de166a5-1faf-4a29-980e-54e62df96aac",
   "metadata": {},
   "outputs": [],
   "source": []
  },
  {
   "cell_type": "code",
   "execution_count": null,
   "id": "ef0861f6-ed7e-4aa6-8139-67a03e61f012",
   "metadata": {},
   "outputs": [],
   "source": []
  },
  {
   "cell_type": "code",
   "execution_count": null,
   "id": "596ef106-687a-4327-8818-2aff6d868528",
   "metadata": {},
   "outputs": [],
   "source": []
  },
  {
   "cell_type": "code",
   "execution_count": null,
   "id": "f1174d6c-67dd-4bc6-9e4d-a46f014c0a64",
   "metadata": {},
   "outputs": [],
   "source": []
  },
  {
   "cell_type": "code",
   "execution_count": null,
   "id": "96d75dab-48b6-4877-8098-68e1542db466",
   "metadata": {},
   "outputs": [],
   "source": []
  },
  {
   "cell_type": "code",
   "execution_count": null,
   "id": "0527b9a3-6034-4ede-9bed-a81982d47ddd",
   "metadata": {},
   "outputs": [],
   "source": []
  },
  {
   "cell_type": "code",
   "execution_count": null,
   "id": "e29bfe5a-bd93-409a-9660-c0deed041f14",
   "metadata": {},
   "outputs": [],
   "source": []
  },
  {
   "cell_type": "code",
   "execution_count": null,
   "id": "c396d833-2e4f-4a66-8fec-2fa6444f57a7",
   "metadata": {},
   "outputs": [],
   "source": []
  },
  {
   "cell_type": "code",
   "execution_count": null,
   "id": "28ec6c51-d91d-4377-81e0-9136b92de0d2",
   "metadata": {},
   "outputs": [],
   "source": []
  },
  {
   "cell_type": "code",
   "execution_count": null,
   "id": "c3bd50a9-4498-44bf-9e39-ce60a6364561",
   "metadata": {},
   "outputs": [],
   "source": []
  },
  {
   "cell_type": "code",
   "execution_count": null,
   "id": "f67c313a-78cb-4e9e-859d-ecea7a6260a6",
   "metadata": {},
   "outputs": [],
   "source": []
  },
  {
   "cell_type": "code",
   "execution_count": null,
   "id": "18c76069-41b1-4062-bcc3-9ccc35b6e4d4",
   "metadata": {},
   "outputs": [],
   "source": []
  },
  {
   "cell_type": "code",
   "execution_count": null,
   "id": "d9dbd4f7-7d7f-4480-992f-6a079918355b",
   "metadata": {},
   "outputs": [],
   "source": []
  },
  {
   "cell_type": "code",
   "execution_count": null,
   "id": "d69364a2-fcef-4d6a-9833-38c24332f560",
   "metadata": {},
   "outputs": [],
   "source": []
  },
  {
   "cell_type": "code",
   "execution_count": null,
   "id": "14795854-f09e-4c74-8018-ac56f738447c",
   "metadata": {},
   "outputs": [],
   "source": []
  },
  {
   "cell_type": "code",
   "execution_count": null,
   "id": "08233bb9-5e18-40e5-bbfa-3e1262e4c8c7",
   "metadata": {},
   "outputs": [],
   "source": []
  },
  {
   "cell_type": "code",
   "execution_count": null,
   "id": "9abba40f-db86-4174-ba13-ecdd9973ecf3",
   "metadata": {},
   "outputs": [],
   "source": []
  },
  {
   "cell_type": "code",
   "execution_count": null,
   "id": "cd2ff7f8-8e71-473b-9293-1bda83512f4a",
   "metadata": {},
   "outputs": [],
   "source": []
  },
  {
   "cell_type": "code",
   "execution_count": null,
   "id": "7cbf1ee2-e528-47d2-a49a-ae85196836eb",
   "metadata": {},
   "outputs": [],
   "source": []
  },
  {
   "cell_type": "code",
   "execution_count": null,
   "id": "52bb5142-537c-491d-87c2-b30a4c884b92",
   "metadata": {},
   "outputs": [],
   "source": []
  },
  {
   "cell_type": "code",
   "execution_count": null,
   "id": "17b624f4-c567-4dbd-bdc4-45067b7e6181",
   "metadata": {},
   "outputs": [],
   "source": []
  },
  {
   "cell_type": "code",
   "execution_count": null,
   "id": "bcf77be9-b1c4-4c9b-a3b6-202addc12262",
   "metadata": {},
   "outputs": [],
   "source": []
  },
  {
   "cell_type": "markdown",
   "id": "08269302-d857-4383-8fff-492d80714898",
   "metadata": {},
   "source": [
    "## Mason"
   ]
  },
  {
   "cell_type": "code",
   "execution_count": 1,
   "id": "6d6a8100-3ea1-42e1-98b9-e81463d07fc0",
   "metadata": {},
   "outputs": [],
   "source": [
    "# imports\n",
    "import numpy as np\n",
    "import pandas as pd\n",
    "\n",
    "from sklearn.ensemble import RandomForestRegressor, AdaBoostRegressor\n",
    "from sklearn.model_selection import train_test_split, GridSearchCV, cross_val_score\n",
    "from sklearn.pipeline import Pipeline\n",
    "from sklearn import metrics \n",
    "from sklearn.preprocessing import StandardScaler, OneHotEncoder\n",
    "from sklearn.compose import ColumnTransformer, make_column_selector, make_column_transformer"
   ]
  },
  {
   "cell_type": "code",
   "execution_count": 2,
   "id": "486fb6c2-2e49-4e33-9460-14c425b85b0a",
   "metadata": {},
   "outputs": [
    {
     "data": {
      "text/html": [
       "<div>\n",
       "<style scoped>\n",
       "    .dataframe tbody tr th:only-of-type {\n",
       "        vertical-align: middle;\n",
       "    }\n",
       "\n",
       "    .dataframe tbody tr th {\n",
       "        vertical-align: top;\n",
       "    }\n",
       "\n",
       "    .dataframe thead th {\n",
       "        text-align: right;\n",
       "    }\n",
       "</style>\n",
       "<table border=\"1\" class=\"dataframe\">\n",
       "  <thead>\n",
       "    <tr style=\"text-align: right;\">\n",
       "      <th></th>\n",
       "      <th>timestamp</th>\n",
       "      <th>company</th>\n",
       "      <th>level</th>\n",
       "      <th>title</th>\n",
       "      <th>totalyearlycompensation</th>\n",
       "      <th>location</th>\n",
       "      <th>yearsofexperience</th>\n",
       "      <th>yearsatcompany</th>\n",
       "      <th>tag</th>\n",
       "      <th>year</th>\n",
       "      <th>month</th>\n",
       "      <th>year_month</th>\n",
       "      <th>timestamp_3mos</th>\n",
       "      <th>year_month_3mos</th>\n",
       "      <th>state_short</th>\n",
       "      <th>inflation_rate</th>\n",
       "      <th>inflation_rate_3mos</th>\n",
       "      <th>state</th>\n",
       "      <th>employment_rate</th>\n",
       "      <th>employment_rate_3mos</th>\n",
       "    </tr>\n",
       "  </thead>\n",
       "  <tbody>\n",
       "    <tr>\n",
       "      <th>0</th>\n",
       "      <td>2018-06-03 13:58:20</td>\n",
       "      <td>Yahoo</td>\n",
       "      <td>IC2</td>\n",
       "      <td>Software Engineer</td>\n",
       "      <td>160.5</td>\n",
       "      <td>Sunnyvale, CA</td>\n",
       "      <td>0.58</td>\n",
       "      <td>0.58</td>\n",
       "      <td>Full Stack</td>\n",
       "      <td>2018</td>\n",
       "      <td>6</td>\n",
       "      <td>2018-06</td>\n",
       "      <td>2018-03-03 13:58:20</td>\n",
       "      <td>2018-03</td>\n",
       "      <td>CA</td>\n",
       "      <td>0.029</td>\n",
       "      <td>0.024</td>\n",
       "      <td>California</td>\n",
       "      <td>0.957660</td>\n",
       "      <td>0.956797</td>\n",
       "    </tr>\n",
       "    <tr>\n",
       "      <th>1</th>\n",
       "      <td>2018-06-04 20:28:22</td>\n",
       "      <td>Facebook</td>\n",
       "      <td>E3</td>\n",
       "      <td>Software Engineer</td>\n",
       "      <td>165.0</td>\n",
       "      <td>Seattle, WA</td>\n",
       "      <td>1.00</td>\n",
       "      <td>1.00</td>\n",
       "      <td>Full Stack</td>\n",
       "      <td>2018</td>\n",
       "      <td>6</td>\n",
       "      <td>2018-06</td>\n",
       "      <td>2018-03-04 20:28:22</td>\n",
       "      <td>2018-03</td>\n",
       "      <td>WA</td>\n",
       "      <td>0.029</td>\n",
       "      <td>0.024</td>\n",
       "      <td>Washington</td>\n",
       "      <td>0.955998</td>\n",
       "      <td>0.954978</td>\n",
       "    </tr>\n",
       "    <tr>\n",
       "      <th>2</th>\n",
       "      <td>2018-06-05 00:56:33</td>\n",
       "      <td>VmWare</td>\n",
       "      <td>Senior MTS</td>\n",
       "      <td>Software Engineer</td>\n",
       "      <td>218.0</td>\n",
       "      <td>Palo Alto, CA</td>\n",
       "      <td>8.00</td>\n",
       "      <td>1.00</td>\n",
       "      <td>Distributed Systems (Back-End)</td>\n",
       "      <td>2018</td>\n",
       "      <td>6</td>\n",
       "      <td>2018-06</td>\n",
       "      <td>2018-03-05 00:56:33</td>\n",
       "      <td>2018-03</td>\n",
       "      <td>CA</td>\n",
       "      <td>0.029</td>\n",
       "      <td>0.024</td>\n",
       "      <td>California</td>\n",
       "      <td>0.957660</td>\n",
       "      <td>0.956797</td>\n",
       "    </tr>\n",
       "    <tr>\n",
       "      <th>3</th>\n",
       "      <td>2018-06-05 01:19:05</td>\n",
       "      <td>Uber</td>\n",
       "      <td>L4</td>\n",
       "      <td>Software Engineer</td>\n",
       "      <td>240.0</td>\n",
       "      <td>San Francisco, CA</td>\n",
       "      <td>3.00</td>\n",
       "      <td>0.00</td>\n",
       "      <td>Web Development (Front-End)</td>\n",
       "      <td>2018</td>\n",
       "      <td>6</td>\n",
       "      <td>2018-06</td>\n",
       "      <td>2018-03-05 01:19:05</td>\n",
       "      <td>2018-03</td>\n",
       "      <td>CA</td>\n",
       "      <td>0.029</td>\n",
       "      <td>0.024</td>\n",
       "      <td>California</td>\n",
       "      <td>0.957660</td>\n",
       "      <td>0.956797</td>\n",
       "    </tr>\n",
       "    <tr>\n",
       "      <th>4</th>\n",
       "      <td>2018-06-05 07:13:17</td>\n",
       "      <td>Capital One</td>\n",
       "      <td>Master Software Engineer</td>\n",
       "      <td>Software Engineer</td>\n",
       "      <td>196.0</td>\n",
       "      <td>New York, NY</td>\n",
       "      <td>8.00</td>\n",
       "      <td>2.00</td>\n",
       "      <td>iOS</td>\n",
       "      <td>2018</td>\n",
       "      <td>6</td>\n",
       "      <td>2018-06</td>\n",
       "      <td>2018-03-05 07:13:17</td>\n",
       "      <td>2018-03</td>\n",
       "      <td>NY</td>\n",
       "      <td>0.029</td>\n",
       "      <td>0.024</td>\n",
       "      <td>New York</td>\n",
       "      <td>0.959053</td>\n",
       "      <td>0.955962</td>\n",
       "    </tr>\n",
       "  </tbody>\n",
       "</table>\n",
       "</div>"
      ],
      "text/plain": [
       "             timestamp      company                     level  \\\n",
       "0  2018-06-03 13:58:20        Yahoo                       IC2   \n",
       "1  2018-06-04 20:28:22     Facebook                        E3   \n",
       "2  2018-06-05 00:56:33       VmWare                Senior MTS   \n",
       "3  2018-06-05 01:19:05         Uber                        L4   \n",
       "4  2018-06-05 07:13:17  Capital One  Master Software Engineer   \n",
       "\n",
       "               title  totalyearlycompensation           location  \\\n",
       "0  Software Engineer                    160.5      Sunnyvale, CA   \n",
       "1  Software Engineer                    165.0        Seattle, WA   \n",
       "2  Software Engineer                    218.0      Palo Alto, CA   \n",
       "3  Software Engineer                    240.0  San Francisco, CA   \n",
       "4  Software Engineer                    196.0       New York, NY   \n",
       "\n",
       "   yearsofexperience  yearsatcompany                             tag  year  \\\n",
       "0               0.58            0.58                      Full Stack  2018   \n",
       "1               1.00            1.00                      Full Stack  2018   \n",
       "2               8.00            1.00  Distributed Systems (Back-End)  2018   \n",
       "3               3.00            0.00     Web Development (Front-End)  2018   \n",
       "4               8.00            2.00                             iOS  2018   \n",
       "\n",
       "   month year_month       timestamp_3mos year_month_3mos state_short  \\\n",
       "0      6    2018-06  2018-03-03 13:58:20         2018-03          CA   \n",
       "1      6    2018-06  2018-03-04 20:28:22         2018-03          WA   \n",
       "2      6    2018-06  2018-03-05 00:56:33         2018-03          CA   \n",
       "3      6    2018-06  2018-03-05 01:19:05         2018-03          CA   \n",
       "4      6    2018-06  2018-03-05 07:13:17         2018-03          NY   \n",
       "\n",
       "   inflation_rate  inflation_rate_3mos       state  employment_rate  \\\n",
       "0           0.029                0.024  California         0.957660   \n",
       "1           0.029                0.024  Washington         0.955998   \n",
       "2           0.029                0.024  California         0.957660   \n",
       "3           0.029                0.024  California         0.957660   \n",
       "4           0.029                0.024    New York         0.959053   \n",
       "\n",
       "   employment_rate_3mos  \n",
       "0              0.956797  \n",
       "1              0.954978  \n",
       "2              0.956797  \n",
       "3              0.956797  \n",
       "4              0.955962  "
      ]
     },
     "execution_count": 2,
     "metadata": {},
     "output_type": "execute_result"
    }
   ],
   "source": [
    "# Loading dataset\n",
    "df = pd.read_csv('../Data/salary_cleaned.csv')\n",
    "df.head()"
   ]
  },
  {
   "cell_type": "code",
   "execution_count": 3,
   "id": "f724191a-d47f-425b-9fbc-17603cdc4a82",
   "metadata": {},
   "outputs": [
    {
     "name": "stdout",
     "output_type": "stream",
     "text": [
      "<class 'pandas.core.frame.DataFrame'>\n",
      "RangeIndex: 24496 entries, 0 to 24495\n",
      "Data columns (total 20 columns):\n",
      " #   Column                   Non-Null Count  Dtype  \n",
      "---  ------                   --------------  -----  \n",
      " 0   timestamp                24496 non-null  object \n",
      " 1   company                  24496 non-null  object \n",
      " 2   level                    24496 non-null  object \n",
      " 3   title                    24496 non-null  object \n",
      " 4   totalyearlycompensation  24496 non-null  float64\n",
      " 5   location                 24496 non-null  object \n",
      " 6   yearsofexperience        24496 non-null  float64\n",
      " 7   yearsatcompany           24496 non-null  float64\n",
      " 8   tag                      24496 non-null  object \n",
      " 9   year                     24496 non-null  object \n",
      " 10  month                    24496 non-null  object \n",
      " 11  year_month               24496 non-null  object \n",
      " 12  timestamp_3mos           24496 non-null  object \n",
      " 13  year_month_3mos          24496 non-null  object \n",
      " 14  state_short              24496 non-null  object \n",
      " 15  inflation_rate           24496 non-null  float64\n",
      " 16  inflation_rate_3mos      24496 non-null  float64\n",
      " 17  state                    24496 non-null  object \n",
      " 18  employment_rate          24496 non-null  float64\n",
      " 19  employment_rate_3mos     24496 non-null  float64\n",
      "dtypes: float64(7), object(13)\n",
      "memory usage: 3.7+ MB\n"
     ]
    }
   ],
   "source": [
    "# Converting Year and Month to string \n",
    "df['year'] = df['year'].astype(str)\n",
    "df['month'] = df['month'].astype(str)\n",
    "df.info()"
   ]
  },
  {
   "cell_type": "code",
   "execution_count": 4,
   "id": "c519d467-776f-4b2e-9ab9-bdcaca454f5d",
   "metadata": {},
   "outputs": [],
   "source": [
    "# Features and target variable\n",
    "features = ['company', 'title', 'yearsofexperience', 'yearsatcompany', 'year', 'month', 'state_short', 'inflation_rate', 'inflation_rate_3mos', 'employment_rate', 'employment_rate_3mos']\n",
    "\n",
    "X = df[features]\n",
    "y = df['totalyearlycompensation']"
   ]
  },
  {
   "cell_type": "code",
   "execution_count": 5,
   "id": "62cbab1c-3733-4c5c-9f10-90b9a4402696",
   "metadata": {},
   "outputs": [],
   "source": [
    "# Train/Test Split\n",
    "\n",
    "X_train, X_test, y_train, y_test = train_test_split(X, y,random_state=42)"
   ]
  },
  {
   "cell_type": "code",
   "execution_count": 6,
   "id": "c24a3229-f299-416c-9843-c2ef25a16ea1",
   "metadata": {},
   "outputs": [],
   "source": [
    "# ColumnTransformer\n",
    "ct = ColumnTransformer([\n",
    "    ('sc', StandardScaler(), make_column_selector(dtype_exclude=object)),\n",
    "    ('encoder', OneHotEncoder(handle_unknown='ignore'), ['company', 'title', 'state_short', 'year', 'month'])],\n",
    "    n_jobs=-1,\n",
    "    remainder='passthrough')"
   ]
  },
  {
   "cell_type": "code",
   "execution_count": 7,
   "id": "15a0707b-71cf-4c23-a685-24e74943b893",
   "metadata": {},
   "outputs": [],
   "source": [
    "X_train_ct = ct.fit_transform(X_train)\n",
    "X_test_ct = ct.transform(X_test)"
   ]
  },
  {
   "cell_type": "code",
   "execution_count": 8,
   "id": "1cc1b253-37ad-4888-a811-acf3b11e2487",
   "metadata": {},
   "outputs": [
    {
     "data": {
      "text/plain": [
       "(18372, 1234)"
      ]
     },
     "execution_count": 8,
     "metadata": {},
     "output_type": "execute_result"
    }
   ],
   "source": [
    "X_train_ct.shape"
   ]
  },
  {
   "cell_type": "code",
   "execution_count": 9,
   "id": "74dec088-72c3-4813-94d1-a053dd7fee7b",
   "metadata": {},
   "outputs": [
    {
     "data": {
      "text/plain": [
       "(6124, 1234)"
      ]
     },
     "execution_count": 9,
     "metadata": {},
     "output_type": "execute_result"
    }
   ],
   "source": [
    "X_test_ct.shape"
   ]
  },
  {
   "cell_type": "markdown",
   "id": "0e903f44-b1ff-4734-a09f-5f8d17f12e27",
   "metadata": {},
   "source": [
    "#### RandomForest Regression"
   ]
  },
  {
   "cell_type": "code",
   "execution_count": 25,
   "id": "6e994317-7cc0-4a9c-8f08-4c3d698902c6",
   "metadata": {},
   "outputs": [
    {
     "name": "stdout",
     "output_type": "stream",
     "text": [
      "Fitting 5 folds for each of 750 candidates, totalling 3750 fits\n"
     ]
    },
    {
     "ename": "KeyboardInterrupt",
     "evalue": "",
     "output_type": "error",
     "traceback": [
      "\u001b[0;31m---------------------------------------------------------------------------\u001b[0m",
      "\u001b[0;31mKeyboardInterrupt\u001b[0m                         Traceback (most recent call last)",
      "\u001b[0;32m<ipython-input-25-f5cdee5421dd>\u001b[0m in \u001b[0;36m<module>\u001b[0;34m\u001b[0m\n\u001b[1;32m     15\u001b[0m \u001b[0;34m\u001b[0m\u001b[0m\n\u001b[1;32m     16\u001b[0m \u001b[0;31m# Fitting GridSearch to the data\u001b[0m\u001b[0;34m\u001b[0m\u001b[0;34m\u001b[0m\u001b[0;34m\u001b[0m\u001b[0m\n\u001b[0;32m---> 17\u001b[0;31m \u001b[0mrf_gs\u001b[0m\u001b[0;34m.\u001b[0m\u001b[0mfit\u001b[0m\u001b[0;34m(\u001b[0m\u001b[0mX_train_ct\u001b[0m\u001b[0;34m,\u001b[0m \u001b[0my_train\u001b[0m\u001b[0;34m)\u001b[0m\u001b[0;34m\u001b[0m\u001b[0;34m\u001b[0m\u001b[0m\n\u001b[0m",
      "\u001b[0;32m/opt/anaconda3/lib/python3.8/site-packages/sklearn/utils/validation.py\u001b[0m in \u001b[0;36minner_f\u001b[0;34m(*args, **kwargs)\u001b[0m\n\u001b[1;32m     61\u001b[0m             \u001b[0mextra_args\u001b[0m \u001b[0;34m=\u001b[0m \u001b[0mlen\u001b[0m\u001b[0;34m(\u001b[0m\u001b[0margs\u001b[0m\u001b[0;34m)\u001b[0m \u001b[0;34m-\u001b[0m \u001b[0mlen\u001b[0m\u001b[0;34m(\u001b[0m\u001b[0mall_args\u001b[0m\u001b[0;34m)\u001b[0m\u001b[0;34m\u001b[0m\u001b[0;34m\u001b[0m\u001b[0m\n\u001b[1;32m     62\u001b[0m             \u001b[0;32mif\u001b[0m \u001b[0mextra_args\u001b[0m \u001b[0;34m<=\u001b[0m \u001b[0;36m0\u001b[0m\u001b[0;34m:\u001b[0m\u001b[0;34m\u001b[0m\u001b[0;34m\u001b[0m\u001b[0m\n\u001b[0;32m---> 63\u001b[0;31m                 \u001b[0;32mreturn\u001b[0m \u001b[0mf\u001b[0m\u001b[0;34m(\u001b[0m\u001b[0;34m*\u001b[0m\u001b[0margs\u001b[0m\u001b[0;34m,\u001b[0m \u001b[0;34m**\u001b[0m\u001b[0mkwargs\u001b[0m\u001b[0;34m)\u001b[0m\u001b[0;34m\u001b[0m\u001b[0;34m\u001b[0m\u001b[0m\n\u001b[0m\u001b[1;32m     64\u001b[0m \u001b[0;34m\u001b[0m\u001b[0m\n\u001b[1;32m     65\u001b[0m             \u001b[0;31m# extra_args > 0\u001b[0m\u001b[0;34m\u001b[0m\u001b[0;34m\u001b[0m\u001b[0;34m\u001b[0m\u001b[0m\n",
      "\u001b[0;32m/opt/anaconda3/lib/python3.8/site-packages/sklearn/model_selection/_search.py\u001b[0m in \u001b[0;36mfit\u001b[0;34m(self, X, y, groups, **fit_params)\u001b[0m\n\u001b[1;32m    839\u001b[0m                 \u001b[0;32mreturn\u001b[0m \u001b[0mresults\u001b[0m\u001b[0;34m\u001b[0m\u001b[0;34m\u001b[0m\u001b[0m\n\u001b[1;32m    840\u001b[0m \u001b[0;34m\u001b[0m\u001b[0m\n\u001b[0;32m--> 841\u001b[0;31m             \u001b[0mself\u001b[0m\u001b[0;34m.\u001b[0m\u001b[0m_run_search\u001b[0m\u001b[0;34m(\u001b[0m\u001b[0mevaluate_candidates\u001b[0m\u001b[0;34m)\u001b[0m\u001b[0;34m\u001b[0m\u001b[0;34m\u001b[0m\u001b[0m\n\u001b[0m\u001b[1;32m    842\u001b[0m \u001b[0;34m\u001b[0m\u001b[0m\n\u001b[1;32m    843\u001b[0m             \u001b[0;31m# multimetric is determined here because in the case of a callable\u001b[0m\u001b[0;34m\u001b[0m\u001b[0;34m\u001b[0m\u001b[0;34m\u001b[0m\u001b[0m\n",
      "\u001b[0;32m/opt/anaconda3/lib/python3.8/site-packages/sklearn/model_selection/_search.py\u001b[0m in \u001b[0;36m_run_search\u001b[0;34m(self, evaluate_candidates)\u001b[0m\n\u001b[1;32m   1286\u001b[0m     \u001b[0;32mdef\u001b[0m \u001b[0m_run_search\u001b[0m\u001b[0;34m(\u001b[0m\u001b[0mself\u001b[0m\u001b[0;34m,\u001b[0m \u001b[0mevaluate_candidates\u001b[0m\u001b[0;34m)\u001b[0m\u001b[0;34m:\u001b[0m\u001b[0;34m\u001b[0m\u001b[0;34m\u001b[0m\u001b[0m\n\u001b[1;32m   1287\u001b[0m         \u001b[0;34m\"\"\"Search all candidates in param_grid\"\"\"\u001b[0m\u001b[0;34m\u001b[0m\u001b[0;34m\u001b[0m\u001b[0m\n\u001b[0;32m-> 1288\u001b[0;31m         \u001b[0mevaluate_candidates\u001b[0m\u001b[0;34m(\u001b[0m\u001b[0mParameterGrid\u001b[0m\u001b[0;34m(\u001b[0m\u001b[0mself\u001b[0m\u001b[0;34m.\u001b[0m\u001b[0mparam_grid\u001b[0m\u001b[0;34m)\u001b[0m\u001b[0;34m)\u001b[0m\u001b[0;34m\u001b[0m\u001b[0;34m\u001b[0m\u001b[0m\n\u001b[0m\u001b[1;32m   1289\u001b[0m \u001b[0;34m\u001b[0m\u001b[0m\n\u001b[1;32m   1290\u001b[0m \u001b[0;34m\u001b[0m\u001b[0m\n",
      "\u001b[0;32m/opt/anaconda3/lib/python3.8/site-packages/sklearn/model_selection/_search.py\u001b[0m in \u001b[0;36mevaluate_candidates\u001b[0;34m(candidate_params, cv, more_results)\u001b[0m\n\u001b[1;32m    793\u001b[0m                               n_splits, n_candidates, n_candidates * n_splits))\n\u001b[1;32m    794\u001b[0m \u001b[0;34m\u001b[0m\u001b[0m\n\u001b[0;32m--> 795\u001b[0;31m                 out = parallel(delayed(_fit_and_score)(clone(base_estimator),\n\u001b[0m\u001b[1;32m    796\u001b[0m                                                        \u001b[0mX\u001b[0m\u001b[0;34m,\u001b[0m \u001b[0my\u001b[0m\u001b[0;34m,\u001b[0m\u001b[0;34m\u001b[0m\u001b[0;34m\u001b[0m\u001b[0m\n\u001b[1;32m    797\u001b[0m                                                        \u001b[0mtrain\u001b[0m\u001b[0;34m=\u001b[0m\u001b[0mtrain\u001b[0m\u001b[0;34m,\u001b[0m \u001b[0mtest\u001b[0m\u001b[0;34m=\u001b[0m\u001b[0mtest\u001b[0m\u001b[0;34m,\u001b[0m\u001b[0;34m\u001b[0m\u001b[0;34m\u001b[0m\u001b[0m\n",
      "\u001b[0;32m/opt/anaconda3/lib/python3.8/site-packages/joblib/parallel.py\u001b[0m in \u001b[0;36m__call__\u001b[0;34m(self, iterable)\u001b[0m\n\u001b[1;32m   1052\u001b[0m \u001b[0;34m\u001b[0m\u001b[0m\n\u001b[1;32m   1053\u001b[0m             \u001b[0;32mwith\u001b[0m \u001b[0mself\u001b[0m\u001b[0;34m.\u001b[0m\u001b[0m_backend\u001b[0m\u001b[0;34m.\u001b[0m\u001b[0mretrieval_context\u001b[0m\u001b[0;34m(\u001b[0m\u001b[0;34m)\u001b[0m\u001b[0;34m:\u001b[0m\u001b[0;34m\u001b[0m\u001b[0;34m\u001b[0m\u001b[0m\n\u001b[0;32m-> 1054\u001b[0;31m                 \u001b[0mself\u001b[0m\u001b[0;34m.\u001b[0m\u001b[0mretrieve\u001b[0m\u001b[0;34m(\u001b[0m\u001b[0;34m)\u001b[0m\u001b[0;34m\u001b[0m\u001b[0;34m\u001b[0m\u001b[0m\n\u001b[0m\u001b[1;32m   1055\u001b[0m             \u001b[0;31m# Make sure that we get a last message telling us we are done\u001b[0m\u001b[0;34m\u001b[0m\u001b[0;34m\u001b[0m\u001b[0;34m\u001b[0m\u001b[0m\n\u001b[1;32m   1056\u001b[0m             \u001b[0melapsed_time\u001b[0m \u001b[0;34m=\u001b[0m \u001b[0mtime\u001b[0m\u001b[0;34m.\u001b[0m\u001b[0mtime\u001b[0m\u001b[0;34m(\u001b[0m\u001b[0;34m)\u001b[0m \u001b[0;34m-\u001b[0m \u001b[0mself\u001b[0m\u001b[0;34m.\u001b[0m\u001b[0m_start_time\u001b[0m\u001b[0;34m\u001b[0m\u001b[0;34m\u001b[0m\u001b[0m\n",
      "\u001b[0;32m/opt/anaconda3/lib/python3.8/site-packages/joblib/parallel.py\u001b[0m in \u001b[0;36mretrieve\u001b[0;34m(self)\u001b[0m\n\u001b[1;32m    931\u001b[0m             \u001b[0;32mtry\u001b[0m\u001b[0;34m:\u001b[0m\u001b[0;34m\u001b[0m\u001b[0;34m\u001b[0m\u001b[0m\n\u001b[1;32m    932\u001b[0m                 \u001b[0;32mif\u001b[0m \u001b[0mgetattr\u001b[0m\u001b[0;34m(\u001b[0m\u001b[0mself\u001b[0m\u001b[0;34m.\u001b[0m\u001b[0m_backend\u001b[0m\u001b[0;34m,\u001b[0m \u001b[0;34m'supports_timeout'\u001b[0m\u001b[0;34m,\u001b[0m \u001b[0;32mFalse\u001b[0m\u001b[0;34m)\u001b[0m\u001b[0;34m:\u001b[0m\u001b[0;34m\u001b[0m\u001b[0;34m\u001b[0m\u001b[0m\n\u001b[0;32m--> 933\u001b[0;31m                     \u001b[0mself\u001b[0m\u001b[0;34m.\u001b[0m\u001b[0m_output\u001b[0m\u001b[0;34m.\u001b[0m\u001b[0mextend\u001b[0m\u001b[0;34m(\u001b[0m\u001b[0mjob\u001b[0m\u001b[0;34m.\u001b[0m\u001b[0mget\u001b[0m\u001b[0;34m(\u001b[0m\u001b[0mtimeout\u001b[0m\u001b[0;34m=\u001b[0m\u001b[0mself\u001b[0m\u001b[0;34m.\u001b[0m\u001b[0mtimeout\u001b[0m\u001b[0;34m)\u001b[0m\u001b[0;34m)\u001b[0m\u001b[0;34m\u001b[0m\u001b[0;34m\u001b[0m\u001b[0m\n\u001b[0m\u001b[1;32m    934\u001b[0m                 \u001b[0;32melse\u001b[0m\u001b[0;34m:\u001b[0m\u001b[0;34m\u001b[0m\u001b[0;34m\u001b[0m\u001b[0m\n\u001b[1;32m    935\u001b[0m                     \u001b[0mself\u001b[0m\u001b[0;34m.\u001b[0m\u001b[0m_output\u001b[0m\u001b[0;34m.\u001b[0m\u001b[0mextend\u001b[0m\u001b[0;34m(\u001b[0m\u001b[0mjob\u001b[0m\u001b[0;34m.\u001b[0m\u001b[0mget\u001b[0m\u001b[0;34m(\u001b[0m\u001b[0;34m)\u001b[0m\u001b[0;34m)\u001b[0m\u001b[0;34m\u001b[0m\u001b[0;34m\u001b[0m\u001b[0m\n",
      "\u001b[0;32m/opt/anaconda3/lib/python3.8/site-packages/joblib/_parallel_backends.py\u001b[0m in \u001b[0;36mwrap_future_result\u001b[0;34m(future, timeout)\u001b[0m\n\u001b[1;32m    540\u001b[0m         AsyncResults.get from multiprocessing.\"\"\"\n\u001b[1;32m    541\u001b[0m         \u001b[0;32mtry\u001b[0m\u001b[0;34m:\u001b[0m\u001b[0;34m\u001b[0m\u001b[0;34m\u001b[0m\u001b[0m\n\u001b[0;32m--> 542\u001b[0;31m             \u001b[0;32mreturn\u001b[0m \u001b[0mfuture\u001b[0m\u001b[0;34m.\u001b[0m\u001b[0mresult\u001b[0m\u001b[0;34m(\u001b[0m\u001b[0mtimeout\u001b[0m\u001b[0;34m=\u001b[0m\u001b[0mtimeout\u001b[0m\u001b[0;34m)\u001b[0m\u001b[0;34m\u001b[0m\u001b[0;34m\u001b[0m\u001b[0m\n\u001b[0m\u001b[1;32m    543\u001b[0m         \u001b[0;32mexcept\u001b[0m \u001b[0mCfTimeoutError\u001b[0m \u001b[0;32mas\u001b[0m \u001b[0me\u001b[0m\u001b[0;34m:\u001b[0m\u001b[0;34m\u001b[0m\u001b[0;34m\u001b[0m\u001b[0m\n\u001b[1;32m    544\u001b[0m             \u001b[0;32mraise\u001b[0m \u001b[0mTimeoutError\u001b[0m \u001b[0;32mfrom\u001b[0m \u001b[0me\u001b[0m\u001b[0;34m\u001b[0m\u001b[0;34m\u001b[0m\u001b[0m\n",
      "\u001b[0;32m/opt/anaconda3/lib/python3.8/concurrent/futures/_base.py\u001b[0m in \u001b[0;36mresult\u001b[0;34m(self, timeout)\u001b[0m\n\u001b[1;32m    432\u001b[0m                 \u001b[0;32mreturn\u001b[0m \u001b[0mself\u001b[0m\u001b[0;34m.\u001b[0m\u001b[0m__get_result\u001b[0m\u001b[0;34m(\u001b[0m\u001b[0;34m)\u001b[0m\u001b[0;34m\u001b[0m\u001b[0;34m\u001b[0m\u001b[0m\n\u001b[1;32m    433\u001b[0m \u001b[0;34m\u001b[0m\u001b[0m\n\u001b[0;32m--> 434\u001b[0;31m             \u001b[0mself\u001b[0m\u001b[0;34m.\u001b[0m\u001b[0m_condition\u001b[0m\u001b[0;34m.\u001b[0m\u001b[0mwait\u001b[0m\u001b[0;34m(\u001b[0m\u001b[0mtimeout\u001b[0m\u001b[0;34m)\u001b[0m\u001b[0;34m\u001b[0m\u001b[0;34m\u001b[0m\u001b[0m\n\u001b[0m\u001b[1;32m    435\u001b[0m \u001b[0;34m\u001b[0m\u001b[0m\n\u001b[1;32m    436\u001b[0m             \u001b[0;32mif\u001b[0m \u001b[0mself\u001b[0m\u001b[0;34m.\u001b[0m\u001b[0m_state\u001b[0m \u001b[0;32min\u001b[0m \u001b[0;34m[\u001b[0m\u001b[0mCANCELLED\u001b[0m\u001b[0;34m,\u001b[0m \u001b[0mCANCELLED_AND_NOTIFIED\u001b[0m\u001b[0;34m]\u001b[0m\u001b[0;34m:\u001b[0m\u001b[0;34m\u001b[0m\u001b[0;34m\u001b[0m\u001b[0m\n",
      "\u001b[0;32m/opt/anaconda3/lib/python3.8/threading.py\u001b[0m in \u001b[0;36mwait\u001b[0;34m(self, timeout)\u001b[0m\n\u001b[1;32m    300\u001b[0m         \u001b[0;32mtry\u001b[0m\u001b[0;34m:\u001b[0m    \u001b[0;31m# restore state no matter what (e.g., KeyboardInterrupt)\u001b[0m\u001b[0;34m\u001b[0m\u001b[0;34m\u001b[0m\u001b[0m\n\u001b[1;32m    301\u001b[0m             \u001b[0;32mif\u001b[0m \u001b[0mtimeout\u001b[0m \u001b[0;32mis\u001b[0m \u001b[0;32mNone\u001b[0m\u001b[0;34m:\u001b[0m\u001b[0;34m\u001b[0m\u001b[0;34m\u001b[0m\u001b[0m\n\u001b[0;32m--> 302\u001b[0;31m                 \u001b[0mwaiter\u001b[0m\u001b[0;34m.\u001b[0m\u001b[0macquire\u001b[0m\u001b[0;34m(\u001b[0m\u001b[0;34m)\u001b[0m\u001b[0;34m\u001b[0m\u001b[0;34m\u001b[0m\u001b[0m\n\u001b[0m\u001b[1;32m    303\u001b[0m                 \u001b[0mgotit\u001b[0m \u001b[0;34m=\u001b[0m \u001b[0;32mTrue\u001b[0m\u001b[0;34m\u001b[0m\u001b[0;34m\u001b[0m\u001b[0m\n\u001b[1;32m    304\u001b[0m             \u001b[0;32melse\u001b[0m\u001b[0;34m:\u001b[0m\u001b[0;34m\u001b[0m\u001b[0;34m\u001b[0m\u001b[0m\n",
      "\u001b[0;31mKeyboardInterrupt\u001b[0m: "
     ]
    }
   ],
   "source": [
    "# Instantiate RandomForestRegression\n",
    "rf = RandomForestRegressor(random_state=42)\n",
    "\n",
    "# Parameters\n",
    "rf_params={\n",
    "    'n_estimators':[100, 200, 300, 400, 500],\n",
    "    'criterion': ['mse'],\n",
    "    'max_depth': [2, 4, 6, 8, 10, 12],\n",
    "    'min_samples_split': [2, 3, 4, 5, 6],\n",
    "    'min_samples_leaf': [1, 2, 3, 4, 5],\n",
    "}\n",
    "\n",
    "# Instantiating RFR Gridsearch\n",
    "rf_gs = GridSearchCV(rf, rf_params, cv=5, verbose=1, n_jobs=-1)\n",
    "\n",
    "# Fitting GridSearch to the data\n",
    "rf_gs.fit(X_train_ct, y_train)"
   ]
  },
  {
   "cell_type": "code",
   "execution_count": 24,
   "id": "c1bec8f6-782d-47b8-afe2-32847b7df7c2",
   "metadata": {},
   "outputs": [
    {
     "name": "stdout",
     "output_type": "stream",
     "text": [
      "Best Train Score: 0.41540868532825537\n",
      "Test Score: 0.41070684312493977\n",
      "Best parameters: {'criterion': 'mse', 'max_depth': 6, 'min_samples_leaf': 3, 'min_samples_split': 2, 'n_estimators': 200}\n",
      "Best Estimators: RandomForestRegressor(max_depth=6, min_samples_leaf=3, n_estimators=200,\n",
      "                      random_state=42)\n"
     ]
    }
   ],
   "source": [
    "# Train/Test Scores\n",
    "print(f'Best Score: {rf_gs.best_score_}')\n",
    "print(f'Train Score: {rf_gs.score(X_train_ct, y_train)}')\n",
    "print(f'Test Score: {rf_gs.score(X_test_ct, y_test)}')\n",
    "\n",
    "# Best Parameters\n",
    "print(f'Best parameters: {rf_gs.best_params_}')\n",
    "\n",
    "# Best Estimators\n",
    "print(f'Best Estimators: {rf_gs.best_estimator_}')"
   ]
  },
  {
   "cell_type": "code",
   "execution_count": 17,
   "id": "86d71086-9d83-4bed-8bfb-c31a8864d671",
   "metadata": {},
   "outputs": [],
   "source": [
    "# Predictions\n",
    "rf_preds_train = rf_gs.predict(X_train_ct)\n",
    "rf_preds_test = rf_gs.predict(X_test_ct)"
   ]
  },
  {
   "cell_type": "code",
   "execution_count": 18,
   "id": "91394822-7a70-4891-a945-2fc57a2c0aec",
   "metadata": {},
   "outputs": [],
   "source": [
    "# Evaluation\n",
    "rf_score_train = rf_gs.score(X_train_ct, y_train)\n",
    "rf_score_test = rf_gs.score(X_test_ct, y_test)\n",
    "\n",
    "rf_mse_train = metrics.mean_squared_error(y_train, rf_preds_train)\n",
    "rf_mse_test = metrics.mean_squared_error(y_test, rf_preds_test)"
   ]
  },
  {
   "cell_type": "code",
   "execution_count": 19,
   "id": "c9cf3b2a-e4d3-46b3-9181-df00f01bb1f8",
   "metadata": {},
   "outputs": [],
   "source": [
    "# create the perf evaluation output df\n",
    "perf_dict = {\n",
    "    'R2': [rf_score_train, rf_score_test],\n",
    "    'mse': [rf_mse_train, rf_mse_test]\n",
    "}\n",
    "\n",
    "perf_df = pd.DataFrame(perf_dict, index=['train','test']).T\n",
    "\n",
    "# perf_df.to_csv('./randomforest_perf.csv')\n",
    "# Data was obtained via AWS"
   ]
  },
  {
   "cell_type": "code",
   "execution_count": 20,
   "id": "5e2c32f4-de4a-4115-b758-bd26edfe9fe9",
   "metadata": {},
   "outputs": [],
   "source": [
    "# create the prediction output df\n",
    "data_test_copy = X_test.copy()"
   ]
  },
  {
   "cell_type": "code",
   "execution_count": 21,
   "id": "4346d23b-0a10-4768-910d-626a69d8e5e7",
   "metadata": {},
   "outputs": [],
   "source": [
    "# Predictions\n",
    "data_test_copy['totalcomp'] = y_test\n",
    "data_test_copy['predictions'] = rf_preds_test\n",
    "\n",
    "# data_test_copy.to_csv('./randomforest_pred.csv', index=False)\n",
    "# Data was obtained via AWS\n"
   ]
  },
  {
   "cell_type": "code",
   "execution_count": 22,
   "id": "a0d26f2b-802b-4e84-90d4-8480af7be7b0",
   "metadata": {},
   "outputs": [],
   "source": [
    "# CV results\n",
    "cv_result = pd.DataFrame(rf_gs.cv_results_)\n",
    "\n",
    "# cv_result.to_csv('./randomforest_CV_Result.csv', index=False)\n",
    "# Data was obtained via AWS"
   ]
  },
  {
   "cell_type": "markdown",
   "id": "65d77c9c-45c0-4026-844e-1746ed0ec593",
   "metadata": {},
   "source": [
    "#### AdaBoost Regression"
   ]
  },
  {
   "cell_type": "code",
   "execution_count": 10,
   "id": "90d60858-2c56-4917-8f52-856f31757937",
   "metadata": {
    "tags": []
   },
   "outputs": [
    {
     "name": "stdout",
     "output_type": "stream",
     "text": [
      "Fitting 5 folds for each of 24 candidates, totalling 120 fits\n"
     ]
    },
    {
     "data": {
      "text/plain": [
       "GridSearchCV(cv=5, estimator=AdaBoostRegressor(random_state=42), n_jobs=-1,\n",
       "             param_grid={'base_estimator': [None], 'learning_rate': [1, 3],\n",
       "                         'loss': ['linear', 'square', 'exponential'],\n",
       "                         'n_estimators': [50, 100, 150, 200]},\n",
       "             verbose=1)"
      ]
     },
     "execution_count": 10,
     "metadata": {},
     "output_type": "execute_result"
    }
   ],
   "source": [
    "# Instantiate AdaBoostRegressor\n",
    "abr = AdaBoostRegressor(random_state=42)\n",
    "\n",
    "# Parameters\n",
    "abr_params ={\n",
    "    'base_estimator': [None],\n",
    "    'n_estimators': [50, 100, 150, 200],\n",
    "    'learning_rate': [1, 3],\n",
    "    'loss': ['linear', 'square', 'exponential'],\n",
    "}\n",
    "\n",
    "# Instantiate ABR GridSearch\n",
    "abr_gs = GridSearchCV(abr, abr_params, cv=5, verbose=1, n_jobs=-1)\n",
    "\n",
    "# Fitting Gridsearch to the data\n",
    "abr_gs.fit(X_train_ct, y_train)"
   ]
  },
  {
   "cell_type": "code",
   "execution_count": 11,
   "id": "bbaac1c1-b86f-4941-bdac-d1181b906d90",
   "metadata": {},
   "outputs": [],
   "source": [
    "# Predictions\n",
    "abr_preds_train = abr_gs.predict(X_train_ct)\n",
    "abr_preds_test = abr_gs.predict(X_test_ct)\n",
    "\n",
    "# Evaluation\n",
    "abr_score_train = abr_gs.score(X_train_ct, y_train)\n",
    "abr_score_test = abr_gs.score(X_test_ct, y_test)\n",
    "\n",
    "abr_mse_train = metrics.mean_squared_error(y_train, abr_preds_train)\n",
    "abr_mse_test = metrics.mean_squared_error(y_test, abr_preds_test)"
   ]
  },
  {
   "cell_type": "code",
   "execution_count": 13,
   "id": "b8baca2a-53ae-427e-9c72-afee3a128104",
   "metadata": {},
   "outputs": [],
   "source": [
    "# create the perf evaluation output df\n",
    "abr_perf_dict = {\n",
    "    'R2': [abr_score_train, abr_score_test],\n",
    "    'mse': [abr_mse_train, abr_mse_test]\n",
    "}\n",
    "\n",
    "abr_perf_df = pd.DataFrame(abr_perf_dict, index=['train','test']).T\n",
    "\n",
    "abr_perf_df.to_csv('../Data/adaboost_perf.csv')\n"
   ]
  },
  {
   "cell_type": "code",
   "execution_count": 14,
   "id": "8a14b997-7cce-4fff-8822-4c69134d64e8",
   "metadata": {},
   "outputs": [],
   "source": [
    "# create the prediction output df\n",
    "abrdata_test_copy = X_test.copy()\n",
    "\n",
    "# Predictions\n",
    "abrdata_test_copy['totalcomp'] = y_test\n",
    "abrdata_test_copy['predictions'] = abr_preds_test\n",
    "\n",
    "abrdata_test_copy.to_csv('../Data/adaboost_pred.csv', index=False)"
   ]
  },
  {
   "cell_type": "code",
   "execution_count": 15,
   "id": "3ba2886c-2045-478c-88f6-f63eace6dab7",
   "metadata": {},
   "outputs": [],
   "source": [
    "# CV results\n",
    "cv_result = pd.DataFrame(abr_gs.cv_results_)\n",
    "\n",
    "cv_result.to_csv('../Data/adaboost_CV_Result.csv', index=False)"
   ]
  },
  {
   "cell_type": "code",
   "execution_count": null,
   "id": "9b43de63-5d62-42cb-9c27-0a86ce7e58ce",
   "metadata": {},
   "outputs": [],
   "source": []
  },
  {
   "cell_type": "code",
   "execution_count": null,
   "id": "3b926442-2529-47b8-867b-395dbea4640b",
   "metadata": {},
   "outputs": [],
   "source": []
  },
  {
   "cell_type": "code",
   "execution_count": null,
   "id": "6b1f87dd-848d-497c-b97c-9a805243bdc1",
   "metadata": {},
   "outputs": [],
   "source": []
  },
  {
   "cell_type": "code",
   "execution_count": null,
   "id": "a125cffb-1ebc-45c8-aea8-f16429de89ee",
   "metadata": {},
   "outputs": [],
   "source": []
  },
  {
   "cell_type": "code",
   "execution_count": null,
   "id": "8db59ba7-9cf5-4ab6-9cf6-ca3c5b806893",
   "metadata": {},
   "outputs": [],
   "source": []
  },
  {
   "cell_type": "code",
   "execution_count": null,
   "id": "b88c4fc4-d2b2-4f3d-8e63-38ab9a7427f7",
   "metadata": {},
   "outputs": [],
   "source": []
  },
  {
   "cell_type": "code",
   "execution_count": null,
   "id": "90c809ab-74f4-420f-b191-b05172298950",
   "metadata": {},
   "outputs": [],
   "source": []
  },
  {
   "cell_type": "code",
   "execution_count": null,
   "id": "365cbefb-212c-48ed-a58d-e02b7c66634e",
   "metadata": {},
   "outputs": [],
   "source": []
  },
  {
   "cell_type": "code",
   "execution_count": null,
   "id": "491ad453-71ed-4606-b559-f72fcf565d9b",
   "metadata": {},
   "outputs": [],
   "source": []
  },
  {
   "cell_type": "code",
   "execution_count": null,
   "id": "4a01722d-96f5-4057-ad79-8cc0194722c0",
   "metadata": {},
   "outputs": [],
   "source": []
  },
  {
   "cell_type": "code",
   "execution_count": null,
   "id": "0d1c0dcd-4e3b-4820-afad-a69543e42bee",
   "metadata": {},
   "outputs": [],
   "source": []
  },
  {
   "cell_type": "code",
   "execution_count": null,
   "id": "b5a5d676-f37a-4b01-8460-dbd008b2a9b9",
   "metadata": {},
   "outputs": [],
   "source": []
  },
  {
   "cell_type": "code",
   "execution_count": null,
   "id": "602ea126-f722-4cb7-a4ac-dba134ec9c10",
   "metadata": {},
   "outputs": [],
   "source": []
  },
  {
   "cell_type": "code",
   "execution_count": null,
   "id": "0235ca01-b54a-4897-a2f6-6bc1e7765947",
   "metadata": {},
   "outputs": [],
   "source": []
  }
 ],
 "metadata": {
  "kernelspec": {
   "display_name": "Python 3",
   "language": "python",
   "name": "python3"
  },
  "language_info": {
   "codemirror_mode": {
    "name": "ipython",
    "version": 3
   },
   "file_extension": ".py",
   "mimetype": "text/x-python",
   "name": "python",
   "nbconvert_exporter": "python",
   "pygments_lexer": "ipython3",
   "version": "3.8.8"
  }
 },
 "nbformat": 4,
 "nbformat_minor": 5
}
