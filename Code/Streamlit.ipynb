{
 "cells": [
  {
   "cell_type": "markdown",
   "id": "ab09cea7-783d-4dcb-8fe4-335d218c1c7f",
   "metadata": {},
   "source": [
    "# Streamlit"
   ]
  },
  {
   "cell_type": "code",
   "execution_count": 1,
   "id": "c2101c0e-8760-4470-8db1-b19cf87d5136",
   "metadata": {},
   "outputs": [],
   "source": [
    "#ADD to the imports on the code notebook\n",
    "\n",
    "import numpy as np\n",
    "import pandas as pd\n",
    "import pickle"
   ]
  },
  {
   "cell_type": "markdown",
   "id": "3a4a0225-abb3-4af2-8f68-dcd1efcd90c7",
   "metadata": {},
   "source": [
    "## Pickle a fitted pipeline"
   ]
  },
  {
   "cell_type": "code",
   "execution_count": null,
   "id": "94f31f32-5536-428b-ad04-23c39070de50",
   "metadata": {},
   "outputs": [],
   "source": [
    "with open(#'DATA PATH TO BE STORED\n",
    "          , 'wb') as pickle_out:\n",
    "    pickle_out = pickle.dump( #MODEL or PIPELINE\n",
    "        , pickle_out)"
   ]
  },
  {
   "cell_type": "code",
   "execution_count": null,
   "id": "10be2232-a102-495e-823c-85d381ab5d29",
   "metadata": {},
   "outputs": [],
   "source": [
    "# EXAMPLE to be errased:\n",
    "\n",
    "pipe = Pipeline([\n",
    "    ('tf', TfidfVectorizer()),\n",
    "    ('lr', LogisticRegressionCV(solver = 'liblinear'))\n",
    "])\n",
    "\n",
    "pipe.fit(X_train, y_train)\n",
    "pipe.score(X_train, y_train), pipe.score(X_test, y_test)\n",
    "\n",
    "\n",
    "with open('../models/author_pipe.pkl', 'wb') as pickle_out:\n",
    "    pickle.dump(pipe, pickle_out)\n",
    "\n",
    "# END of EXAMPLE"
   ]
  },
  {
   "cell_type": "code",
   "execution_count": null,
   "id": "f339bd00-9ecc-4b57-97ef-25562964890a",
   "metadata": {},
   "outputs": [],
   "source": [
    "with open(#'../../models/author_pipe.pkl'\n",
    "    , 'rb') as pickle_in:\n",
    "    pipe/#MODEL NAME\n",
    "    = pickle.load(pickle_in)"
   ]
  },
  {
   "cell_type": "markdown",
   "id": "3be1f0a9-3d18-4ab7-bcc4-f8c505d45b31",
   "metadata": {},
   "source": [
    "### TEST IF IT CAN GENERATE PREDICTION:\n",
    "Figure out how to code so that we enter 4 inputs and the rest of features are grabbed from the last data we got"
   ]
  },
  {
   "cell_type": "code",
   "execution_count": null,
   "id": "1096575c-89b0-4662-8077-eb82981ab1a8",
   "metadata": {},
   "outputs": [],
   "source": [
    "pipe/#MODEL NAME\n",
    ".predict(['quote the raven nevermore or something like that'])"
   ]
  },
  {
   "cell_type": "code",
   "execution_count": null,
   "id": "2e5d3ab0-8e12-42c0-a276-2b2b57a80ee9",
   "metadata": {},
   "outputs": [],
   "source": []
  },
  {
   "cell_type": "code",
   "execution_count": null,
   "id": "e36df980-8dbf-4fb8-b73f-effecd17391a",
   "metadata": {},
   "outputs": [],
   "source": []
  },
  {
   "cell_type": "code",
   "execution_count": null,
   "id": "814f9de8-d140-4cf6-a59f-2b7302d2ad75",
   "metadata": {},
   "outputs": [],
   "source": []
  }
 ],
 "metadata": {
  "kernelspec": {
   "display_name": "Python 3",
   "language": "python",
   "name": "python3"
  },
  "language_info": {
   "codemirror_mode": {
    "name": "ipython",
    "version": 3
   },
   "file_extension": ".py",
   "mimetype": "text/x-python",
   "name": "python",
   "nbconvert_exporter": "python",
   "pygments_lexer": "ipython3",
   "version": "3.8.8"
  }
 },
 "nbformat": 4,
 "nbformat_minor": 5
}
