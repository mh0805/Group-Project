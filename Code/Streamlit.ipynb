{
 "cells": [
  {
   "cell_type": "markdown",
   "id": "ab09cea7-783d-4dcb-8fe4-335d218c1c7f",
   "metadata": {},
   "source": [
    "# Streamlit"
   ]
  },
  {
   "cell_type": "code",
   "execution_count": 1,
   "id": "c2101c0e-8760-4470-8db1-b19cf87d5136",
   "metadata": {},
   "outputs": [],
   "source": [
    "#ADD to the imports on the code notebook\n",
    "\n",
    "import numpy as np\n",
    "import pandas as pd\n",
    "import pickle"
   ]
  },
  {
   "cell_type": "markdown",
   "id": "3a4a0225-abb3-4af2-8f68-dcd1efcd90c7",
   "metadata": {},
   "source": [
    "## Pickle a fitted pipeline and saving it"
   ]
  },
  {
   "cell_type": "code",
   "execution_count": null,
   "id": "94f31f32-5536-428b-ad04-23c39070de50",
   "metadata": {},
   "outputs": [],
   "source": [
    "with open(#'DATA PATH TO BE STORED\n",
    "          , 'wb') as pickle_out:\n",
    "    pickle_out = pickle.dump( #MODEL or PIPELINE\n",
    "        , pickle_out)"
   ]
  },
  {
   "cell_type": "markdown",
   "id": "4dbd1b88-dad9-402b-8bdb-f367f4743761",
   "metadata": {},
   "source": [
    "We will open it later in our app script"
   ]
  },
  {
   "cell_type": "code",
   "execution_count": null,
   "id": "ac3a5e70-007e-49c9-ab71-f9e68f83c7a2",
   "metadata": {},
   "outputs": [],
   "source": []
  },
  {
   "cell_type": "code",
   "execution_count": null,
   "id": "23fe1a8a-df5c-457c-8bd2-a70d2218c83f",
   "metadata": {},
   "outputs": [],
   "source": []
  },
  {
   "cell_type": "code",
   "execution_count": null,
   "id": "53d19b4b-1a14-41d7-9c37-289b67346876",
   "metadata": {},
   "outputs": [],
   "source": []
  },
  {
   "cell_type": "code",
   "execution_count": null,
   "id": "5abe5f36-845c-4d39-a17e-17341ab11788",
   "metadata": {},
   "outputs": [],
   "source": []
  },
  {
   "cell_type": "code",
   "execution_count": null,
   "id": "1096575c-89b0-4662-8077-eb82981ab1a8",
   "metadata": {},
   "outputs": [],
   "source": [
    "pipe/#MODEL NAME\n",
    ".predict(['quote the raven nevermore or something like that'])"
   ]
  },
  {
   "cell_type": "code",
   "execution_count": null,
   "id": "2e5d3ab0-8e12-42c0-a276-2b2b57a80ee9",
   "metadata": {},
   "outputs": [],
   "source": []
  },
  {
   "cell_type": "code",
   "execution_count": null,
   "id": "e36df980-8dbf-4fb8-b73f-effecd17391a",
   "metadata": {},
   "outputs": [],
   "source": []
  },
  {
   "cell_type": "code",
   "execution_count": null,
   "id": "814f9de8-d140-4cf6-a59f-2b7302d2ad75",
   "metadata": {},
   "outputs": [],
   "source": []
  }
 ],
 "metadata": {
  "kernelspec": {
   "display_name": "Python 3",
   "language": "python",
   "name": "python3"
  },
  "language_info": {
   "codemirror_mode": {
    "name": "ipython",
    "version": 3
   },
   "file_extension": ".py",
   "mimetype": "text/x-python",
   "name": "python",
   "nbconvert_exporter": "python",
   "pygments_lexer": "ipython3",
   "version": "3.8.8"
  }
 },
 "nbformat": 4,
 "nbformat_minor": 5
}
