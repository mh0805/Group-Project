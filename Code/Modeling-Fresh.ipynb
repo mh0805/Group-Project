{
 "cells": [
  {
   "cell_type": "markdown",
   "id": "84a0b0d6-b54f-47a8-a40c-b5ef97781bf0",
   "metadata": {},
   "source": [
    "# Modeling"
   ]
  },
  {
   "cell_type": "code",
   "execution_count": 1,
   "id": "277f9965-63d8-4420-95ac-b1e8bf040993",
   "metadata": {},
   "outputs": [],
   "source": [
    "# Imports\n",
    "import numpy as np\n",
    "import pandas as pd\n",
    "import seaborn as sns\n",
    "import matplotlib.pyplot as plt\n",
    "%matplotlib inline\n",
    "\n",
    "from sklearn.linear_model import LinearRegression, Ridge, RidgeCV, Lasso, LassoCV, ElasticNet, ElasticNetCV\n",
    "from sklearn.neighbors import KNeighborsRegressor\n",
    "from sklearn.ensemble import RandomForestRegressor, AdaBoostRegressor, GradientBoostingRegressor\n",
    "from sklearn.model_selection import train_test_split, GridSearchCV, cross_val_score, RandomizedSearchCV, cross_val_predict\n",
    "from sklearn.pipeline import Pipeline\n",
    "from sklearn.metrics import confusion_matrix, plot_confusion_matrix, classification_report, mean_squared_error, r2_score, mean_absolute_error\n",
    "from sklearn.preprocessing import StandardScaler, OneHotEncoder, PolynomialFeatures\n",
    "from sklearn.compose import ColumnTransformer, make_column_selector, make_column_transformer\n",
    "from sklearn.svm import SVR\n",
    "from sklearn import metrics\n",
    "from skopt import BayesSearchCV\n",
    "# pip install scikit-optimize\n",
    "\n",
    "import pickle\n",
    "import datetime"
   ]
  },
  {
   "cell_type": "markdown",
   "id": "265b2e24-ca47-4dc0-84dc-1e52668ef006",
   "metadata": {},
   "source": [
    "## Hans"
   ]
  },
  {
   "cell_type": "markdown",
   "id": "ee50d064-74c2-4714-afba-5778feb115fc",
   "metadata": {},
   "source": [
    "### SVM Model"
   ]
  },
  {
   "cell_type": "code",
   "execution_count": 2,
   "id": "245a2f7c-20bf-4998-91f0-a2ade7caa3ec",
   "metadata": {},
   "outputs": [
    {
     "data": {
      "text/html": [
       "<div>\n",
       "<style scoped>\n",
       "    .dataframe tbody tr th:only-of-type {\n",
       "        vertical-align: middle;\n",
       "    }\n",
       "\n",
       "    .dataframe tbody tr th {\n",
       "        vertical-align: top;\n",
       "    }\n",
       "\n",
       "    .dataframe thead th {\n",
       "        text-align: right;\n",
       "    }\n",
       "</style>\n",
       "<table border=\"1\" class=\"dataframe\">\n",
       "  <thead>\n",
       "    <tr style=\"text-align: right;\">\n",
       "      <th></th>\n",
       "      <th>timestamp</th>\n",
       "      <th>company</th>\n",
       "      <th>level</th>\n",
       "      <th>title</th>\n",
       "      <th>totalyearlycompensation</th>\n",
       "      <th>location</th>\n",
       "      <th>yearsofexperience</th>\n",
       "      <th>yearsatcompany</th>\n",
       "      <th>tag</th>\n",
       "      <th>year</th>\n",
       "      <th>month</th>\n",
       "      <th>year_month</th>\n",
       "      <th>timestamp_3mos</th>\n",
       "      <th>year_month_3mos</th>\n",
       "      <th>state_short</th>\n",
       "      <th>inflation_rate</th>\n",
       "      <th>inflation_rate_3mos</th>\n",
       "      <th>state</th>\n",
       "      <th>employment_rate</th>\n",
       "      <th>employment_rate_3mos</th>\n",
       "    </tr>\n",
       "  </thead>\n",
       "  <tbody>\n",
       "    <tr>\n",
       "      <th>0</th>\n",
       "      <td>2018-06-03 13:58:20</td>\n",
       "      <td>Yahoo</td>\n",
       "      <td>IC2</td>\n",
       "      <td>Software Engineer</td>\n",
       "      <td>160.5</td>\n",
       "      <td>Sunnyvale, CA</td>\n",
       "      <td>0.58</td>\n",
       "      <td>0.58</td>\n",
       "      <td>Full Stack</td>\n",
       "      <td>2018</td>\n",
       "      <td>6</td>\n",
       "      <td>2018-06</td>\n",
       "      <td>2018-03-03 13:58:20</td>\n",
       "      <td>2018-03</td>\n",
       "      <td>CA</td>\n",
       "      <td>0.029</td>\n",
       "      <td>0.024</td>\n",
       "      <td>California</td>\n",
       "      <td>0.957660</td>\n",
       "      <td>0.956797</td>\n",
       "    </tr>\n",
       "    <tr>\n",
       "      <th>1</th>\n",
       "      <td>2018-06-04 20:28:22</td>\n",
       "      <td>Facebook</td>\n",
       "      <td>E3</td>\n",
       "      <td>Software Engineer</td>\n",
       "      <td>165.0</td>\n",
       "      <td>Seattle, WA</td>\n",
       "      <td>1.00</td>\n",
       "      <td>1.00</td>\n",
       "      <td>Full Stack</td>\n",
       "      <td>2018</td>\n",
       "      <td>6</td>\n",
       "      <td>2018-06</td>\n",
       "      <td>2018-03-04 20:28:22</td>\n",
       "      <td>2018-03</td>\n",
       "      <td>WA</td>\n",
       "      <td>0.029</td>\n",
       "      <td>0.024</td>\n",
       "      <td>Washington</td>\n",
       "      <td>0.955998</td>\n",
       "      <td>0.954978</td>\n",
       "    </tr>\n",
       "    <tr>\n",
       "      <th>2</th>\n",
       "      <td>2018-06-05 00:56:33</td>\n",
       "      <td>VmWare</td>\n",
       "      <td>Senior MTS</td>\n",
       "      <td>Software Engineer</td>\n",
       "      <td>218.0</td>\n",
       "      <td>Palo Alto, CA</td>\n",
       "      <td>8.00</td>\n",
       "      <td>1.00</td>\n",
       "      <td>Distributed Systems (Back-End)</td>\n",
       "      <td>2018</td>\n",
       "      <td>6</td>\n",
       "      <td>2018-06</td>\n",
       "      <td>2018-03-05 00:56:33</td>\n",
       "      <td>2018-03</td>\n",
       "      <td>CA</td>\n",
       "      <td>0.029</td>\n",
       "      <td>0.024</td>\n",
       "      <td>California</td>\n",
       "      <td>0.957660</td>\n",
       "      <td>0.956797</td>\n",
       "    </tr>\n",
       "    <tr>\n",
       "      <th>3</th>\n",
       "      <td>2018-06-05 01:19:05</td>\n",
       "      <td>Uber</td>\n",
       "      <td>L4</td>\n",
       "      <td>Software Engineer</td>\n",
       "      <td>240.0</td>\n",
       "      <td>San Francisco, CA</td>\n",
       "      <td>3.00</td>\n",
       "      <td>0.00</td>\n",
       "      <td>Web Development (Front-End)</td>\n",
       "      <td>2018</td>\n",
       "      <td>6</td>\n",
       "      <td>2018-06</td>\n",
       "      <td>2018-03-05 01:19:05</td>\n",
       "      <td>2018-03</td>\n",
       "      <td>CA</td>\n",
       "      <td>0.029</td>\n",
       "      <td>0.024</td>\n",
       "      <td>California</td>\n",
       "      <td>0.957660</td>\n",
       "      <td>0.956797</td>\n",
       "    </tr>\n",
       "    <tr>\n",
       "      <th>4</th>\n",
       "      <td>2018-06-05 07:13:17</td>\n",
       "      <td>Capital One</td>\n",
       "      <td>Master Software Engineer</td>\n",
       "      <td>Software Engineer</td>\n",
       "      <td>196.0</td>\n",
       "      <td>New York, NY</td>\n",
       "      <td>8.00</td>\n",
       "      <td>2.00</td>\n",
       "      <td>iOS</td>\n",
       "      <td>2018</td>\n",
       "      <td>6</td>\n",
       "      <td>2018-06</td>\n",
       "      <td>2018-03-05 07:13:17</td>\n",
       "      <td>2018-03</td>\n",
       "      <td>NY</td>\n",
       "      <td>0.029</td>\n",
       "      <td>0.024</td>\n",
       "      <td>New York</td>\n",
       "      <td>0.959053</td>\n",
       "      <td>0.955962</td>\n",
       "    </tr>\n",
       "  </tbody>\n",
       "</table>\n",
       "</div>"
      ],
      "text/plain": [
       "             timestamp      company                     level  \\\n",
       "0  2018-06-03 13:58:20        Yahoo                       IC2   \n",
       "1  2018-06-04 20:28:22     Facebook                        E3   \n",
       "2  2018-06-05 00:56:33       VmWare                Senior MTS   \n",
       "3  2018-06-05 01:19:05         Uber                        L4   \n",
       "4  2018-06-05 07:13:17  Capital One  Master Software Engineer   \n",
       "\n",
       "               title  totalyearlycompensation           location  \\\n",
       "0  Software Engineer                    160.5      Sunnyvale, CA   \n",
       "1  Software Engineer                    165.0        Seattle, WA   \n",
       "2  Software Engineer                    218.0      Palo Alto, CA   \n",
       "3  Software Engineer                    240.0  San Francisco, CA   \n",
       "4  Software Engineer                    196.0       New York, NY   \n",
       "\n",
       "   yearsofexperience  yearsatcompany                             tag  year  \\\n",
       "0               0.58            0.58                      Full Stack  2018   \n",
       "1               1.00            1.00                      Full Stack  2018   \n",
       "2               8.00            1.00  Distributed Systems (Back-End)  2018   \n",
       "3               3.00            0.00     Web Development (Front-End)  2018   \n",
       "4               8.00            2.00                             iOS  2018   \n",
       "\n",
       "   month year_month       timestamp_3mos year_month_3mos state_short  \\\n",
       "0      6    2018-06  2018-03-03 13:58:20         2018-03          CA   \n",
       "1      6    2018-06  2018-03-04 20:28:22         2018-03          WA   \n",
       "2      6    2018-06  2018-03-05 00:56:33         2018-03          CA   \n",
       "3      6    2018-06  2018-03-05 01:19:05         2018-03          CA   \n",
       "4      6    2018-06  2018-03-05 07:13:17         2018-03          NY   \n",
       "\n",
       "   inflation_rate  inflation_rate_3mos       state  employment_rate  \\\n",
       "0           0.029                0.024  California         0.957660   \n",
       "1           0.029                0.024  Washington         0.955998   \n",
       "2           0.029                0.024  California         0.957660   \n",
       "3           0.029                0.024  California         0.957660   \n",
       "4           0.029                0.024    New York         0.959053   \n",
       "\n",
       "   employment_rate_3mos  \n",
       "0              0.956797  \n",
       "1              0.954978  \n",
       "2              0.956797  \n",
       "3              0.956797  \n",
       "4              0.955962  "
      ]
     },
     "execution_count": 2,
     "metadata": {},
     "output_type": "execute_result"
    }
   ],
   "source": [
    "df = pd.read_csv('../Data/salary_cleaned.csv')\n",
    "df.head()"
   ]
  },
  {
   "cell_type": "code",
   "execution_count": 3,
   "id": "b62b83f5-7a54-4d28-883f-af3d9a871e1d",
   "metadata": {},
   "outputs": [],
   "source": [
    "df.drop(columns = ['level', 'timestamp', 'location', 'timestamp_3mos', 'state'], inplace = True)"
   ]
  },
  {
   "cell_type": "code",
   "execution_count": 4,
   "id": "cf35c789-c6fd-4bf4-94ca-e9baca325992",
   "metadata": {},
   "outputs": [
    {
     "data": {
      "text/plain": [
       "Index(['company', 'title', 'totalyearlycompensation', 'yearsofexperience',\n",
       "       'yearsatcompany', 'tag', 'year', 'month', 'year_month',\n",
       "       'year_month_3mos', 'state_short', 'inflation_rate',\n",
       "       'inflation_rate_3mos', 'employment_rate', 'employment_rate_3mos'],\n",
       "      dtype='object')"
      ]
     },
     "execution_count": 4,
     "metadata": {},
     "output_type": "execute_result"
    }
   ],
   "source": [
    "df.columns"
   ]
  },
  {
   "cell_type": "code",
   "execution_count": 5,
   "id": "4ac811c3-ff25-4298-88f3-ea06fb97befb",
   "metadata": {},
   "outputs": [
    {
     "name": "stdout",
     "output_type": "stream",
     "text": [
      "<class 'pandas.core.frame.DataFrame'>\n",
      "RangeIndex: 24496 entries, 0 to 24495\n",
      "Data columns (total 15 columns):\n",
      " #   Column                   Non-Null Count  Dtype  \n",
      "---  ------                   --------------  -----  \n",
      " 0   company                  24496 non-null  object \n",
      " 1   title                    24496 non-null  object \n",
      " 2   totalyearlycompensation  24496 non-null  float64\n",
      " 3   yearsofexperience        24496 non-null  float64\n",
      " 4   yearsatcompany           24496 non-null  float64\n",
      " 5   tag                      24496 non-null  object \n",
      " 6   year                     24496 non-null  int64  \n",
      " 7   month                    24496 non-null  int64  \n",
      " 8   year_month               24496 non-null  object \n",
      " 9   year_month_3mos          24496 non-null  object \n",
      " 10  state_short              24496 non-null  object \n",
      " 11  inflation_rate           24496 non-null  float64\n",
      " 12  inflation_rate_3mos      24496 non-null  float64\n",
      " 13  employment_rate          24496 non-null  float64\n",
      " 14  employment_rate_3mos     24496 non-null  float64\n",
      "dtypes: float64(7), int64(2), object(6)\n",
      "memory usage: 2.8+ MB\n"
     ]
    }
   ],
   "source": [
    "df.info()"
   ]
  },
  {
   "cell_type": "code",
   "execution_count": 6,
   "id": "44ea8a7e-bf59-4a49-9ba8-566fd793363f",
   "metadata": {},
   "outputs": [
    {
     "data": {
      "text/html": [
       "<div>\n",
       "<style scoped>\n",
       "    .dataframe tbody tr th:only-of-type {\n",
       "        vertical-align: middle;\n",
       "    }\n",
       "\n",
       "    .dataframe tbody tr th {\n",
       "        vertical-align: top;\n",
       "    }\n",
       "\n",
       "    .dataframe thead th {\n",
       "        text-align: right;\n",
       "    }\n",
       "</style>\n",
       "<table border=\"1\" class=\"dataframe\">\n",
       "  <thead>\n",
       "    <tr style=\"text-align: right;\">\n",
       "      <th></th>\n",
       "      <th>yearsofexperience</th>\n",
       "      <th>yearsatcompany</th>\n",
       "      <th>year</th>\n",
       "      <th>month</th>\n",
       "      <th>inflation_rate</th>\n",
       "      <th>inflation_rate_3mos</th>\n",
       "      <th>employment_rate</th>\n",
       "      <th>employment_rate_3mos</th>\n",
       "      <th>company_ Credit Karma</th>\n",
       "      <th>company_23andMe</th>\n",
       "      <th>...</th>\n",
       "      <th>state_short_RI</th>\n",
       "      <th>state_short_SC</th>\n",
       "      <th>state_short_TN</th>\n",
       "      <th>state_short_TX</th>\n",
       "      <th>state_short_UT</th>\n",
       "      <th>state_short_VA</th>\n",
       "      <th>state_short_VT</th>\n",
       "      <th>state_short_WA</th>\n",
       "      <th>state_short_WI</th>\n",
       "      <th>state_short_WV</th>\n",
       "    </tr>\n",
       "  </thead>\n",
       "  <tbody>\n",
       "    <tr>\n",
       "      <th>0</th>\n",
       "      <td>0.58</td>\n",
       "      <td>0.58</td>\n",
       "      <td>2018</td>\n",
       "      <td>6</td>\n",
       "      <td>0.029</td>\n",
       "      <td>0.024</td>\n",
       "      <td>0.957660</td>\n",
       "      <td>0.956797</td>\n",
       "      <td>0</td>\n",
       "      <td>0</td>\n",
       "      <td>...</td>\n",
       "      <td>0</td>\n",
       "      <td>0</td>\n",
       "      <td>0</td>\n",
       "      <td>0</td>\n",
       "      <td>0</td>\n",
       "      <td>0</td>\n",
       "      <td>0</td>\n",
       "      <td>0</td>\n",
       "      <td>0</td>\n",
       "      <td>0</td>\n",
       "    </tr>\n",
       "    <tr>\n",
       "      <th>1</th>\n",
       "      <td>1.00</td>\n",
       "      <td>1.00</td>\n",
       "      <td>2018</td>\n",
       "      <td>6</td>\n",
       "      <td>0.029</td>\n",
       "      <td>0.024</td>\n",
       "      <td>0.955998</td>\n",
       "      <td>0.954978</td>\n",
       "      <td>0</td>\n",
       "      <td>0</td>\n",
       "      <td>...</td>\n",
       "      <td>0</td>\n",
       "      <td>0</td>\n",
       "      <td>0</td>\n",
       "      <td>0</td>\n",
       "      <td>0</td>\n",
       "      <td>0</td>\n",
       "      <td>0</td>\n",
       "      <td>1</td>\n",
       "      <td>0</td>\n",
       "      <td>0</td>\n",
       "    </tr>\n",
       "    <tr>\n",
       "      <th>2</th>\n",
       "      <td>8.00</td>\n",
       "      <td>1.00</td>\n",
       "      <td>2018</td>\n",
       "      <td>6</td>\n",
       "      <td>0.029</td>\n",
       "      <td>0.024</td>\n",
       "      <td>0.957660</td>\n",
       "      <td>0.956797</td>\n",
       "      <td>0</td>\n",
       "      <td>0</td>\n",
       "      <td>...</td>\n",
       "      <td>0</td>\n",
       "      <td>0</td>\n",
       "      <td>0</td>\n",
       "      <td>0</td>\n",
       "      <td>0</td>\n",
       "      <td>0</td>\n",
       "      <td>0</td>\n",
       "      <td>0</td>\n",
       "      <td>0</td>\n",
       "      <td>0</td>\n",
       "    </tr>\n",
       "    <tr>\n",
       "      <th>3</th>\n",
       "      <td>3.00</td>\n",
       "      <td>0.00</td>\n",
       "      <td>2018</td>\n",
       "      <td>6</td>\n",
       "      <td>0.029</td>\n",
       "      <td>0.024</td>\n",
       "      <td>0.957660</td>\n",
       "      <td>0.956797</td>\n",
       "      <td>0</td>\n",
       "      <td>0</td>\n",
       "      <td>...</td>\n",
       "      <td>0</td>\n",
       "      <td>0</td>\n",
       "      <td>0</td>\n",
       "      <td>0</td>\n",
       "      <td>0</td>\n",
       "      <td>0</td>\n",
       "      <td>0</td>\n",
       "      <td>0</td>\n",
       "      <td>0</td>\n",
       "      <td>0</td>\n",
       "    </tr>\n",
       "    <tr>\n",
       "      <th>4</th>\n",
       "      <td>8.00</td>\n",
       "      <td>2.00</td>\n",
       "      <td>2018</td>\n",
       "      <td>6</td>\n",
       "      <td>0.029</td>\n",
       "      <td>0.024</td>\n",
       "      <td>0.959053</td>\n",
       "      <td>0.955962</td>\n",
       "      <td>0</td>\n",
       "      <td>0</td>\n",
       "      <td>...</td>\n",
       "      <td>0</td>\n",
       "      <td>0</td>\n",
       "      <td>0</td>\n",
       "      <td>0</td>\n",
       "      <td>0</td>\n",
       "      <td>0</td>\n",
       "      <td>0</td>\n",
       "      <td>0</td>\n",
       "      <td>0</td>\n",
       "      <td>0</td>\n",
       "    </tr>\n",
       "  </tbody>\n",
       "</table>\n",
       "<p>5 rows × 1351 columns</p>\n",
       "</div>"
      ],
      "text/plain": [
       "   yearsofexperience  yearsatcompany  year  month  inflation_rate  \\\n",
       "0               0.58            0.58  2018      6           0.029   \n",
       "1               1.00            1.00  2018      6           0.029   \n",
       "2               8.00            1.00  2018      6           0.029   \n",
       "3               3.00            0.00  2018      6           0.029   \n",
       "4               8.00            2.00  2018      6           0.029   \n",
       "\n",
       "   inflation_rate_3mos  employment_rate  employment_rate_3mos  \\\n",
       "0                0.024         0.957660              0.956797   \n",
       "1                0.024         0.955998              0.954978   \n",
       "2                0.024         0.957660              0.956797   \n",
       "3                0.024         0.957660              0.956797   \n",
       "4                0.024         0.959053              0.955962   \n",
       "\n",
       "   company_ Credit Karma  company_23andMe  ...  state_short_RI  \\\n",
       "0                      0                0  ...               0   \n",
       "1                      0                0  ...               0   \n",
       "2                      0                0  ...               0   \n",
       "3                      0                0  ...               0   \n",
       "4                      0                0  ...               0   \n",
       "\n",
       "   state_short_SC  state_short_TN  state_short_TX  state_short_UT  \\\n",
       "0               0               0               0               0   \n",
       "1               0               0               0               0   \n",
       "2               0               0               0               0   \n",
       "3               0               0               0               0   \n",
       "4               0               0               0               0   \n",
       "\n",
       "   state_short_VA  state_short_VT  state_short_WA  state_short_WI  \\\n",
       "0               0               0               0               0   \n",
       "1               0               0               1               0   \n",
       "2               0               0               0               0   \n",
       "3               0               0               0               0   \n",
       "4               0               0               0               0   \n",
       "\n",
       "   state_short_WV  \n",
       "0               0  \n",
       "1               0  \n",
       "2               0  \n",
       "3               0  \n",
       "4               0  \n",
       "\n",
       "[5 rows x 1351 columns]"
      ]
     },
     "execution_count": 6,
     "metadata": {},
     "output_type": "execute_result"
    }
   ],
   "source": [
    "X = df[['company', 'title', 'yearsofexperience', 'yearsatcompany', 'year', 'month', 'state_short', 'inflation_rate',\n",
    "            'inflation_rate_3mos', 'employment_rate', 'employment_rate_3mos']].copy()\n",
    "X_dummy = pd.get_dummies(X, columns = ['company', 'title', 'state_short'], drop_first = True)\n",
    "\n",
    "y = df[['totalyearlycompensation']].copy()\n",
    "\n",
    "X_dummy.head()"
   ]
  },
  {
   "cell_type": "code",
   "execution_count": 7,
   "id": "86b9d17e-09ac-4d38-92ba-1b519eeee0fd",
   "metadata": {},
   "outputs": [],
   "source": [
    "X_train, X_test, y_train, y_test = train_test_split(X_dummy, y, test_size = 0.2, random_state = 42)"
   ]
  },
  {
   "cell_type": "code",
   "execution_count": 8,
   "id": "0d57ff31-9d94-4c17-85dd-36680ce24e9d",
   "metadata": {},
   "outputs": [],
   "source": [
    "#Feature Scaling\n",
    "\n",
    "sc = StandardScaler()\n",
    "\n",
    "X_train_sc = sc.fit_transform(X_train)\n",
    "X_test_sc = sc.transform(X_test)"
   ]
  },
  {
   "cell_type": "code",
   "execution_count": null,
   "id": "57cefe90-d92f-44b5-9dd5-e833074c0830",
   "metadata": {},
   "outputs": [
    {
     "name": "stderr",
     "output_type": "stream",
     "text": [
      "/opt/anaconda3/envs/dsi-111/lib/python3.8/site-packages/sklearn/utils/validation.py:63: DataConversionWarning: A column-vector y was passed when a 1d array was expected. Please change the shape of y to (n_samples, ), for example using ravel().\n",
      "  return f(*args, **kwargs)\n"
     ]
    }
   ],
   "source": [
    "# Fitting SVR to the dataset\n",
    "\n",
    "svr = SVR()\n",
    "svr.fit(X_train_sc, y_train)"
   ]
  },
  {
   "cell_type": "code",
   "execution_count": null,
   "id": "bc909c54-f126-4b6e-861a-56e2ced5ece0",
   "metadata": {},
   "outputs": [],
   "source": [
    "# Predictions\n",
    "y_preds = svr.predict(X_test)\n",
    "\n",
    "# Measure performance based on accuracy.\n",
    "print('train score:', svr.score(X_train_sc, y_train))\n",
    "print('test score:', svr.score(X_test, y_test))"
   ]
  },
  {
   "cell_type": "code",
   "execution_count": null,
   "id": "70725754-5dfb-45ec-978c-30539b804f43",
   "metadata": {},
   "outputs": [],
   "source": [
    "# Gridsearch:\n",
    "\n",
    "params = {\n",
    "    'C': [0.1, 1, 10, 100],\n",
    "    'kernel': ['rbf'],\n",
    "    'gamma': [0.001, 0.0001]\n",
    "}\n",
    "\n",
    "model = SVR()\n",
    "\n",
    "#Gridsearch:\n",
    "gs = GridSearchCV(model, params, n_jobs=-1, verbose=1)\n",
    "\n",
    "# Fit on training data.\n",
    "gs.fit(X_train_sc, y_train);"
   ]
  },
  {
   "cell_type": "code",
   "execution_count": null,
   "id": "3fc30e91-6c5e-497e-a4c8-c0e9c47bcfc5",
   "metadata": {},
   "outputs": [],
   "source": [
    "gs.best_params_"
   ]
  },
  {
   "cell_type": "code",
   "execution_count": null,
   "id": "9d82093f-b403-477d-8fc4-794dc02b00bf",
   "metadata": {},
   "outputs": [],
   "source": [
    "# Accuracy\n",
    "print(f'Training acc: {gs.score(X_train_sc, y_train)}')\n",
    "print(f'Testing acc: {gs.score(X_test_sc, y_test)}')"
   ]
  },
  {
   "cell_type": "code",
   "execution_count": null,
   "id": "39a10ac2-f882-487a-88a0-804f9044a103",
   "metadata": {},
   "outputs": [],
   "source": [
    "# Creating Predictions\n",
    "#train_preds = gs.predict(X_train_sc)\n",
    "#test_preds = gs.predict(X_test_sc)"
   ]
  },
  {
   "cell_type": "code",
   "execution_count": null,
   "id": "3553d693-d00c-4131-add4-1cf4b5cce953",
   "metadata": {},
   "outputs": [],
   "source": [
    "# DataFrame with column for predicted values.\n",
    "#results = pd.DataFrame(gs.predict(X_test), columns=['predicted'])\n",
    "\n",
    "# Column for observed values.\n",
    "#results['actual'] = y_test\n",
    "\n",
    "#results.head()"
   ]
  },
  {
   "cell_type": "markdown",
   "id": "ac836d81-1aab-466f-8ddf-02c8e0f02c11",
   "metadata": {},
   "source": [
    "### Neural Networks"
   ]
  },
  {
   "cell_type": "code",
   "execution_count": null,
   "id": "dffe81f5-7061-406d-889c-349c8687192f",
   "metadata": {},
   "outputs": [],
   "source": [
    "from tensorflow.keras.callbacks import EarlyStopping\n",
    "\n",
    "model_es = Sequential()\n",
    "\n",
    "n_input = X_train_sc.shape[1]\n",
    "\n",
    "model_es.add(Dense(17, input_dim=n_input, activatioan='relu'))\n",
    "model_es.add(Dense(10, activation='relu'))\n",
    "model_es.add(Dense(1))\n",
    "\n",
    "model_es.compile(loss='mse', optimizer='adam', metrics=['mae', 'acc'])\n",
    "\n",
    "early_stop = EarlyStopping(monitor='val_loss', min_delta=0, patience=5, verbose=1, mode='auto')\n",
    "\n",
    "history_es = model_es.fit(\n",
    "    X_train,\n",
    "    y_train,\n",
    "    validation_data=(X_test_sc, y_test),\n",
    "    epochs=100,\n",
    "    batch_size=None,\n",
    "    callbacks=[early_stop]\n",
    ")"
   ]
  },
  {
   "cell_type": "code",
   "execution_count": null,
   "id": "05478dd8-b697-44ea-88e0-2ef065d39fa1",
   "metadata": {},
   "outputs": [],
   "source": [
    "model.predict(X_test_sc)"
   ]
  },
  {
   "cell_type": "code",
   "execution_count": null,
   "id": "dc6e592b-032b-4b9c-91d0-75d47b460854",
   "metadata": {},
   "outputs": [],
   "source": [
    "model.evaluate(X_test_sc, y_test) # kind of like .score() in sklearn"
   ]
  },
  {
   "cell_type": "code",
   "execution_count": null,
   "id": "b59cd7ae-0a85-415e-b070-e522b41d6c63",
   "metadata": {},
   "outputs": [],
   "source": [
    "from tensorflow.keras.regularizers import l2\n",
    "\n",
    "model_l2 = Sequential()\n",
    "\n",
    "n_input = X_train.shape[1]\n",
    "\n",
    "model_l2.add(Dense(\n",
    "    17,\n",
    "    input_dim=n_input,\n",
    "    activation='relu',\n",
    "    kernel_regularizer=l2(0.001)\n",
    "))\n",
    "\n",
    "model_l2.add(Dense(\n",
    "    10,\n",
    "    activation='relu',\n",
    "    kernel_regularizer=l2(0.001)\n",
    "))\n",
    "\n",
    "model_l2.add(Dense(\n",
    "    1,\n",
    "    kernel_regularizer=l2(0.001)\n",
    "))\n",
    "\n",
    "model_l2.compile(\n",
    "    loss='mse',\n",
    "    optimizer='adam',\n",
    "    metrics=['acc', 'mae']\n",
    ")\n",
    "\n",
    "history_l2 = model_l2.fit(\n",
    "    X_train_sc,\n",
    "    y_train,\n",
    "    validation_data=(X_test_sc, y_test),\n",
    "    epochs=100,\n",
    "    batch_size=None\n",
    ")"
   ]
  },
  {
   "cell_type": "code",
   "execution_count": null,
   "id": "cb9d098d-b7d9-42a2-b83b-04017f0aff0a",
   "metadata": {},
   "outputs": [],
   "source": [
    "model.predict(X_test_sc)"
   ]
  },
  {
   "cell_type": "code",
   "execution_count": null,
   "id": "1b0400a4-b099-4a0d-86f3-fa5b0400e0c2",
   "metadata": {},
   "outputs": [],
   "source": [
    "model.evaluate(X_test_sc, y_test) # kind of like .score() in sklearn"
   ]
  },
  {
   "cell_type": "code",
   "execution_count": null,
   "id": "fe23a601-5af9-4763-bf1b-ee6749c4b1b0",
   "metadata": {},
   "outputs": [],
   "source": [
    "from tensorflow.keras.layers import Dropout\n",
    "\n",
    "model_dropout = Sequential()\n",
    "\n",
    "n_input = X_train.shape[1]\n",
    "n_hidden = n_input\n",
    "\n",
    "model_dropout.add(Dense(n_hidden, input_dim=n_input, activation='relu'))\n",
    "model_dropout.add(Dropout(0.2)) # refers to nodes in the first hidden layer\n",
    "model_dropout.add(Dense(10, activation='relu'))\n",
    "model_dropout.add(Dropout(0.2))\n",
    "model_dropout.add(Dense(1))\n",
    "\n",
    "model_dropout.compile(loss='mse', optimizer='adam', metrics=['acc', 'mae'])\n",
    "\n",
    "history_dropout = model_dropout.fit(\n",
    "    X_train_sc,\n",
    "    y_train,\n",
    "    validation_data=(X_test_sc, y_test), \n",
    "    epochs=100,\n",
    "    batch_size=None\n",
    ")"
   ]
  },
  {
   "cell_type": "code",
   "execution_count": null,
   "id": "62207cdb-dddc-4176-8d1b-fbc5bac37b2d",
   "metadata": {},
   "outputs": [],
   "source": [
    "model.predict(X_test_sc)"
   ]
  },
  {
   "cell_type": "code",
   "execution_count": null,
   "id": "7669536c-2efd-4f51-b80e-3892813d15e3",
   "metadata": {},
   "outputs": [],
   "source": [
    "model.evaluate(X_test_sc, y_test) # kind of like .score() in sklearn"
   ]
  },
  {
   "cell_type": "markdown",
   "id": "3835f145-eeba-4ed0-8a4c-0fef69e40b7b",
   "metadata": {},
   "source": [
    "## Annie"
   ]
  },
  {
   "cell_type": "markdown",
   "id": "08eeb6d4-f6c7-4279-a5d3-9eb523f6d4dc",
   "metadata": {},
   "source": [
    "### KNN and Gradient Boosting Classifier"
   ]
  },
  {
   "cell_type": "code",
   "execution_count": null,
   "id": "6d78506b-4290-4eab-a52d-a15825213d9b",
   "metadata": {},
   "outputs": [],
   "source": [
    "df = pd.read_csv('../Data/salary_cleaned.csv')\n",
    "df.head()"
   ]
  },
  {
   "cell_type": "code",
   "execution_count": null,
   "id": "6cd9bdcb-2bbf-486a-b94a-95f1b2c204c9",
   "metadata": {},
   "outputs": [],
   "source": [
    "df.info()"
   ]
  },
  {
   "cell_type": "code",
   "execution_count": null,
   "id": "bee6fab1-e35c-418e-a5be-c0d333e5a5f5",
   "metadata": {},
   "outputs": [],
   "source": [
    "# convert year and month from integer to string\n",
    "df['year'] = df['year'].astype(str)\n",
    "df['month'] = df['month'].astype(str)\n",
    "df.info()"
   ]
  },
  {
   "cell_type": "code",
   "execution_count": null,
   "id": "233757b7-e12e-4147-8041-a3e330c9f7f5",
   "metadata": {},
   "outputs": [],
   "source": [
    "df['location'].value_counts(normalize=True)"
   ]
  },
  {
   "cell_type": "code",
   "execution_count": null,
   "id": "46154a8e-ed9f-42ef-933d-e6ab236c1aa3",
   "metadata": {},
   "outputs": [],
   "source": [
    "# create \n",
    "features_all = ['company', 'title', 'location', 'yearsofexperience', 'yearsatcompany', 'year', 'month', 'year_month', 'state_short', 'inflation_rate', 'inflation_rate_3mos', 'employment_rate', 'employment_rate_3mos']\n",
    "features_short = ['company', 'title', 'yearsofexperience', 'yearsatcompany', 'year', 'month', 'state', 'inflation_rate', 'inflation_rate_3mos', 'employment_rate', 'employment_rate_3mos']\n",
    "\n",
    "X = df[features_short]\n",
    "y = df['totalyearlycompensation']\n",
    "X.shape, y.shape"
   ]
  },
  {
   "cell_type": "code",
   "execution_count": null,
   "id": "26cd5c1e-1a15-44a7-b69c-c699f1ab8fb2",
   "metadata": {},
   "outputs": [],
   "source": [
    "X_train, X_test, y_train, y_test = train_test_split(X, y, random_state=42)\n",
    "X_train.shape, y_train.shape, X_test.shape, y_test.shape"
   ]
  },
  {
   "cell_type": "code",
   "execution_count": null,
   "id": "02984373-3ec7-48b0-a632-d98322e6b4cc",
   "metadata": {},
   "outputs": [],
   "source": [
    "X_train.head()"
   ]
  },
  {
   "cell_type": "markdown",
   "id": "1d8136b4-f661-413b-8b92-ed6e490d4747",
   "metadata": {},
   "source": [
    "#### Transform Data: Standardize and OneHotEncoding"
   ]
  },
  {
   "cell_type": "code",
   "execution_count": null,
   "id": "77eb9b98-f1c9-4acf-8556-136de791ee7b",
   "metadata": {},
   "outputs": [],
   "source": [
    "ct = ColumnTransformer([\n",
    "    ('sc', StandardScaler(), make_column_selector(dtype_include=np.number)),\n",
    "    #('ohe', OneHotEncoder(handle_unknown='ignore'), make_column_selector(dtype_include=object)),\n",
    "    #('ohe', OneHotEncoder(handle_unknown='ignore'), ['company','title','year','month','state']),\n",
    "    ('ohe', OneHotEncoder(handle_unknown='ignore'), [0,1,6])\n",
    "    ])\n",
    "\n",
    "X_train_ct = ct.fit_transform(X_train)\n",
    "X_test_ct = ct.transform(X_test)"
   ]
  },
  {
   "cell_type": "code",
   "execution_count": null,
   "id": "b0e22b21-9dbd-4f25-bab6-81cce49c1b58",
   "metadata": {},
   "outputs": [],
   "source": [
    "X_train_ct.shape"
   ]
  },
  {
   "cell_type": "code",
   "execution_count": null,
   "id": "e2513397-c20f-4664-962e-4bbb453ee9d6",
   "metadata": {},
   "outputs": [],
   "source": [
    "X_train"
   ]
  },
  {
   "cell_type": "code",
   "execution_count": null,
   "id": "121ef9e3-b30c-40ad-80b4-394c72eb32c1",
   "metadata": {},
   "outputs": [],
   "source": [
    "ct.get_feature_names_out()"
   ]
  },
  {
   "cell_type": "markdown",
   "id": "1bd4c992-62b9-4746-b9e0-9d10bc5d49cf",
   "metadata": {},
   "source": [
    "### KNN"
   ]
  },
  {
   "cell_type": "code",
   "execution_count": null,
   "id": "61aeeb4d-f0c4-4c53-a3ab-e2a58d1fc80a",
   "metadata": {},
   "outputs": [],
   "source": [
    "knn = KNeighborsRegressor(n_jobs=-1)\n",
    "\n",
    "knn_params = {\n",
    "    'n_neighbors': [3,5,7,9,11,13,15,17,19]\n",
    "    ,'weights': ['uniform', 'distance']\n",
    "    ,'p': [1,2]   # this one makes the training time much longer, and didn't improve R2 significantly\n",
    "}\n",
    "\n",
    "gs_knn = GridSearchCV(estimator = knn,\n",
    "                     param_grid = knn_params,\n",
    "                     cv = 5)\n",
    "\n",
    "# train the model\n",
    "\n",
    "print(datetime.datetime.now())\n",
    "\n",
    "gs_knn.fit(X_train_ct, y_train)\n",
    "\n",
    "print(datetime.datetime.now())\n",
    "print()"
   ]
  },
  {
   "cell_type": "code",
   "execution_count": null,
   "id": "9f814284-aa19-4404-8d69-af4225ba65d8",
   "metadata": {},
   "outputs": [],
   "source": [
    "# predict\n",
    "knn_pred_train = gs_knn.predict(X_train_ct)\n",
    "knn_pred_test = gs_knn.predict(X_test_ct)\n",
    "\n",
    "# evaluate\n",
    "gs_knn_R2_train = gs_knn.score(X_train_ct, y_train)\n",
    "gs_knn_R2_test = gs_knn.score(X_test_ct, y_test)\n",
    "\n",
    "print(f'gs_knn_R2_train: {round(gs_knn_R2_train, 4)}')\n",
    "print(f'gs_knn_R2_test: {round(gs_knn_R2_test, 4)}')"
   ]
  },
  {
   "cell_type": "code",
   "execution_count": null,
   "id": "09185168-8ea5-4f2b-b7d4-9e5aa8ee0fe1",
   "metadata": {},
   "outputs": [],
   "source": [
    "gs_knn_mse_train = metrics.mean_squared_error(y_train, knn_pred_train)\n",
    "gs_knn_mse_test = metrics.mean_squared_error(y_test, knn_pred_test)\n",
    "\n",
    "print(f'gs_knn_mse_train: {round(gs_knn_mse_train, 4)}')\n",
    "print(f'gs_knn_mse_test: {round(gs_knn_mse_test, 4)}')"
   ]
  },
  {
   "cell_type": "code",
   "execution_count": null,
   "id": "dd21c290-afeb-4f8a-a091-bf69923fd455",
   "metadata": {},
   "outputs": [],
   "source": [
    "perf_dict = {\n",
    "    'R2':[gs_knn_R2_train, gs_knn_R2_test],\n",
    "    'mse':[gs_knn_mse_train, gs_knn_mse_test]\n",
    "}"
   ]
  },
  {
   "cell_type": "code",
   "execution_count": null,
   "id": "6c921738-6114-44fe-b54e-689f38e462e6",
   "metadata": {},
   "outputs": [],
   "source": [
    "perf_df = pd.DataFrame(perf_dict, index=['Train','Test'])\n"
   ]
  },
  {
   "cell_type": "code",
   "execution_count": null,
   "id": "3941971d-3fcc-42eb-a081-5b8f3f4d2735",
   "metadata": {},
   "outputs": [],
   "source": [
    "gs_knn.best_estimator_"
   ]
  },
  {
   "cell_type": "markdown",
   "id": "dfe28875-fb26-44e3-a90c-cd6bc0b2f9f6",
   "metadata": {},
   "source": [
    "#### Pickling and Saving the model"
   ]
  },
  {
   "cell_type": "code",
   "execution_count": null,
   "id": "a7b6d301-5eee-44f5-9773-4c2bf517c8f2",
   "metadata": {},
   "outputs": [],
   "source": [
    "with open('../Models/totalcomp_gs_knn.pkl', 'wb') as f:\n",
    "    pickle.dump(gs_knn, f)"
   ]
  },
  {
   "cell_type": "code",
   "execution_count": null,
   "id": "ac8525f0-66de-45bf-b75b-5e3deb099269",
   "metadata": {},
   "outputs": [],
   "source": [
    "'''\n",
    "with open('../Models/totalcomp_gs_knn.pkl', 'rb') as f:\n",
    "    gs_knn = pickle.load(f)\n",
    "'''"
   ]
  },
  {
   "cell_type": "code",
   "execution_count": null,
   "id": "ebe9a59a-21fc-4036-b923-f643efb30d39",
   "metadata": {},
   "outputs": [],
   "source": [
    "#gs_knn.cv_results_"
   ]
  },
  {
   "cell_type": "code",
   "execution_count": null,
   "id": "a1d0280e-67ce-4fa3-bdef-cab90398e2fc",
   "metadata": {},
   "outputs": [],
   "source": [
    "#pd.DataFrame(gs_knn.cv_results_)"
   ]
  },
  {
   "cell_type": "markdown",
   "id": "05059f5a-c189-40df-90a5-24dbba016ad5",
   "metadata": {},
   "source": [
    "**Observation**: \n",
    "1. Comparing the R2 score and mse between the training and testing sets, the model is very overfit.\n",
    "2. The best model from grid search CV uses 13 nearest neighbors, p=1, and distance as weights."
   ]
  },
  {
   "cell_type": "markdown",
   "id": "35df2514-9ad3-406b-8601-b06f2ac3743d",
   "metadata": {},
   "source": [
    "### Gradient Boosting Classifier"
   ]
  },
  {
   "cell_type": "markdown",
   "id": "8decd4e0-6f77-4696-bdd7-0954e8b50855",
   "metadata": {},
   "source": [
    "#### No Gridsearch"
   ]
  },
  {
   "cell_type": "code",
   "execution_count": null,
   "id": "488a0cc2-abbc-4afd-bced-7e08696e035f",
   "metadata": {},
   "outputs": [],
   "source": [
    "# fit the model\n",
    "gbr = GradientBoostingRegressor(n_estimators=400,\n",
    "                                max_depth=3,\n",
    "                                max_features=800,\n",
    "                                random_state=42)\n",
    "\n",
    "print(datetime.datetime.now())\n",
    "\n",
    "gbr.fit(X_train_ct, y_train)\n",
    "\n",
    "print(datetime.datetime.now())"
   ]
  },
  {
   "cell_type": "code",
   "execution_count": null,
   "id": "0f2513b2-97f0-4724-b749-0379e5ce077f",
   "metadata": {},
   "outputs": [],
   "source": [
    "# predict\n",
    "gbr_pred_train = gbr.predict(X_train_ct)\n",
    "gbr_pred_test = gbr.predict(X_test_ct)\n",
    "\n",
    "# evaluate\n",
    "gbr_R2_train = gbr.score(X_train_ct, y_train)\n",
    "gbr_R2_test = gbr.score(X_test_ct, y_test)\n",
    "\n",
    "gbr_mse_train = metrics.mean_squared_error(y_train, gbr_pred_train)\n",
    "gbr_mse_test = metrics.mean_squared_error(y_test, gbr_pred_test)\n",
    "\n",
    "gbr_perf_dict = {\n",
    "    'R2': [gbr_R2_train, gbr_R2_test],\n",
    "    'MSE': [gbr_mse_train, gbr_mse_test]\n",
    "}\n",
    "\n",
    "gbr_perf_df = pd.DataFrame(gbr_perf_dict, index=['Train','Test'])\n",
    "gbr_perf_df.T"
   ]
  },
  {
   "cell_type": "markdown",
   "id": "f5cbe46e-6d11-4069-9071-73f76422ae54",
   "metadata": {},
   "source": [
    "#### GridSearchCV"
   ]
  },
  {
   "cell_type": "markdown",
   "id": "11f71f9c-e480-4ba2-9d1e-6ec044cbca55",
   "metadata": {},
   "source": [
    "##### GridSearch 0 \n",
    "Model No. 0: killed after running for 19 hours"
   ]
  },
  {
   "cell_type": "markdown",
   "id": "29b1783a-a98b-48ff-9414-feddc1f53c5b",
   "metadata": {},
   "source": [
    "##### GridSearch 1"
   ]
  },
  {
   "cell_type": "code",
   "execution_count": null,
   "id": "b74c79e2-58f3-44a4-8788-b72b4c816b97",
   "metadata": {},
   "outputs": [],
   "source": [
    "# build the grid search for hyperparameters \n",
    "\n",
    "gbr = GradientBoostingRegressor(random_state=42)\n",
    "\n",
    "gbr_params = {\n",
    "    'n_estimators': [300,400,500],\n",
    "    #'learning_rate': [0.01, 0.1],\n",
    "    'max_depth': [5,6,7,8],\n",
    "    #'min_samples_split': [5,7,10],\n",
    "    #'min_samples_leaf': [2,3,5],\n",
    "    'max_features': [100,150,200]\n",
    "}\n",
    "\n",
    "gs_gbr = GridSearchCV(gbr,\n",
    "                     gbr_params,\n",
    "                     cv=5)\n",
    "\n",
    "# train\n",
    "\n",
    "print(datetime.datetime.now())\n",
    "\n",
    "gs_gbr.fit(X_train_ct, y_train)\n",
    "\n",
    "print(datetime.datetime.now())"
   ]
  },
  {
   "cell_type": "code",
   "execution_count": null,
   "id": "6fbbd656-ceb3-421b-ba0c-7d3124eb3843",
   "metadata": {},
   "outputs": [],
   "source": [
    "# predict\n",
    "\n",
    "gs_gbr_pred_train = gs_gbr.predict(X_train_ct)\n",
    "gs_gbr_pred_test = gs_gbr.predict(X_test_ct)\n",
    "\n",
    "# evaluate\n",
    "\n",
    "gs_gbr_R2_train = gs_gbr.score(X_train_ct, y_train)\n",
    "gs_gbr_R2_test = gs_gbr.score(X_test_ct, y_test)\n",
    "\n",
    "print(f'gs_gbr_R2_train: {round(gs_gbr_R2_train, 4)}')\n",
    "print(f'gs_gbr_R2_test: {round(gs_gbr_R2_test, 4)}')\n",
    "print()\n",
    "\n",
    "gs_gbr_mse_train = metrics.mean_squared_error(y_train, gs_gbr_pred_train)\n",
    "gs_gbr_mse_test = metrics.mean_squared_error(y_test, gs_gbr_pred_test)\n",
    "\n",
    "print(f'gs_gbr_mse_train: {round(gs_gbr_mse_train, 4)}')\n",
    "print(f'gs_gbr_mse_test: {round(gs_gbr_mse_test, 4)}')\n",
    "\n",
    "gs_gbr_perf_dict = {\n",
    "    'R2': [gs_gbr_R2_train, gs_gbr_R2_test],\n",
    "    'MSE': [gs_gbr_mse_train, gs_gbr_mse_test]\n",
    "}\n",
    "\n",
    "gs_gbr_perf_df = pd.DataFrame(gs_gbr_perf_dict, index=['Train','Test'])\n",
    "gs_gbr_perf_df.T"
   ]
  },
  {
   "cell_type": "code",
   "execution_count": null,
   "id": "65a480f7-99f0-497d-9799-9b49d2ab4e6d",
   "metadata": {},
   "outputs": [],
   "source": [
    "gs_gbr.best_estimator_"
   ]
  },
  {
   "cell_type": "code",
   "execution_count": null,
   "id": "698f2ddc-9cb7-473c-9bbb-32fcbf3a643a",
   "metadata": {},
   "outputs": [],
   "source": [
    "gs_gbr.best_score_"
   ]
  },
  {
   "cell_type": "code",
   "execution_count": null,
   "id": "cf9f4306-f86f-4d96-a043-8d8996523050",
   "metadata": {},
   "outputs": [],
   "source": [
    "# pd.DataFrame(gs_gbr.cv_results_)"
   ]
  },
  {
   "cell_type": "markdown",
   "id": "ac143cfb-e455-4881-8d3d-95e710445b32",
   "metadata": {},
   "source": [
    "##### GridSearch 2"
   ]
  },
  {
   "cell_type": "code",
   "execution_count": null,
   "id": "719f1ab0-9cc4-4d1f-8486-bd099e793469",
   "metadata": {},
   "outputs": [],
   "source": [
    "# build the grid search for hyperparameters \n",
    "\n",
    "gbr2 = GradientBoostingRegressor(random_state=42)\n",
    "\n",
    "gbr2_params = {\n",
    "    'n_estimators': [400],\n",
    "    #'learning_rate': [0.01, 0.1],\n",
    "    'max_depth': [3,4,5,6],\n",
    "    #'min_samples_split': [5,7,10],\n",
    "    #'min_samples_leaf': [2,3,5],\n",
    "    'max_features': [200, 300]\n",
    "}\n",
    "\n",
    "gs_gbr2 = GridSearchCV(gbr2,\n",
    "                     gbr2_params,\n",
    "                     cv=5)\n",
    "\n",
    "# train\n",
    "\n",
    "print(datetime.datetime.now())\n",
    "\n",
    "gs_gbr2.fit(X_train_ct, y_train)\n",
    "\n",
    "print(datetime.datetime.now())"
   ]
  },
  {
   "cell_type": "code",
   "execution_count": null,
   "id": "ec207cc6-6c8c-4686-958b-36b90cd80ac9",
   "metadata": {},
   "outputs": [],
   "source": [
    "# predict\n",
    "\n",
    "gs_gbr2_pred_train = gs_gbr2.predict(X_train_ct)\n",
    "gs_gbr2_pred_test = gs_gbr2.predict(X_test_ct)\n",
    "\n",
    "# evaluate\n",
    "\n",
    "gs_gbr2_R2_train = gs_gbr2.score(X_train_ct, y_train)\n",
    "gs_gbr2_R2_test = gs_gbr2.score(X_test_ct, y_test)\n",
    "\n",
    "print(f'gs_gbr2_R2_train: {round(gs_gbr2_R2_train, 4)}')\n",
    "print(f'gs_gbr2_R2_test: {round(gs_gbr2_R2_test, 4)}')\n",
    "print()\n",
    "\n",
    "gs_gbr2_mse_train = metrics.mean_squared_error(y_train, gs_gbr2_pred_train)\n",
    "gs_gbr2_mse_test = metrics.mean_squared_error(y_test, gs_gbr2_pred_test)\n",
    "\n",
    "print(f'gs_gbr2_mse_train: {round(gs_gbr2_mse_train, 4)}')\n",
    "print(f'gs_gbr2_mse_test: {round(gs_gbr2_mse_test, 4)}')\n",
    "\n",
    "gs_gbr2_perf_dict = {\n",
    "    'R2': [gs_gbr2_R2_train, gs_gbr2_R2_test],\n",
    "    'MSE': [gs_gbr2_mse_train, gs_gbr2_mse_test]\n",
    "}\n",
    "\n",
    "gs_gbr2_perf_df = pd.DataFrame(gs_gbr2_perf_dict, index=['Train','Test'])\n",
    "gs_gbr2_perf_df.T"
   ]
  },
  {
   "cell_type": "code",
   "execution_count": null,
   "id": "76585dcc-2efa-43fa-9689-000a3f404300",
   "metadata": {},
   "outputs": [],
   "source": [
    "gs_gbr2.best_estimator_"
   ]
  },
  {
   "cell_type": "code",
   "execution_count": null,
   "id": "0e462739-2999-423b-ad77-7579b57e927a",
   "metadata": {},
   "outputs": [],
   "source": [
    "# pd.DataFrame(gs_gbr2.cv_results_)"
   ]
  },
  {
   "cell_type": "markdown",
   "id": "37d83cb5-bd7f-48ab-9a3c-c3af4ff46eee",
   "metadata": {},
   "source": [
    "##### Pickling and Saving the Model"
   ]
  },
  {
   "cell_type": "code",
   "execution_count": null,
   "id": "b6940e31-04cb-489f-8a25-d560500c6399",
   "metadata": {},
   "outputs": [],
   "source": [
    "with open('../Models/totalcomp_gs_gbr2.pkl', 'wb') as f:\n",
    "    pickle.dump(gs_gbr2, f)"
   ]
  },
  {
   "cell_type": "code",
   "execution_count": null,
   "id": "9e8db8ad-e282-49e7-8aae-312c34423010",
   "metadata": {},
   "outputs": [],
   "source": [
    "with open('../Models/totalcomp_gs_gbr2.pkl', 'rb') as f:\n",
    "    gs_gbr2 = pickle.load(f)"
   ]
  },
  {
   "cell_type": "code",
   "execution_count": null,
   "id": "bd252201-37bc-4375-8fae-d82219166178",
   "metadata": {},
   "outputs": [],
   "source": [
    "new_data = {\n",
    "    'company': 'Google', \n",
    "    'title': 'Data Scientist', \n",
    "    'yearsofexperience': '1', \n",
    "    'yearsatcompany': '0.1', \n",
    "    'year': '2020', \n",
    "    'month': '9', \n",
    "    'state': 'California', \n",
    "    'inflation_rate': '0.3', \n",
    "    'inflation_rate_3mos': '0.2', \n",
    "    'employment_rate': '0.99', \n",
    "    'employment_rate_3mos': '0.98'\n",
    "}\n",
    "\n",
    "new_data_df = pd.DataFrame(new_data, index=[0])\n",
    "new_data_df"
   ]
  },
  {
   "cell_type": "code",
   "execution_count": null,
   "id": "56b7d338-8721-44c6-b9c4-cd17dd040eb5",
   "metadata": {},
   "outputs": [],
   "source": [
    "new_data_df_ct = ct.transform(new_data_df)\n",
    "print(new_data_df_ct.shape)\n",
    "\n",
    "pred_gs_gbr2_new_data = gs_gbr2.predict(new_data_df_ct)\n",
    "pred_gs_gbr2_new_data"
   ]
  },
  {
   "cell_type": "markdown",
   "id": "bcff4149-5cc2-406e-95f7-84fccc3e2a8b",
   "metadata": {},
   "source": [
    "## Sileshi"
   ]
  },
  {
   "cell_type": "code",
   "execution_count": null,
   "id": "7dbc7f22-a9b8-48dd-bdb5-0d0fed6b7821",
   "metadata": {},
   "outputs": [],
   "source": [
    "# Loading dataset\n",
    "df = pd.read_csv('./Data/salary_cleaned.csv')\n",
    "df.head()"
   ]
  },
  {
   "cell_type": "code",
   "execution_count": null,
   "id": "bedfb1e4-2c00-4694-8ec4-8431a5ac4d95",
   "metadata": {},
   "outputs": [],
   "source": [
    "df.drop(columns = ['timestamp', 'location','level', 'timestamp_3mos', 'state'], inplace = True)"
   ]
  },
  {
   "cell_type": "code",
   "execution_count": null,
   "id": "ae154ae4-ce57-4223-a20e-062a6ee436d2",
   "metadata": {},
   "outputs": [],
   "source": [
    "X = df[['company', 'title', 'yearsofexperience', 'yearsatcompany', 'year', 'month', 'state_short', 'inflation_rate',\n",
    "            'inflation_rate_3mos', 'employment_rate', 'employment_rate_3mos']].copy()\n",
    "X_dummy = pd.get_dummies(X, columns = ['company', 'title', 'state_short'], drop_first = True)\n",
    "\n",
    "y = df[['totalyearlycompensation']].copy()\n",
    "\n",
    "X_dummy.head()"
   ]
  },
  {
   "cell_type": "code",
   "execution_count": null,
   "id": "2650f94b-aeb4-4616-a0f8-6e8142b04e58",
   "metadata": {},
   "outputs": [],
   "source": [
    "X_train, X_test, y_train, y_test = train_test_split(X_dummy, y, test_size = 0.3, random_state = 42)"
   ]
  },
  {
   "cell_type": "code",
   "execution_count": null,
   "id": "a38a3890-670c-4240-94f8-56f1ae35d63a",
   "metadata": {},
   "outputs": [],
   "source": [
    "#Feature Scaling\n",
    "\n",
    "sc = StandardScaler()\n",
    "\n",
    "X_train_ct = sc.fit_transform(X_train)\n",
    "X_test_ct = sc.transform(X_test)\n"
   ]
  },
  {
   "cell_type": "markdown",
   "id": "11c0f265-73a0-406b-a2f6-d2928ac391c8",
   "metadata": {},
   "source": [
    "### Linear Regression"
   ]
  },
  {
   "cell_type": "code",
   "execution_count": null,
   "id": "8d8ae3f2-3943-4db9-99b1-301ea556c382",
   "metadata": {},
   "outputs": [],
   "source": [
    "lr = LinearRegression()\n",
    "lr.fit(X_train_ct,y_train)"
   ]
  },
  {
   "cell_type": "code",
   "execution_count": null,
   "id": "2f1a3984-e4c3-497f-9635-3bd26d143071",
   "metadata": {},
   "outputs": [],
   "source": [
    "lr.score(X_train_ct,y_train), lr.score(X_test_ct,y_test)\n"
   ]
  },
  {
   "cell_type": "code",
   "execution_count": null,
   "id": "52aad6cf-570b-4506-a6f3-902a5a9ce5d1",
   "metadata": {},
   "outputs": [],
   "source": [
    "def display_R2_scores(model, X_train_ct, y_train, X_test_ct, y_test):\n",
    "    print(f'The mean cross validation score: {round(cross_val_score(model, X_train_ct, y_train).mean(),4)}.')\n",
    "    print(f'Training score: {round(model.score(X_train_ct, y_train), 4)}.')\n",
    "    print(f'Testing score: {round(model.score(X_test_ct, y_test),4)}.')"
   ]
  },
  {
   "cell_type": "code",
   "execution_count": null,
   "id": "2dd02268-d6ab-4457-9a5d-2fc82fb4f475",
   "metadata": {},
   "outputs": [],
   "source": [
    "display_R2_scores(lr, X_train_ct, y_train, X_test_ct, y_test)"
   ]
  },
  {
   "cell_type": "code",
   "execution_count": null,
   "id": "952ef698-0dbc-4a76-a07c-6b40fe0cbe50",
   "metadata": {},
   "outputs": [],
   "source": [
    "pd.DataFrame(list(zip(X.columns, lr.coef_)), columns=['features', 'coefficients']).sort_values(by='coefficients', ascending=False).tail()"
   ]
  },
  {
   "cell_type": "code",
   "execution_count": null,
   "id": "56e7dd79-9eb7-4976-90ce-620791e72cd8",
   "metadata": {},
   "outputs": [],
   "source": [
    "intercept = lr.intercept_\n",
    "intercept"
   ]
  },
  {
   "cell_type": "code",
   "execution_count": null,
   "id": "0908cddf-1221-4eaf-a5f1-7d7001ef8ebd",
   "metadata": {},
   "outputs": [],
   "source": [
    "lr_preds = lr.predict(X_test_ct)"
   ]
  },
  {
   "cell_type": "code",
   "execution_count": null,
   "id": "37d59991-e6a3-4706-902f-6cbf27315287",
   "metadata": {},
   "outputs": [],
   "source": [
    "# training data mse\n",
    "lr_predstr = lr.predict(X_train_ct)\n",
    "\n",
    "# testing data mse\n",
    "lr_predstst = lr.predict(X_test_ct)"
   ]
  },
  {
   "cell_type": "code",
   "execution_count": null,
   "id": "2dffe501-16cf-4aad-9efa-a5e97cc2296c",
   "metadata": {},
   "outputs": [],
   "source": [
    "print(round(metrics.mean_squared_error(y_test,lr_predstst), 4))"
   ]
  },
  {
   "cell_type": "markdown",
   "id": "d50efd5d-0c02-44aa-b487-ecf223b91dfd",
   "metadata": {},
   "source": [
    "### Lasso"
   ]
  },
  {
   "cell_type": "code",
   "execution_count": null,
   "id": "70d39ef9-b06a-438f-924d-63a8e05c7776",
   "metadata": {},
   "outputs": [],
   "source": [
    "l_alphas = np.logspace(-1, 0,100)\n",
    "\n",
    "lasso_cv = LassoCV(alphas=l_alphas, cv=5, n_jobs=-1)\n",
    "\n",
    "lasso_cv.fit(X_train_ct, y_train);"
   ]
  },
  {
   "cell_type": "code",
   "execution_count": null,
   "id": "935ec00e-4429-465a-b096-d26735d8f4ce",
   "metadata": {},
   "outputs": [],
   "source": [
    "display_R2_scores(lasso_cv, X_train_ct, y_train, X_test_ct, y_test)"
   ]
  },
  {
   "cell_type": "code",
   "execution_count": null,
   "id": "1cb4a857-d0a1-4dc0-b0cb-4d7aee199d33",
   "metadata": {},
   "outputs": [],
   "source": [
    "# training data mse\n",
    "lasso_predstr = lasso_cv.predict(X_train_ct)\n",
    "\n",
    "# testing data mse\n",
    "lasso_predstst = lasso_cv.predict(X_test_ct)"
   ]
  },
  {
   "cell_type": "markdown",
   "id": "ded42c40-2df8-4e51-adc8-7552c59cf490",
   "metadata": {},
   "source": [
    "### Ridge"
   ]
  },
  {
   "cell_type": "code",
   "execution_count": null,
   "id": "cad478fa-c83e-4094-90c8-7de88f9a1a0c",
   "metadata": {},
   "outputs": [],
   "source": [
    "# Ridge\n",
    "\n",
    "r_alphas = np.logspace(0,5,100)\n",
    "\n",
    "ridge_cv = RidgeCV(alphas = r_alphas, scoring='r2', cv=5)\n",
    "\n",
    "ridge_cv.fit(X_train_ct, y_train);"
   ]
  },
  {
   "cell_type": "code",
   "execution_count": null,
   "id": "98b83211-2e2d-4d69-b2cc-b4d1e89f1006",
   "metadata": {},
   "outputs": [],
   "source": [
    "display_R2_scores(ridge_cv, X_train_ct, y_train, X_test_ct, y_test)"
   ]
  },
  {
   "cell_type": "code",
   "execution_count": null,
   "id": "81d2fccf-8493-49c2-a98c-9a446b819ece",
   "metadata": {},
   "outputs": [],
   "source": [
    "# training mse\n",
    "ridge_predstr = ridge_cv.predict(X_train_ct)\n",
    "print(f'\\nRidge train data MSE: {metrics.mean_squared_error(y_train,ridge_predstr)}.')\n",
    "\n",
    "# testing data mse\n",
    "ridge_predstst = ridge_cv.predict(X_test_ct)\n",
    "print(f'Ridge test data MSE: {metrics.mean_squared_error(y_test,ridge_predstst)}.')"
   ]
  },
  {
   "cell_type": "markdown",
   "id": "d773ca61-3811-41a2-b995-5edbf35be392",
   "metadata": {},
   "source": [
    "### Elastic Net"
   ]
  },
  {
   "cell_type": "code",
   "execution_count": null,
   "id": "569b0083-a545-4859-bb9b-16cb07297e28",
   "metadata": {},
   "outputs": [],
   "source": [
    "e_alphas = np.logspace(0,5,100)\n",
    "\n",
    "elastic_cv = ElasticNetCV(alphas = e_alphas, cv=5)\n",
    "\n",
    "elastic_cv.fit(X_train_ct, y_train);"
   ]
  },
  {
   "cell_type": "code",
   "execution_count": null,
   "id": "2f427549-00ca-4778-b502-b179630b0682",
   "metadata": {},
   "outputs": [],
   "source": [
    "display_R2_scores(elastic_cv, X_train_ct, y_train, X_test_ct, y_test)"
   ]
  },
  {
   "cell_type": "code",
   "execution_count": null,
   "id": "b9bbfac0-b38d-48cc-8771-59a2fc312f14",
   "metadata": {},
   "outputs": [],
   "source": [
    "# training data mse\n",
    "elastic_predstr = elastic_cv.predict(X_train_ct)\n",
    "\n",
    "# testing data mse\n",
    "elastic_predstst = elastic_cv.predict(X_test_ct)"
   ]
  },
  {
   "cell_type": "markdown",
   "id": "754d6f69-9b10-401e-9336-c8f53cfc3398",
   "metadata": {},
   "source": [
    "### MSE"
   ]
  },
  {
   "cell_type": "code",
   "execution_count": null,
   "id": "6b8ce8ad-9ebf-4bc1-923c-16fb8213fcb2",
   "metadata": {},
   "outputs": [],
   "source": [
    "# training/testing data mse\n",
    "print(\"MSE\".center(30, \"=\"))\n",
    "print(f'\\nLinear Regression train/test data MSE: {round(metrics.mean_squared_error(y_train,lr_predstr),4)}/{round(metrics.mean_squared_error(y_test,lr_predstst), 4)}, respectively.')\n",
    "print(f'Lasso train/test data MSE: {round(metrics.mean_squared_error(y_train,lasso_predstr),4)}/{round(metrics.mean_squared_error(y_test,lasso_predstst), 4)}, respectively.')\n",
    "print(f'Ridge train/test data MSE: {round(metrics.mean_squared_error(y_train,ridge_predstr),4)}/{round(metrics.mean_squared_error(y_test,ridge_predstst), 4)}, respectively.')\n",
    "print(f'Elastic Net train/test data MSE: {round(metrics.mean_squared_error(y_train,elastic_predstr),4)}/{round(metrics.mean_squared_error(y_test,elastic_predstst), 4)}, respectively.')\n"
   ]
  },
  {
   "cell_type": "markdown",
   "id": "a5cada6e-6660-4ebd-99f4-812b88ec81e9",
   "metadata": {},
   "source": [
    "### Final Scores"
   ]
  },
  {
   "cell_type": "code",
   "execution_count": null,
   "id": "4266b908-9251-407d-99c9-f32d577116b9",
   "metadata": {},
   "outputs": [],
   "source": [
    "print(\"Linear Regression\".center(30, \"=\"))\n",
    "display_R2_scores(lr, X_train_ct, y_train, X_test_ct, y_test)\n",
    "print()\n",
    "print(\"LASSO Regularization\".center(30, \"=\"))\n",
    "display_R2_scores(lasso_cv, X_train_ct, y_train, X_test_ct, y_test)\n",
    "\n",
    "print()\n",
    "print(\"Ridge Regularization\".center(30, \"=\"))\n",
    "display_R2_scores(ridge_cv, X_train_ct, y_train, X_test_ct, y_test)\n",
    "\n",
    "print()\n",
    "print(\"Elastic Net Regularization\".center(30, \"=\"))\n",
    "display_R2_scores(elastic_cv, X_train_ct, y_train, X_test_ct, y_test)\n"
   ]
  },
  {
   "cell_type": "markdown",
   "id": "103daa92-71fd-4fca-9d21-0cd0e77153a1",
   "metadata": {},
   "source": [
    "## Final Score\n",
    "\n",
    "|**Model**|**Training R^2 Score**|**Testing R^2 Score**|**RMSE (Train/Test)**|\n",
    "|--|--|--|--|\n",
    "|**Linear Regression**|0.5193|-0.7293Xe^23|8286.35/1224.82Xe^29|\n",
    "|**Lasso**|0.5182|0.5143|8305.30/8157.45|\n",
    "|**Ridge**|0.52|0.5097|8274.20/8234.28|\n",
    "|**Elastic Net**|0.4483|0.4499|9511.19/9238.88|"
   ]
  },
  {
   "cell_type": "code",
   "execution_count": null,
   "id": "45a4c4f9-d0d0-4ece-b0bd-69fa7a5dd97d",
   "metadata": {},
   "outputs": [],
   "source": [
    "intercept = ridge_cv.intercept_\n",
    "intercept"
   ]
  },
  {
   "cell_type": "markdown",
   "id": "d5a16c34-33a3-419d-8698-891ce11b5940",
   "metadata": {},
   "source": [
    "## Mason"
   ]
  },
  {
   "cell_type": "code",
   "execution_count": null,
   "id": "2a1ab9f7-3c61-405b-9f24-30211ec04771",
   "metadata": {},
   "outputs": [],
   "source": [
    "# Loading dataset\n",
    "df = pd.read_csv('../Data/salary_cleaned.csv')\n",
    "df.head()"
   ]
  },
  {
   "cell_type": "code",
   "execution_count": null,
   "id": "10061399-ffdb-4b05-9de8-9452de23f4b4",
   "metadata": {},
   "outputs": [],
   "source": [
    "# Converting Year and Month to string \n",
    "df['year'] = df['year'].astype(str)\n",
    "df['month'] = df['month'].astype(str)\n",
    "df.info()"
   ]
  },
  {
   "cell_type": "code",
   "execution_count": null,
   "id": "bffe8159-e7cb-45e1-b941-893cbf2a76d9",
   "metadata": {},
   "outputs": [],
   "source": [
    "# Features and target variable\n",
    "features = ['company', 'title', 'yearsofexperience', 'yearsatcompany', 'year', 'month', 'state_short', 'inflation_rate', 'inflation_rate_3mos', 'employment_rate', 'employment_rate_3mos']\n",
    "\n",
    "X = df[features]\n",
    "y = df['totalyearlycompensation']"
   ]
  },
  {
   "cell_type": "code",
   "execution_count": null,
   "id": "c90fe9ba-32cc-429d-a6fa-ba639af04e77",
   "metadata": {},
   "outputs": [],
   "source": [
    "# Train/Test Split\n",
    "\n",
    "X_train, X_test, y_train, y_test = train_test_split(X, y,random_state=42)"
   ]
  },
  {
   "cell_type": "code",
   "execution_count": null,
   "id": "9769bba4-6db9-42c3-9db3-c8907c37b588",
   "metadata": {},
   "outputs": [],
   "source": [
    "# ColumnTransformer\n",
    "ct = ColumnTransformer([\n",
    "    ('sc', StandardScaler(), make_column_selector(dtype_exclude=object)),\n",
    "    ('encoder', OneHotEncoder(handle_unknown='ignore'), ['company', 'title', 'state_short', 'year', 'month'])],\n",
    "    n_jobs=-1,\n",
    "    remainder='passthrough')"
   ]
  },
  {
   "cell_type": "code",
   "execution_count": null,
   "id": "2c6f11ec-0e2c-4bc7-9ab7-f9b94eec43c0",
   "metadata": {},
   "outputs": [],
   "source": [
    "X_train_ct = ct.fit_transform(X_train)\n",
    "X_test_ct = ct.transform(X_test)"
   ]
  },
  {
   "cell_type": "code",
   "execution_count": null,
   "id": "a7ea8fc2-179e-41f6-aca3-4d52957c4907",
   "metadata": {},
   "outputs": [],
   "source": [
    "X_train_ct.shape"
   ]
  },
  {
   "cell_type": "code",
   "execution_count": null,
   "id": "3fd37be0-3bbd-4b8d-9b3d-8133a10e809f",
   "metadata": {},
   "outputs": [],
   "source": [
    "X_test_ct.shape"
   ]
  },
  {
   "cell_type": "markdown",
   "id": "4da75f32-5508-480d-8347-c0521355827d",
   "metadata": {},
   "source": [
    "#### RandomForest Regression"
   ]
  },
  {
   "cell_type": "code",
   "execution_count": null,
   "id": "57f67fb7-98ee-4724-be23-a8c94626a8d9",
   "metadata": {
    "tags": []
   },
   "outputs": [],
   "source": [
    "# Instantiate RandomForestRegression\n",
    "rf = RandomForestRegressor()\n",
    "\n",
    "# Parameters\n",
    "rf_params={\n",
    "    'n_estimators':[100, 200],\n",
    "    'criterion': ['mse'],\n",
    "    'max_depth': [2, 5],\n",
    "    'min_samples_split': [2,4],\n",
    "    'min_samples_leaf': [1,3],\n",
    "    'random_state': [42]\n",
    "}\n",
    "\n",
    "# Instantiating RFR Gridsearch\n",
    "rf_gs = GridSearchCV(rf, rf_params, cv=5, verbose=1, n_jobs=-1)\n",
    "\n",
    "# Fitting GridSearch to the data\n",
    "rf_gs.fit(X_train_ct, y_train)"
   ]
  },
  {
   "cell_type": "code",
   "execution_count": null,
   "id": "e4334d50-a0ad-4425-a7ec-0c29e5747bd8",
   "metadata": {},
   "outputs": [],
   "source": [
    "# Train/Test Scores\n",
    "print(f'Best Train Score: {rf_gs.best_score_}')\n",
    "print(f'Best Test Score: {rf_gs. score(X_test_ct, y_test)}')\n",
    "\n",
    "# Best Parameters\n",
    "print(f'Best parameters: {rf_gs.best_params_}')\n",
    "\n",
    "# Best Estimators\n",
    "print(f'Best Estimators: {rf_gs.best_estimator_}')"
   ]
  },
  {
   "cell_type": "markdown",
   "id": "d0627fd4-31d3-4227-a6cd-d2b8cf43f4d4",
   "metadata": {},
   "source": [
    "#### AdaBoost Regression"
   ]
  },
  {
   "cell_type": "code",
   "execution_count": null,
   "id": "6c78c354-5271-4700-a975-71394cfca00d",
   "metadata": {
    "scrolled": true,
    "tags": []
   },
   "outputs": [],
   "source": [
    "# Instantiate AdaBoostRegressor\n",
    "abr = AdaBoostRegressor()\n",
    "\n",
    "# Parameters\n",
    "abr_params ={\n",
    "    'base_estimator': [None],\n",
    "    'n_estimators': [50, 100, 150, 200],\n",
    "    'learning_rate': [1, 3],\n",
    "    'loss': ['linear', 'square', 'exponential'],\n",
    "    'random_state': [42]\n",
    "}\n",
    "\n",
    "# Instantiate ABR GridSearch\n",
    "abr_gs = GridSearchCV(abr, abr_params, cv=5, verbose=1, n_jobs=-1)\n",
    "\n",
    "# Fitting Gridsearch to the data\n",
    "abr_gs.fit(X_train_ct, y_train)"
   ]
  },
  {
   "cell_type": "code",
   "execution_count": null,
   "id": "e378d9b5-672f-437a-a38c-1827cc2cf2e4",
   "metadata": {},
   "outputs": [],
   "source": [
    "# Train/Test Scores\n",
    "print(f'Best Train Score: {rf_gs.best_score_}')\n",
    "print(f'Best Test Score: {rf_gs.score(X_test_ct, y_test)}')\n",
    "\n",
    "# Best Parameters\n",
    "print(f'Best parameters: {rf_gs.best_params_}')\n",
    "\n",
    "# Best Estimators\n",
    "print(f'Best Estimators: {rf_gs.best_estimator_}')"
   ]
  }
 ],
 "metadata": {
  "kernelspec": {
   "display_name": "Python [conda env:dsi-111]",
   "language": "python",
   "name": "conda-env-dsi-111-py"
  },
  "language_info": {
   "codemirror_mode": {
    "name": "ipython",
    "version": 3
   },
   "file_extension": ".py",
   "mimetype": "text/x-python",
   "name": "python",
   "nbconvert_exporter": "python",
   "pygments_lexer": "ipython3",
   "version": "3.8.8"
  }
 },
 "nbformat": 4,
 "nbformat_minor": 5
}
