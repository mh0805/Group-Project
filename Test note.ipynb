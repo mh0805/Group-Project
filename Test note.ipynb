{
 "cells": [
  {
   "cell_type": "markdown",
   "id": "befdc2f3-23e1-4171-abba-f648da64391f",
   "metadata": {},
   "source": [
    "Hello team\n",
    "This is group project"
   ]
  },
  {
   "cell_type": "markdown",

   ]
  },
  {
   "cell_type": "code",
   "execution_count": null,
   "metadata": {},
   "outputs": [],
   "source": []
  },
  {
   "cell_type": "markdown",
   "id": "cb660875-5fb1-4d26-b70d-4b54f1fc1473",
   "metadata": {},
   "source": [
    "# HANS"
   ]
  },
  {
   "cell_type": "code",
   "execution_count": null,
   "id": "de73e389-f979-44f6-830b-f4e6423fb9be",
   "metadata": {},
   "outputs": [],
   "source": [
    "Annie addition"
   ]
  }
 ],
 "metadata": {
  "kernelspec": {
   "display_name": "Python 3",
   "language": "python",
   "name": "python3"
  },
  "language_info": {
   "codemirror_mode": {
    "name": "ipython",
    "version": 3
   },
   "file_extension": ".py",
   "mimetype": "text/x-python",
   "name": "python",
   "nbconvert_exporter": "python",
   "pygments_lexer": "ipython3",
   "version": "3.8.8"
  }
 },
 "nbformat": 4,
 "nbformat_minor": 5
}
