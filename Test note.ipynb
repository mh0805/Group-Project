{
 "cells": [
  {
   "cell_type": "markdown",
   "id": "befdc2f3-23e1-4171-abba-f648da64391f",
   "metadata": {},
   "source": [
    "Hello team\n",
    "This is group project"
   ]
  },
  {
   "cell_type": "code",
   "execution_count": null,
   "id": "55ab46fa-d8e5-4941-9035-63efa6a7623d",
   "metadata": {},
   "outputs": [],
   "source": []
  }
 ],
 "metadata": {
  "kernelspec": {
   "display_name": "Python 3",
   "language": "python",
   "name": "python3"
  },
  "language_info": {
   "codemirror_mode": {
    "name": "ipython",
    "version": 3
   },
   "file_extension": ".py",
   "mimetype": "text/x-python",
   "name": "python",
   "nbconvert_exporter": "python",
   "pygments_lexer": "ipython3",
   "version": "3.8.8"
  }
 },
 "nbformat": 4,
 "nbformat_minor": 5
}
