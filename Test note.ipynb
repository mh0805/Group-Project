{
 "cells": [
  {
   "cell_type": "markdown",
   "id": "befdc2f3-23e1-4171-abba-f648da64391f",
   "metadata": {},
   "source": [
    "Hello team\n",
    "This is group project"
   ]
  },
  {
   "cell_type": "markdown",
   "id": "b50ebc16-643d-492f-9d9c-1c71d44ddefa",
   "metadata": {},
   "source": [
    "## Imports bellow"
   ]
  },
  {
   "cell_type": "code",
   "execution_count": 1,
   "id": "c6126070-b09f-48fc-812c-eec68740ef02",
   "metadata": {},
   "outputs": [],
   "source": [
    "# This is where we import libraries\n",
    "#\n",
    "#\n",
    "#"
   ]
  },
  {
   "cell_type": "code",
   "execution_count": null,
   "id": "78f6ffd2-8280-4c2f-9d7a-d76314002ca8",
   "metadata": {},
   "outputs": [],
   "source": []
  },
  {
   "cell_type": "markdown",
   "id": "cb660875-5fb1-4d26-b70d-4b54f1fc1473",
   "metadata": {},
   "source": [
    "# HANS"
   ]
  },
  {
   "cell_type": "markdown",
   "id": "b52b19db-2458-47e6-8126-b89f58f8048a",
   "metadata": {},
   "source": [
    "Annie addition"
   ]
  },
  {
   "cell_type": "markdown",
   "id": "b04b35a1-9770-468e-8c30-9078a074f8ba",
   "metadata": {},
   "source": [
    "### Sileshi"
   ]
  },
  {
   "cell_type": "code",
   "execution_count": null,
   "id": "938ce7f7-f17b-47ef-b387-ba073554b7df",
   "metadata": {},
   "outputs": [],
   "source": []
  }
 ],
 "metadata": {
  "kernelspec": {
   "display_name": "Python 3",
   "language": "python",
   "name": "python3"
  },
  "language_info": {
   "codemirror_mode": {
    "name": "ipython",
    "version": 3
   },
   "file_extension": ".py",
   "mimetype": "text/x-python",
   "name": "python",
   "nbconvert_exporter": "python",
   "pygments_lexer": "ipython3",
   "version": "3.8.8"
  }
 },
 "nbformat": 4,
 "nbformat_minor": 5
}
