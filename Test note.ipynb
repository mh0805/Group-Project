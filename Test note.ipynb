{
 "cells": [
  {
   "cell_type": "markdown",
   "id": "befdc2f3-23e1-4171-abba-f648da64391f",
   "metadata": {},
   "source": [
    "Hello team\n",
    "This is group project"
   ]
  },
  {
   "cell_type": "markdown",
   "id": "76b7effd-4b01-42f4-9312-19254281468c",
   "metadata": {},
   "source": [
    "## Sileshi Hirpa"
   ]
  },
  {
   "cell_type": "code",
   "execution_count": null,
   "id": "2a3a37a8-17bc-49be-ad46-258e3a591dc7",
   "metadata": {},
   "outputs": [],
   "source": []
  }
 ],
 "metadata": {
  "kernelspec": {
   "display_name": "Python 3",
   "language": "python",
   "name": "python3"
  },
  "language_info": {
   "codemirror_mode": {
    "name": "ipython",
    "version": 3
   },
   "file_extension": ".py",
   "mimetype": "text/x-python",
   "name": "python",
   "nbconvert_exporter": "python",
   "pygments_lexer": "ipython3",
   "version": "3.8.8"
  }
 },
 "nbformat": 4,
 "nbformat_minor": 5
}
